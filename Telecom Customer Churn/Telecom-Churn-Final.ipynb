{
 "cells": [
  {
   "cell_type": "markdown",
   "id": "eb17f484-4884-442b-9cf0-8773d21792dd",
   "metadata": {
    "tags": [],
    "toc-hr-collapsed": true
   },
   "source": [
    "# Telecom Churn Prediction"
   ]
  },
  {
   "cell_type": "markdown",
   "id": "3064d183-0832-4498-bd4c-3cc4a16c797b",
   "metadata": {},
   "source": [
    "## Table of Contents"
   ]
  },
  {
   "cell_type": "markdown",
   "id": "d14bd53a-75be-4480-beb2-3fe95a244d2f",
   "metadata": {},
   "source": [
    "### [Intro and First Look](#Introduction)"
   ]
  },
  {
   "cell_type": "markdown",
   "id": "65adf38e-7fbf-4c8a-a497-7a5760920634",
   "metadata": {},
   "source": [
    "### [Clarifying Questions and Rough Plan](#Clarifying-questions) (interesting)"
   ]
  },
  {
   "cell_type": "markdown",
   "id": "3ed5b4b0-6451-4bef-9a1c-a20d22b9e1bd",
   "metadata": {},
   "source": [
    "### [Preprocessing](#Loading-and-preprocessing)"
   ]
  },
  {
   "cell_type": "markdown",
   "id": "1a7d669a-6621-4bf4-b641-280e8399849d",
   "metadata": {},
   "source": [
    "### [Feature Engineering](#Feature-engineering)"
   ]
  },
  {
   "cell_type": "markdown",
   "id": "9c76586d-e48c-4b9f-b870-2511a0afec69",
   "metadata": {},
   "source": [
    "### [Exploratory Data Analysis](#Exploratory-data-analysis)"
   ]
  },
  {
   "cell_type": "markdown",
   "id": "005a5efe-9b77-476c-934f-913eccae5edb",
   "metadata": {},
   "source": [
    "### [Try Machine Learning Models](#Try-machine-learning-models) (interesting)"
   ]
  },
  {
   "cell_type": "markdown",
   "id": "ddbab20a-b55c-4ee0-bbec-3a62f705c89d",
   "metadata": {},
   "source": [
    "### [Test Final Model](#Test-final-model)"
   ]
  },
  {
   "cell_type": "markdown",
   "id": "9c99e610-b6fb-4ac6-b46e-c27af0ed77ca",
   "metadata": {},
   "source": [
    "### [Conclusion and Solution Report](#Conclusion)"
   ]
  },
  {
   "cell_type": "markdown",
   "id": "263b657c-c760-42a8-97a4-e87abb2863b9",
   "metadata": {},
   "source": [
    "# Introduction"
   ]
  },
  {
   "cell_type": "code",
   "execution_count": 1,
   "id": "fe234a68-e5b3-450e-a369-179c901c4b7c",
   "metadata": {},
   "outputs": [],
   "source": [
    "# from sklearnex import patch_sklearn # Enhanced performance package for Intel processors\n",
    "# patch_sklearn()"
   ]
  },
  {
   "cell_type": "markdown",
   "id": "0c90ef29-8c59-45a0-b169-bd1c56163712",
   "metadata": {},
   "source": [
    "In this notebook, I will be performing very brief EDA and creating a work plan for the project. The goal is to forecast the churn of clients - specifically, determining when a particular client is about to leave so that they can be offered discounts and whatnot to discourage their exit. I will be loading in the data and checking it out, then ultimately training a machine learning model to estimate when a user will churn. AUC-ROC will be the primary metric and must be greater than 0.75, and accuracy will also be noted. I will perform the brunt of the preprocessing and EDA after the work plan has been submitted."
   ]
  },
  {
   "cell_type": "code",
   "execution_count": 2,
   "id": "20a51c59-904a-44dc-a1fe-b4fe7b6ff05d",
   "metadata": {},
   "outputs": [],
   "source": [
    "import pandas as pd\n",
    "import matplotlib.pyplot as plt\n",
    "import numpy as np\n",
    "import seaborn as sns"
   ]
  },
  {
   "cell_type": "code",
   "execution_count": 3,
   "id": "f9cbc6b8-a5c6-4a38-8fb4-5431ac1e5c5a",
   "metadata": {},
   "outputs": [],
   "source": [
    "phone = pd.read_csv('/datasets/final_provider/phone.csv')\n",
    "personal = pd.read_csv('/datasets/final_provider/personal.csv')\n",
    "internet = pd.read_csv('/datasets/final_provider/internet.csv')\n",
    "contract = pd.read_csv('/datasets/final_provider/contract.csv', parse_dates=['BeginDate', 'EndDate'], infer_datetime_format=True)"
   ]
  },
  {
   "cell_type": "markdown",
   "id": "1144dbac-19d1-456a-8466-160ef0e72648",
   "metadata": {},
   "source": [
    "Let's look at each table individually. I'll look for missing/duplicate values and check datatypes, and rather than fixing these issues right away like usual, I will include these fixes in my plan as part of preprocessing. I'll also make note of feature engineering ideas."
   ]
  },
  {
   "cell_type": "markdown",
   "id": "2b23c3c6-fb38-4ee1-9f50-7c9b00985cb0",
   "metadata": {
    "tags": [],
    "toc-hr-collapsed": true
   },
   "source": [
    "# First Look"
   ]
  },
  {
   "cell_type": "markdown",
   "id": "226886ea-eb62-4b02-9a54-e892a7096e30",
   "metadata": {
    "tags": []
   },
   "source": [
    "## Phone"
   ]
  },
  {
   "cell_type": "code",
   "execution_count": 4,
   "id": "e056e9d7-a121-44b9-94cb-9eed7eb9c06f",
   "metadata": {},
   "outputs": [
    {
     "name": "stdout",
     "output_type": "stream",
     "text": [
      "<class 'pandas.core.frame.DataFrame'>\n",
      "RangeIndex: 6361 entries, 0 to 6360\n",
      "Data columns (total 2 columns):\n",
      " #   Column         Non-Null Count  Dtype \n",
      "---  ------         --------------  ----- \n",
      " 0   customerID     6361 non-null   object\n",
      " 1   MultipleLines  6361 non-null   object\n",
      "dtypes: object(2)\n",
      "memory usage: 99.5+ KB\n"
     ]
    },
    {
     "data": {
      "text/html": [
       "<div>\n",
       "<style scoped>\n",
       "    .dataframe tbody tr th:only-of-type {\n",
       "        vertical-align: middle;\n",
       "    }\n",
       "\n",
       "    .dataframe tbody tr th {\n",
       "        vertical-align: top;\n",
       "    }\n",
       "\n",
       "    .dataframe thead th {\n",
       "        text-align: right;\n",
       "    }\n",
       "</style>\n",
       "<table border=\"1\" class=\"dataframe\">\n",
       "  <thead>\n",
       "    <tr style=\"text-align: right;\">\n",
       "      <th></th>\n",
       "      <th>customerID</th>\n",
       "      <th>MultipleLines</th>\n",
       "    </tr>\n",
       "  </thead>\n",
       "  <tbody>\n",
       "    <tr>\n",
       "      <th>0</th>\n",
       "      <td>5575-GNVDE</td>\n",
       "      <td>No</td>\n",
       "    </tr>\n",
       "    <tr>\n",
       "      <th>1</th>\n",
       "      <td>3668-QPYBK</td>\n",
       "      <td>No</td>\n",
       "    </tr>\n",
       "    <tr>\n",
       "      <th>2</th>\n",
       "      <td>9237-HQITU</td>\n",
       "      <td>No</td>\n",
       "    </tr>\n",
       "    <tr>\n",
       "      <th>3</th>\n",
       "      <td>9305-CDSKC</td>\n",
       "      <td>Yes</td>\n",
       "    </tr>\n",
       "    <tr>\n",
       "      <th>4</th>\n",
       "      <td>1452-KIOVK</td>\n",
       "      <td>Yes</td>\n",
       "    </tr>\n",
       "    <tr>\n",
       "      <th>...</th>\n",
       "      <td>...</td>\n",
       "      <td>...</td>\n",
       "    </tr>\n",
       "    <tr>\n",
       "      <th>6356</th>\n",
       "      <td>2569-WGERO</td>\n",
       "      <td>No</td>\n",
       "    </tr>\n",
       "    <tr>\n",
       "      <th>6357</th>\n",
       "      <td>6840-RESVB</td>\n",
       "      <td>Yes</td>\n",
       "    </tr>\n",
       "    <tr>\n",
       "      <th>6358</th>\n",
       "      <td>2234-XADUH</td>\n",
       "      <td>Yes</td>\n",
       "    </tr>\n",
       "    <tr>\n",
       "      <th>6359</th>\n",
       "      <td>8361-LTMKD</td>\n",
       "      <td>Yes</td>\n",
       "    </tr>\n",
       "    <tr>\n",
       "      <th>6360</th>\n",
       "      <td>3186-AJIEK</td>\n",
       "      <td>No</td>\n",
       "    </tr>\n",
       "  </tbody>\n",
       "</table>\n",
       "<p>6361 rows × 2 columns</p>\n",
       "</div>"
      ],
      "text/plain": [
       "      customerID MultipleLines\n",
       "0     5575-GNVDE            No\n",
       "1     3668-QPYBK            No\n",
       "2     9237-HQITU            No\n",
       "3     9305-CDSKC           Yes\n",
       "4     1452-KIOVK           Yes\n",
       "...          ...           ...\n",
       "6356  2569-WGERO            No\n",
       "6357  6840-RESVB           Yes\n",
       "6358  2234-XADUH           Yes\n",
       "6359  8361-LTMKD           Yes\n",
       "6360  3186-AJIEK            No\n",
       "\n",
       "[6361 rows x 2 columns]"
      ]
     },
     "execution_count": 4,
     "metadata": {},
     "output_type": "execute_result"
    }
   ],
   "source": [
    "phone.info()\n",
    "phone"
   ]
  },
  {
   "cell_type": "code",
   "execution_count": 5,
   "id": "c22abf8d-fbe5-4111-8529-cffc7a26ef9c",
   "metadata": {},
   "outputs": [
    {
     "data": {
      "text/html": [
       "<div>\n",
       "<style scoped>\n",
       "    .dataframe tbody tr th:only-of-type {\n",
       "        vertical-align: middle;\n",
       "    }\n",
       "\n",
       "    .dataframe tbody tr th {\n",
       "        vertical-align: top;\n",
       "    }\n",
       "\n",
       "    .dataframe thead th {\n",
       "        text-align: right;\n",
       "    }\n",
       "</style>\n",
       "<table border=\"1\" class=\"dataframe\">\n",
       "  <thead>\n",
       "    <tr style=\"text-align: right;\">\n",
       "      <th></th>\n",
       "      <th>customerID</th>\n",
       "      <th>MultipleLines</th>\n",
       "    </tr>\n",
       "  </thead>\n",
       "  <tbody>\n",
       "    <tr>\n",
       "      <th>count</th>\n",
       "      <td>6361</td>\n",
       "      <td>6361</td>\n",
       "    </tr>\n",
       "    <tr>\n",
       "      <th>unique</th>\n",
       "      <td>6361</td>\n",
       "      <td>2</td>\n",
       "    </tr>\n",
       "    <tr>\n",
       "      <th>top</th>\n",
       "      <td>8544-GOQSH</td>\n",
       "      <td>No</td>\n",
       "    </tr>\n",
       "    <tr>\n",
       "      <th>freq</th>\n",
       "      <td>1</td>\n",
       "      <td>3390</td>\n",
       "    </tr>\n",
       "  </tbody>\n",
       "</table>\n",
       "</div>"
      ],
      "text/plain": [
       "        customerID MultipleLines\n",
       "count         6361          6361\n",
       "unique        6361             2\n",
       "top     8544-GOQSH            No\n",
       "freq             1          3390"
      ]
     },
     "execution_count": 5,
     "metadata": {},
     "output_type": "execute_result"
    }
   ],
   "source": [
    "phone.describe()"
   ]
  },
  {
   "cell_type": "code",
   "execution_count": 6,
   "id": "7c0089b3-1865-4297-b010-5ecae529f1b2",
   "metadata": {},
   "outputs": [
    {
     "data": {
      "text/plain": [
       "0"
      ]
     },
     "execution_count": 6,
     "metadata": {},
     "output_type": "execute_result"
    }
   ],
   "source": [
    "phone.duplicated().sum()"
   ]
  },
  {
   "cell_type": "code",
   "execution_count": 7,
   "id": "299cd4a1-b698-4674-8bd3-8b6447d256c1",
   "metadata": {},
   "outputs": [
    {
     "data": {
      "text/plain": [
       "customerID       0\n",
       "MultipleLines    0\n",
       "dtype: int64"
      ]
     },
     "execution_count": 7,
     "metadata": {},
     "output_type": "execute_result"
    }
   ],
   "source": [
    "phone.isna().sum()"
   ]
  },
  {
   "cell_type": "code",
   "execution_count": 8,
   "id": "48b460b1-a940-4aba-9749-9f077a1a2e37",
   "metadata": {},
   "outputs": [
    {
     "name": "stdout",
     "output_type": "stream",
     "text": [
      "Collecting inflection\n",
      "  Downloading inflection-0.5.1-py2.py3-none-any.whl (9.5 kB)\n",
      "Installing collected packages: inflection\n",
      "Successfully installed inflection-0.5.1\n"
     ]
    },
    {
     "data": {
      "text/plain": [
       "'camel_case'"
      ]
     },
     "execution_count": 8,
     "metadata": {},
     "output_type": "execute_result"
    }
   ],
   "source": [
    "# Testing this function\n",
    "!pip install inflection\n",
    "from inflection import underscore\n",
    "underscore('CamelCase')"
   ]
  },
  {
   "cell_type": "markdown",
   "id": "0439dc12-0ad4-4226-83ce-a92100b22438",
   "metadata": {},
   "source": [
    "The dataset looks good, but the MultipleLines column should be Boolean. I will use the inflection.underscore function to change column names from camel case to snake case. I can join this phone data onto the eventual master dataset."
   ]
  },
  {
   "cell_type": "markdown",
   "id": "9b931e1e-9319-4fc1-a46d-58ad48dd7ede",
   "metadata": {
    "tags": []
   },
   "source": [
    "## Personal"
   ]
  },
  {
   "cell_type": "code",
   "execution_count": 9,
   "id": "fb45e30f-a1e2-4f67-9ad9-0df5a24da7fd",
   "metadata": {},
   "outputs": [
    {
     "name": "stdout",
     "output_type": "stream",
     "text": [
      "<class 'pandas.core.frame.DataFrame'>\n",
      "RangeIndex: 7043 entries, 0 to 7042\n",
      "Data columns (total 5 columns):\n",
      " #   Column         Non-Null Count  Dtype \n",
      "---  ------         --------------  ----- \n",
      " 0   customerID     7043 non-null   object\n",
      " 1   gender         7043 non-null   object\n",
      " 2   SeniorCitizen  7043 non-null   int64 \n",
      " 3   Partner        7043 non-null   object\n",
      " 4   Dependents     7043 non-null   object\n",
      "dtypes: int64(1), object(4)\n",
      "memory usage: 275.2+ KB\n"
     ]
    },
    {
     "data": {
      "text/html": [
       "<div>\n",
       "<style scoped>\n",
       "    .dataframe tbody tr th:only-of-type {\n",
       "        vertical-align: middle;\n",
       "    }\n",
       "\n",
       "    .dataframe tbody tr th {\n",
       "        vertical-align: top;\n",
       "    }\n",
       "\n",
       "    .dataframe thead th {\n",
       "        text-align: right;\n",
       "    }\n",
       "</style>\n",
       "<table border=\"1\" class=\"dataframe\">\n",
       "  <thead>\n",
       "    <tr style=\"text-align: right;\">\n",
       "      <th></th>\n",
       "      <th>customerID</th>\n",
       "      <th>gender</th>\n",
       "      <th>SeniorCitizen</th>\n",
       "      <th>Partner</th>\n",
       "      <th>Dependents</th>\n",
       "    </tr>\n",
       "  </thead>\n",
       "  <tbody>\n",
       "    <tr>\n",
       "      <th>0</th>\n",
       "      <td>7590-VHVEG</td>\n",
       "      <td>Female</td>\n",
       "      <td>0</td>\n",
       "      <td>Yes</td>\n",
       "      <td>No</td>\n",
       "    </tr>\n",
       "    <tr>\n",
       "      <th>1</th>\n",
       "      <td>5575-GNVDE</td>\n",
       "      <td>Male</td>\n",
       "      <td>0</td>\n",
       "      <td>No</td>\n",
       "      <td>No</td>\n",
       "    </tr>\n",
       "    <tr>\n",
       "      <th>2</th>\n",
       "      <td>3668-QPYBK</td>\n",
       "      <td>Male</td>\n",
       "      <td>0</td>\n",
       "      <td>No</td>\n",
       "      <td>No</td>\n",
       "    </tr>\n",
       "    <tr>\n",
       "      <th>3</th>\n",
       "      <td>7795-CFOCW</td>\n",
       "      <td>Male</td>\n",
       "      <td>0</td>\n",
       "      <td>No</td>\n",
       "      <td>No</td>\n",
       "    </tr>\n",
       "    <tr>\n",
       "      <th>4</th>\n",
       "      <td>9237-HQITU</td>\n",
       "      <td>Female</td>\n",
       "      <td>0</td>\n",
       "      <td>No</td>\n",
       "      <td>No</td>\n",
       "    </tr>\n",
       "    <tr>\n",
       "      <th>...</th>\n",
       "      <td>...</td>\n",
       "      <td>...</td>\n",
       "      <td>...</td>\n",
       "      <td>...</td>\n",
       "      <td>...</td>\n",
       "    </tr>\n",
       "    <tr>\n",
       "      <th>7038</th>\n",
       "      <td>6840-RESVB</td>\n",
       "      <td>Male</td>\n",
       "      <td>0</td>\n",
       "      <td>Yes</td>\n",
       "      <td>Yes</td>\n",
       "    </tr>\n",
       "    <tr>\n",
       "      <th>7039</th>\n",
       "      <td>2234-XADUH</td>\n",
       "      <td>Female</td>\n",
       "      <td>0</td>\n",
       "      <td>Yes</td>\n",
       "      <td>Yes</td>\n",
       "    </tr>\n",
       "    <tr>\n",
       "      <th>7040</th>\n",
       "      <td>4801-JZAZL</td>\n",
       "      <td>Female</td>\n",
       "      <td>0</td>\n",
       "      <td>Yes</td>\n",
       "      <td>Yes</td>\n",
       "    </tr>\n",
       "    <tr>\n",
       "      <th>7041</th>\n",
       "      <td>8361-LTMKD</td>\n",
       "      <td>Male</td>\n",
       "      <td>1</td>\n",
       "      <td>Yes</td>\n",
       "      <td>No</td>\n",
       "    </tr>\n",
       "    <tr>\n",
       "      <th>7042</th>\n",
       "      <td>3186-AJIEK</td>\n",
       "      <td>Male</td>\n",
       "      <td>0</td>\n",
       "      <td>No</td>\n",
       "      <td>No</td>\n",
       "    </tr>\n",
       "  </tbody>\n",
       "</table>\n",
       "<p>7043 rows × 5 columns</p>\n",
       "</div>"
      ],
      "text/plain": [
       "      customerID  gender  SeniorCitizen Partner Dependents\n",
       "0     7590-VHVEG  Female              0     Yes         No\n",
       "1     5575-GNVDE    Male              0      No         No\n",
       "2     3668-QPYBK    Male              0      No         No\n",
       "3     7795-CFOCW    Male              0      No         No\n",
       "4     9237-HQITU  Female              0      No         No\n",
       "...          ...     ...            ...     ...        ...\n",
       "7038  6840-RESVB    Male              0     Yes        Yes\n",
       "7039  2234-XADUH  Female              0     Yes        Yes\n",
       "7040  4801-JZAZL  Female              0     Yes        Yes\n",
       "7041  8361-LTMKD    Male              1     Yes         No\n",
       "7042  3186-AJIEK    Male              0      No         No\n",
       "\n",
       "[7043 rows x 5 columns]"
      ]
     },
     "execution_count": 9,
     "metadata": {},
     "output_type": "execute_result"
    }
   ],
   "source": [
    "personal.info()\n",
    "personal"
   ]
  },
  {
   "cell_type": "code",
   "execution_count": 10,
   "id": "c761e220-f861-435d-9bd0-658617ed393e",
   "metadata": {},
   "outputs": [
    {
     "data": {
      "text/html": [
       "<div>\n",
       "<style scoped>\n",
       "    .dataframe tbody tr th:only-of-type {\n",
       "        vertical-align: middle;\n",
       "    }\n",
       "\n",
       "    .dataframe tbody tr th {\n",
       "        vertical-align: top;\n",
       "    }\n",
       "\n",
       "    .dataframe thead th {\n",
       "        text-align: right;\n",
       "    }\n",
       "</style>\n",
       "<table border=\"1\" class=\"dataframe\">\n",
       "  <thead>\n",
       "    <tr style=\"text-align: right;\">\n",
       "      <th></th>\n",
       "      <th>customerID</th>\n",
       "      <th>gender</th>\n",
       "      <th>SeniorCitizen</th>\n",
       "      <th>Partner</th>\n",
       "      <th>Dependents</th>\n",
       "    </tr>\n",
       "  </thead>\n",
       "  <tbody>\n",
       "    <tr>\n",
       "      <th>count</th>\n",
       "      <td>7043</td>\n",
       "      <td>7043</td>\n",
       "      <td>7043.000000</td>\n",
       "      <td>7043</td>\n",
       "      <td>7043</td>\n",
       "    </tr>\n",
       "    <tr>\n",
       "      <th>unique</th>\n",
       "      <td>7043</td>\n",
       "      <td>2</td>\n",
       "      <td>NaN</td>\n",
       "      <td>2</td>\n",
       "      <td>2</td>\n",
       "    </tr>\n",
       "    <tr>\n",
       "      <th>top</th>\n",
       "      <td>8544-GOQSH</td>\n",
       "      <td>Male</td>\n",
       "      <td>NaN</td>\n",
       "      <td>No</td>\n",
       "      <td>No</td>\n",
       "    </tr>\n",
       "    <tr>\n",
       "      <th>freq</th>\n",
       "      <td>1</td>\n",
       "      <td>3555</td>\n",
       "      <td>NaN</td>\n",
       "      <td>3641</td>\n",
       "      <td>4933</td>\n",
       "    </tr>\n",
       "    <tr>\n",
       "      <th>mean</th>\n",
       "      <td>NaN</td>\n",
       "      <td>NaN</td>\n",
       "      <td>0.162147</td>\n",
       "      <td>NaN</td>\n",
       "      <td>NaN</td>\n",
       "    </tr>\n",
       "    <tr>\n",
       "      <th>std</th>\n",
       "      <td>NaN</td>\n",
       "      <td>NaN</td>\n",
       "      <td>0.368612</td>\n",
       "      <td>NaN</td>\n",
       "      <td>NaN</td>\n",
       "    </tr>\n",
       "    <tr>\n",
       "      <th>min</th>\n",
       "      <td>NaN</td>\n",
       "      <td>NaN</td>\n",
       "      <td>0.000000</td>\n",
       "      <td>NaN</td>\n",
       "      <td>NaN</td>\n",
       "    </tr>\n",
       "    <tr>\n",
       "      <th>25%</th>\n",
       "      <td>NaN</td>\n",
       "      <td>NaN</td>\n",
       "      <td>0.000000</td>\n",
       "      <td>NaN</td>\n",
       "      <td>NaN</td>\n",
       "    </tr>\n",
       "    <tr>\n",
       "      <th>50%</th>\n",
       "      <td>NaN</td>\n",
       "      <td>NaN</td>\n",
       "      <td>0.000000</td>\n",
       "      <td>NaN</td>\n",
       "      <td>NaN</td>\n",
       "    </tr>\n",
       "    <tr>\n",
       "      <th>75%</th>\n",
       "      <td>NaN</td>\n",
       "      <td>NaN</td>\n",
       "      <td>0.000000</td>\n",
       "      <td>NaN</td>\n",
       "      <td>NaN</td>\n",
       "    </tr>\n",
       "    <tr>\n",
       "      <th>max</th>\n",
       "      <td>NaN</td>\n",
       "      <td>NaN</td>\n",
       "      <td>1.000000</td>\n",
       "      <td>NaN</td>\n",
       "      <td>NaN</td>\n",
       "    </tr>\n",
       "  </tbody>\n",
       "</table>\n",
       "</div>"
      ],
      "text/plain": [
       "        customerID gender  SeniorCitizen Partner Dependents\n",
       "count         7043   7043    7043.000000    7043       7043\n",
       "unique        7043      2            NaN       2          2\n",
       "top     8544-GOQSH   Male            NaN      No         No\n",
       "freq             1   3555            NaN    3641       4933\n",
       "mean           NaN    NaN       0.162147     NaN        NaN\n",
       "std            NaN    NaN       0.368612     NaN        NaN\n",
       "min            NaN    NaN       0.000000     NaN        NaN\n",
       "25%            NaN    NaN       0.000000     NaN        NaN\n",
       "50%            NaN    NaN       0.000000     NaN        NaN\n",
       "75%            NaN    NaN       0.000000     NaN        NaN\n",
       "max            NaN    NaN       1.000000     NaN        NaN"
      ]
     },
     "execution_count": 10,
     "metadata": {},
     "output_type": "execute_result"
    }
   ],
   "source": [
    "personal.describe(include='all')"
   ]
  },
  {
   "cell_type": "code",
   "execution_count": 11,
   "id": "e75fd1a3-9c15-4255-acac-e76a0139da48",
   "metadata": {},
   "outputs": [
    {
     "data": {
      "text/plain": [
       "customerID       0\n",
       "gender           0\n",
       "SeniorCitizen    0\n",
       "Partner          0\n",
       "Dependents       0\n",
       "dtype: int64"
      ]
     },
     "execution_count": 11,
     "metadata": {},
     "output_type": "execute_result"
    }
   ],
   "source": [
    "personal.isna().sum()"
   ]
  },
  {
   "cell_type": "code",
   "execution_count": 12,
   "id": "aa5e1229-ddf9-4606-a5fd-30fce0aa92af",
   "metadata": {},
   "outputs": [
    {
     "data": {
      "text/plain": [
       "0"
      ]
     },
     "execution_count": 12,
     "metadata": {},
     "output_type": "execute_result"
    }
   ],
   "source": [
    "personal.duplicated().sum()"
   ]
  },
  {
   "cell_type": "markdown",
   "id": "354dc7de-1274-4214-abb9-816598dc4ffc",
   "metadata": {},
   "source": [
    "The columns aside from the ID column should be Boolean. I'll change column names to snake case. The data looks good otherwise. I can again join tables on the customerID column."
   ]
  },
  {
   "cell_type": "markdown",
   "id": "eea2bd19-1c67-439c-a8fd-e9efd9e437ee",
   "metadata": {
    "tags": []
   },
   "source": [
    "## Internet"
   ]
  },
  {
   "cell_type": "code",
   "execution_count": 13,
   "id": "a30b1a45-5840-403b-8873-96e43b965815",
   "metadata": {},
   "outputs": [
    {
     "name": "stdout",
     "output_type": "stream",
     "text": [
      "<class 'pandas.core.frame.DataFrame'>\n",
      "RangeIndex: 5517 entries, 0 to 5516\n",
      "Data columns (total 8 columns):\n",
      " #   Column            Non-Null Count  Dtype \n",
      "---  ------            --------------  ----- \n",
      " 0   customerID        5517 non-null   object\n",
      " 1   InternetService   5517 non-null   object\n",
      " 2   OnlineSecurity    5517 non-null   object\n",
      " 3   OnlineBackup      5517 non-null   object\n",
      " 4   DeviceProtection  5517 non-null   object\n",
      " 5   TechSupport       5517 non-null   object\n",
      " 6   StreamingTV       5517 non-null   object\n",
      " 7   StreamingMovies   5517 non-null   object\n",
      "dtypes: object(8)\n",
      "memory usage: 344.9+ KB\n"
     ]
    },
    {
     "data": {
      "text/html": [
       "<div>\n",
       "<style scoped>\n",
       "    .dataframe tbody tr th:only-of-type {\n",
       "        vertical-align: middle;\n",
       "    }\n",
       "\n",
       "    .dataframe tbody tr th {\n",
       "        vertical-align: top;\n",
       "    }\n",
       "\n",
       "    .dataframe thead th {\n",
       "        text-align: right;\n",
       "    }\n",
       "</style>\n",
       "<table border=\"1\" class=\"dataframe\">\n",
       "  <thead>\n",
       "    <tr style=\"text-align: right;\">\n",
       "      <th></th>\n",
       "      <th>customerID</th>\n",
       "      <th>InternetService</th>\n",
       "      <th>OnlineSecurity</th>\n",
       "      <th>OnlineBackup</th>\n",
       "      <th>DeviceProtection</th>\n",
       "      <th>TechSupport</th>\n",
       "      <th>StreamingTV</th>\n",
       "      <th>StreamingMovies</th>\n",
       "    </tr>\n",
       "  </thead>\n",
       "  <tbody>\n",
       "    <tr>\n",
       "      <th>0</th>\n",
       "      <td>7590-VHVEG</td>\n",
       "      <td>DSL</td>\n",
       "      <td>No</td>\n",
       "      <td>Yes</td>\n",
       "      <td>No</td>\n",
       "      <td>No</td>\n",
       "      <td>No</td>\n",
       "      <td>No</td>\n",
       "    </tr>\n",
       "    <tr>\n",
       "      <th>1</th>\n",
       "      <td>5575-GNVDE</td>\n",
       "      <td>DSL</td>\n",
       "      <td>Yes</td>\n",
       "      <td>No</td>\n",
       "      <td>Yes</td>\n",
       "      <td>No</td>\n",
       "      <td>No</td>\n",
       "      <td>No</td>\n",
       "    </tr>\n",
       "    <tr>\n",
       "      <th>2</th>\n",
       "      <td>3668-QPYBK</td>\n",
       "      <td>DSL</td>\n",
       "      <td>Yes</td>\n",
       "      <td>Yes</td>\n",
       "      <td>No</td>\n",
       "      <td>No</td>\n",
       "      <td>No</td>\n",
       "      <td>No</td>\n",
       "    </tr>\n",
       "    <tr>\n",
       "      <th>3</th>\n",
       "      <td>7795-CFOCW</td>\n",
       "      <td>DSL</td>\n",
       "      <td>Yes</td>\n",
       "      <td>No</td>\n",
       "      <td>Yes</td>\n",
       "      <td>Yes</td>\n",
       "      <td>No</td>\n",
       "      <td>No</td>\n",
       "    </tr>\n",
       "    <tr>\n",
       "      <th>4</th>\n",
       "      <td>9237-HQITU</td>\n",
       "      <td>Fiber optic</td>\n",
       "      <td>No</td>\n",
       "      <td>No</td>\n",
       "      <td>No</td>\n",
       "      <td>No</td>\n",
       "      <td>No</td>\n",
       "      <td>No</td>\n",
       "    </tr>\n",
       "    <tr>\n",
       "      <th>...</th>\n",
       "      <td>...</td>\n",
       "      <td>...</td>\n",
       "      <td>...</td>\n",
       "      <td>...</td>\n",
       "      <td>...</td>\n",
       "      <td>...</td>\n",
       "      <td>...</td>\n",
       "      <td>...</td>\n",
       "    </tr>\n",
       "    <tr>\n",
       "      <th>5512</th>\n",
       "      <td>6840-RESVB</td>\n",
       "      <td>DSL</td>\n",
       "      <td>Yes</td>\n",
       "      <td>No</td>\n",
       "      <td>Yes</td>\n",
       "      <td>Yes</td>\n",
       "      <td>Yes</td>\n",
       "      <td>Yes</td>\n",
       "    </tr>\n",
       "    <tr>\n",
       "      <th>5513</th>\n",
       "      <td>2234-XADUH</td>\n",
       "      <td>Fiber optic</td>\n",
       "      <td>No</td>\n",
       "      <td>Yes</td>\n",
       "      <td>Yes</td>\n",
       "      <td>No</td>\n",
       "      <td>Yes</td>\n",
       "      <td>Yes</td>\n",
       "    </tr>\n",
       "    <tr>\n",
       "      <th>5514</th>\n",
       "      <td>4801-JZAZL</td>\n",
       "      <td>DSL</td>\n",
       "      <td>Yes</td>\n",
       "      <td>No</td>\n",
       "      <td>No</td>\n",
       "      <td>No</td>\n",
       "      <td>No</td>\n",
       "      <td>No</td>\n",
       "    </tr>\n",
       "    <tr>\n",
       "      <th>5515</th>\n",
       "      <td>8361-LTMKD</td>\n",
       "      <td>Fiber optic</td>\n",
       "      <td>No</td>\n",
       "      <td>No</td>\n",
       "      <td>No</td>\n",
       "      <td>No</td>\n",
       "      <td>No</td>\n",
       "      <td>No</td>\n",
       "    </tr>\n",
       "    <tr>\n",
       "      <th>5516</th>\n",
       "      <td>3186-AJIEK</td>\n",
       "      <td>Fiber optic</td>\n",
       "      <td>Yes</td>\n",
       "      <td>No</td>\n",
       "      <td>Yes</td>\n",
       "      <td>Yes</td>\n",
       "      <td>Yes</td>\n",
       "      <td>Yes</td>\n",
       "    </tr>\n",
       "  </tbody>\n",
       "</table>\n",
       "<p>5517 rows × 8 columns</p>\n",
       "</div>"
      ],
      "text/plain": [
       "      customerID InternetService OnlineSecurity OnlineBackup DeviceProtection  \\\n",
       "0     7590-VHVEG             DSL             No          Yes               No   \n",
       "1     5575-GNVDE             DSL            Yes           No              Yes   \n",
       "2     3668-QPYBK             DSL            Yes          Yes               No   \n",
       "3     7795-CFOCW             DSL            Yes           No              Yes   \n",
       "4     9237-HQITU     Fiber optic             No           No               No   \n",
       "...          ...             ...            ...          ...              ...   \n",
       "5512  6840-RESVB             DSL            Yes           No              Yes   \n",
       "5513  2234-XADUH     Fiber optic             No          Yes              Yes   \n",
       "5514  4801-JZAZL             DSL            Yes           No               No   \n",
       "5515  8361-LTMKD     Fiber optic             No           No               No   \n",
       "5516  3186-AJIEK     Fiber optic            Yes           No              Yes   \n",
       "\n",
       "     TechSupport StreamingTV StreamingMovies  \n",
       "0             No          No              No  \n",
       "1             No          No              No  \n",
       "2             No          No              No  \n",
       "3            Yes          No              No  \n",
       "4             No          No              No  \n",
       "...          ...         ...             ...  \n",
       "5512         Yes         Yes             Yes  \n",
       "5513          No         Yes             Yes  \n",
       "5514          No          No              No  \n",
       "5515          No          No              No  \n",
       "5516         Yes         Yes             Yes  \n",
       "\n",
       "[5517 rows x 8 columns]"
      ]
     },
     "execution_count": 13,
     "metadata": {},
     "output_type": "execute_result"
    }
   ],
   "source": [
    "internet.info()\n",
    "internet"
   ]
  },
  {
   "cell_type": "code",
   "execution_count": 14,
   "id": "4980a767-541d-4c69-add2-b1b415ffd1c5",
   "metadata": {},
   "outputs": [
    {
     "data": {
      "text/html": [
       "<div>\n",
       "<style scoped>\n",
       "    .dataframe tbody tr th:only-of-type {\n",
       "        vertical-align: middle;\n",
       "    }\n",
       "\n",
       "    .dataframe tbody tr th {\n",
       "        vertical-align: top;\n",
       "    }\n",
       "\n",
       "    .dataframe thead th {\n",
       "        text-align: right;\n",
       "    }\n",
       "</style>\n",
       "<table border=\"1\" class=\"dataframe\">\n",
       "  <thead>\n",
       "    <tr style=\"text-align: right;\">\n",
       "      <th></th>\n",
       "      <th>customerID</th>\n",
       "      <th>InternetService</th>\n",
       "      <th>OnlineSecurity</th>\n",
       "      <th>OnlineBackup</th>\n",
       "      <th>DeviceProtection</th>\n",
       "      <th>TechSupport</th>\n",
       "      <th>StreamingTV</th>\n",
       "      <th>StreamingMovies</th>\n",
       "    </tr>\n",
       "  </thead>\n",
       "  <tbody>\n",
       "    <tr>\n",
       "      <th>count</th>\n",
       "      <td>5517</td>\n",
       "      <td>5517</td>\n",
       "      <td>5517</td>\n",
       "      <td>5517</td>\n",
       "      <td>5517</td>\n",
       "      <td>5517</td>\n",
       "      <td>5517</td>\n",
       "      <td>5517</td>\n",
       "    </tr>\n",
       "    <tr>\n",
       "      <th>unique</th>\n",
       "      <td>5517</td>\n",
       "      <td>2</td>\n",
       "      <td>2</td>\n",
       "      <td>2</td>\n",
       "      <td>2</td>\n",
       "      <td>2</td>\n",
       "      <td>2</td>\n",
       "      <td>2</td>\n",
       "    </tr>\n",
       "    <tr>\n",
       "      <th>top</th>\n",
       "      <td>8544-GOQSH</td>\n",
       "      <td>Fiber optic</td>\n",
       "      <td>No</td>\n",
       "      <td>No</td>\n",
       "      <td>No</td>\n",
       "      <td>No</td>\n",
       "      <td>No</td>\n",
       "      <td>No</td>\n",
       "    </tr>\n",
       "    <tr>\n",
       "      <th>freq</th>\n",
       "      <td>1</td>\n",
       "      <td>3096</td>\n",
       "      <td>3498</td>\n",
       "      <td>3088</td>\n",
       "      <td>3095</td>\n",
       "      <td>3473</td>\n",
       "      <td>2810</td>\n",
       "      <td>2785</td>\n",
       "    </tr>\n",
       "  </tbody>\n",
       "</table>\n",
       "</div>"
      ],
      "text/plain": [
       "        customerID InternetService OnlineSecurity OnlineBackup  \\\n",
       "count         5517            5517           5517         5517   \n",
       "unique        5517               2              2            2   \n",
       "top     8544-GOQSH     Fiber optic             No           No   \n",
       "freq             1            3096           3498         3088   \n",
       "\n",
       "       DeviceProtection TechSupport StreamingTV StreamingMovies  \n",
       "count              5517        5517        5517            5517  \n",
       "unique                2           2           2               2  \n",
       "top                  No          No          No              No  \n",
       "freq               3095        3473        2810            2785  "
      ]
     },
     "execution_count": 14,
     "metadata": {},
     "output_type": "execute_result"
    }
   ],
   "source": [
    "internet.describe()"
   ]
  },
  {
   "cell_type": "code",
   "execution_count": 15,
   "id": "be8c7969-00bf-48e2-9136-a7413ea0ea30",
   "metadata": {},
   "outputs": [
    {
     "data": {
      "text/plain": [
       "customerID          0\n",
       "InternetService     0\n",
       "OnlineSecurity      0\n",
       "OnlineBackup        0\n",
       "DeviceProtection    0\n",
       "TechSupport         0\n",
       "StreamingTV         0\n",
       "StreamingMovies     0\n",
       "dtype: int64"
      ]
     },
     "execution_count": 15,
     "metadata": {},
     "output_type": "execute_result"
    }
   ],
   "source": [
    "internet.isna().sum()"
   ]
  },
  {
   "cell_type": "code",
   "execution_count": 16,
   "id": "8bb25470-0142-40f8-9ff7-166e4c29ed50",
   "metadata": {},
   "outputs": [
    {
     "data": {
      "text/plain": [
       "0"
      ]
     },
     "execution_count": 16,
     "metadata": {},
     "output_type": "execute_result"
    }
   ],
   "source": [
    "internet.duplicated().sum()"
   ]
  },
  {
   "cell_type": "markdown",
   "id": "c893261e-e752-4076-af71-9225cf27c478",
   "metadata": {},
   "source": [
    "Again, column names need changed and the data can be Boolean. InternetService can be categorical. There is some overlap between services provided - online security and device protection both involve internet security, so a new column could be created where a 1 indicates that a user has at least one of these. The same strategy goes for streaming TV and streaming movies."
   ]
  },
  {
   "cell_type": "markdown",
   "id": "d51eb322-fc89-42f4-b463-5897ea395570",
   "metadata": {
    "tags": []
   },
   "source": [
    "## Contract"
   ]
  },
  {
   "cell_type": "code",
   "execution_count": 17,
   "id": "a555d134-ff6a-4d54-a5f3-7b358da04195",
   "metadata": {},
   "outputs": [
    {
     "name": "stdout",
     "output_type": "stream",
     "text": [
      "<class 'pandas.core.frame.DataFrame'>\n",
      "RangeIndex: 7043 entries, 0 to 7042\n",
      "Data columns (total 8 columns):\n",
      " #   Column            Non-Null Count  Dtype         \n",
      "---  ------            --------------  -----         \n",
      " 0   customerID        7043 non-null   object        \n",
      " 1   BeginDate         7043 non-null   datetime64[ns]\n",
      " 2   EndDate           7043 non-null   object        \n",
      " 3   Type              7043 non-null   object        \n",
      " 4   PaperlessBilling  7043 non-null   object        \n",
      " 5   PaymentMethod     7043 non-null   object        \n",
      " 6   MonthlyCharges    7043 non-null   float64       \n",
      " 7   TotalCharges      7043 non-null   object        \n",
      "dtypes: datetime64[ns](1), float64(1), object(6)\n",
      "memory usage: 440.3+ KB\n"
     ]
    },
    {
     "data": {
      "text/html": [
       "<div>\n",
       "<style scoped>\n",
       "    .dataframe tbody tr th:only-of-type {\n",
       "        vertical-align: middle;\n",
       "    }\n",
       "\n",
       "    .dataframe tbody tr th {\n",
       "        vertical-align: top;\n",
       "    }\n",
       "\n",
       "    .dataframe thead th {\n",
       "        text-align: right;\n",
       "    }\n",
       "</style>\n",
       "<table border=\"1\" class=\"dataframe\">\n",
       "  <thead>\n",
       "    <tr style=\"text-align: right;\">\n",
       "      <th></th>\n",
       "      <th>customerID</th>\n",
       "      <th>BeginDate</th>\n",
       "      <th>EndDate</th>\n",
       "      <th>Type</th>\n",
       "      <th>PaperlessBilling</th>\n",
       "      <th>PaymentMethod</th>\n",
       "      <th>MonthlyCharges</th>\n",
       "      <th>TotalCharges</th>\n",
       "    </tr>\n",
       "  </thead>\n",
       "  <tbody>\n",
       "    <tr>\n",
       "      <th>0</th>\n",
       "      <td>7590-VHVEG</td>\n",
       "      <td>2020-01-01</td>\n",
       "      <td>No</td>\n",
       "      <td>Month-to-month</td>\n",
       "      <td>Yes</td>\n",
       "      <td>Electronic check</td>\n",
       "      <td>29.85</td>\n",
       "      <td>29.85</td>\n",
       "    </tr>\n",
       "    <tr>\n",
       "      <th>1</th>\n",
       "      <td>5575-GNVDE</td>\n",
       "      <td>2017-04-01</td>\n",
       "      <td>No</td>\n",
       "      <td>One year</td>\n",
       "      <td>No</td>\n",
       "      <td>Mailed check</td>\n",
       "      <td>56.95</td>\n",
       "      <td>1889.5</td>\n",
       "    </tr>\n",
       "    <tr>\n",
       "      <th>2</th>\n",
       "      <td>3668-QPYBK</td>\n",
       "      <td>2019-10-01</td>\n",
       "      <td>2019-12-01 00:00:00</td>\n",
       "      <td>Month-to-month</td>\n",
       "      <td>Yes</td>\n",
       "      <td>Mailed check</td>\n",
       "      <td>53.85</td>\n",
       "      <td>108.15</td>\n",
       "    </tr>\n",
       "    <tr>\n",
       "      <th>3</th>\n",
       "      <td>7795-CFOCW</td>\n",
       "      <td>2016-05-01</td>\n",
       "      <td>No</td>\n",
       "      <td>One year</td>\n",
       "      <td>No</td>\n",
       "      <td>Bank transfer (automatic)</td>\n",
       "      <td>42.30</td>\n",
       "      <td>1840.75</td>\n",
       "    </tr>\n",
       "    <tr>\n",
       "      <th>4</th>\n",
       "      <td>9237-HQITU</td>\n",
       "      <td>2019-09-01</td>\n",
       "      <td>2019-11-01 00:00:00</td>\n",
       "      <td>Month-to-month</td>\n",
       "      <td>Yes</td>\n",
       "      <td>Electronic check</td>\n",
       "      <td>70.70</td>\n",
       "      <td>151.65</td>\n",
       "    </tr>\n",
       "    <tr>\n",
       "      <th>...</th>\n",
       "      <td>...</td>\n",
       "      <td>...</td>\n",
       "      <td>...</td>\n",
       "      <td>...</td>\n",
       "      <td>...</td>\n",
       "      <td>...</td>\n",
       "      <td>...</td>\n",
       "      <td>...</td>\n",
       "    </tr>\n",
       "    <tr>\n",
       "      <th>7038</th>\n",
       "      <td>6840-RESVB</td>\n",
       "      <td>2018-02-01</td>\n",
       "      <td>No</td>\n",
       "      <td>One year</td>\n",
       "      <td>Yes</td>\n",
       "      <td>Mailed check</td>\n",
       "      <td>84.80</td>\n",
       "      <td>1990.5</td>\n",
       "    </tr>\n",
       "    <tr>\n",
       "      <th>7039</th>\n",
       "      <td>2234-XADUH</td>\n",
       "      <td>2014-02-01</td>\n",
       "      <td>No</td>\n",
       "      <td>One year</td>\n",
       "      <td>Yes</td>\n",
       "      <td>Credit card (automatic)</td>\n",
       "      <td>103.20</td>\n",
       "      <td>7362.9</td>\n",
       "    </tr>\n",
       "    <tr>\n",
       "      <th>7040</th>\n",
       "      <td>4801-JZAZL</td>\n",
       "      <td>2019-03-01</td>\n",
       "      <td>No</td>\n",
       "      <td>Month-to-month</td>\n",
       "      <td>Yes</td>\n",
       "      <td>Electronic check</td>\n",
       "      <td>29.60</td>\n",
       "      <td>346.45</td>\n",
       "    </tr>\n",
       "    <tr>\n",
       "      <th>7041</th>\n",
       "      <td>8361-LTMKD</td>\n",
       "      <td>2019-07-01</td>\n",
       "      <td>2019-11-01 00:00:00</td>\n",
       "      <td>Month-to-month</td>\n",
       "      <td>Yes</td>\n",
       "      <td>Mailed check</td>\n",
       "      <td>74.40</td>\n",
       "      <td>306.6</td>\n",
       "    </tr>\n",
       "    <tr>\n",
       "      <th>7042</th>\n",
       "      <td>3186-AJIEK</td>\n",
       "      <td>2014-08-01</td>\n",
       "      <td>No</td>\n",
       "      <td>Two year</td>\n",
       "      <td>Yes</td>\n",
       "      <td>Bank transfer (automatic)</td>\n",
       "      <td>105.65</td>\n",
       "      <td>6844.5</td>\n",
       "    </tr>\n",
       "  </tbody>\n",
       "</table>\n",
       "<p>7043 rows × 8 columns</p>\n",
       "</div>"
      ],
      "text/plain": [
       "      customerID  BeginDate              EndDate            Type  \\\n",
       "0     7590-VHVEG 2020-01-01                   No  Month-to-month   \n",
       "1     5575-GNVDE 2017-04-01                   No        One year   \n",
       "2     3668-QPYBK 2019-10-01  2019-12-01 00:00:00  Month-to-month   \n",
       "3     7795-CFOCW 2016-05-01                   No        One year   \n",
       "4     9237-HQITU 2019-09-01  2019-11-01 00:00:00  Month-to-month   \n",
       "...          ...        ...                  ...             ...   \n",
       "7038  6840-RESVB 2018-02-01                   No        One year   \n",
       "7039  2234-XADUH 2014-02-01                   No        One year   \n",
       "7040  4801-JZAZL 2019-03-01                   No  Month-to-month   \n",
       "7041  8361-LTMKD 2019-07-01  2019-11-01 00:00:00  Month-to-month   \n",
       "7042  3186-AJIEK 2014-08-01                   No        Two year   \n",
       "\n",
       "     PaperlessBilling              PaymentMethod  MonthlyCharges TotalCharges  \n",
       "0                 Yes           Electronic check           29.85        29.85  \n",
       "1                  No               Mailed check           56.95       1889.5  \n",
       "2                 Yes               Mailed check           53.85       108.15  \n",
       "3                  No  Bank transfer (automatic)           42.30      1840.75  \n",
       "4                 Yes           Electronic check           70.70       151.65  \n",
       "...               ...                        ...             ...          ...  \n",
       "7038              Yes               Mailed check           84.80       1990.5  \n",
       "7039              Yes    Credit card (automatic)          103.20       7362.9  \n",
       "7040              Yes           Electronic check           29.60       346.45  \n",
       "7041              Yes               Mailed check           74.40        306.6  \n",
       "7042              Yes  Bank transfer (automatic)          105.65       6844.5  \n",
       "\n",
       "[7043 rows x 8 columns]"
      ]
     },
     "execution_count": 17,
     "metadata": {},
     "output_type": "execute_result"
    }
   ],
   "source": [
    "contract.info()\n",
    "contract"
   ]
  },
  {
   "cell_type": "code",
   "execution_count": 18,
   "id": "53764444-086b-41d0-ab9c-c8595c1d9cf1",
   "metadata": {},
   "outputs": [
    {
     "data": {
      "text/html": [
       "<div>\n",
       "<style scoped>\n",
       "    .dataframe tbody tr th:only-of-type {\n",
       "        vertical-align: middle;\n",
       "    }\n",
       "\n",
       "    .dataframe tbody tr th {\n",
       "        vertical-align: top;\n",
       "    }\n",
       "\n",
       "    .dataframe thead th {\n",
       "        text-align: right;\n",
       "    }\n",
       "</style>\n",
       "<table border=\"1\" class=\"dataframe\">\n",
       "  <thead>\n",
       "    <tr style=\"text-align: right;\">\n",
       "      <th></th>\n",
       "      <th>customerID</th>\n",
       "      <th>BeginDate</th>\n",
       "      <th>EndDate</th>\n",
       "      <th>Type</th>\n",
       "      <th>PaperlessBilling</th>\n",
       "      <th>PaymentMethod</th>\n",
       "      <th>MonthlyCharges</th>\n",
       "      <th>TotalCharges</th>\n",
       "    </tr>\n",
       "  </thead>\n",
       "  <tbody>\n",
       "    <tr>\n",
       "      <th>count</th>\n",
       "      <td>7043</td>\n",
       "      <td>7043</td>\n",
       "      <td>7043</td>\n",
       "      <td>7043</td>\n",
       "      <td>7043</td>\n",
       "      <td>7043</td>\n",
       "      <td>7043.000000</td>\n",
       "      <td>7043</td>\n",
       "    </tr>\n",
       "    <tr>\n",
       "      <th>unique</th>\n",
       "      <td>7043</td>\n",
       "      <td>NaN</td>\n",
       "      <td>5</td>\n",
       "      <td>3</td>\n",
       "      <td>2</td>\n",
       "      <td>4</td>\n",
       "      <td>NaN</td>\n",
       "      <td>6531</td>\n",
       "    </tr>\n",
       "    <tr>\n",
       "      <th>top</th>\n",
       "      <td>8544-GOQSH</td>\n",
       "      <td>NaN</td>\n",
       "      <td>No</td>\n",
       "      <td>Month-to-month</td>\n",
       "      <td>Yes</td>\n",
       "      <td>Electronic check</td>\n",
       "      <td>NaN</td>\n",
       "      <td>20.2</td>\n",
       "    </tr>\n",
       "    <tr>\n",
       "      <th>freq</th>\n",
       "      <td>1</td>\n",
       "      <td>NaN</td>\n",
       "      <td>5174</td>\n",
       "      <td>3875</td>\n",
       "      <td>4171</td>\n",
       "      <td>2365</td>\n",
       "      <td>NaN</td>\n",
       "      <td>11</td>\n",
       "    </tr>\n",
       "    <tr>\n",
       "      <th>mean</th>\n",
       "      <td>NaN</td>\n",
       "      <td>2017-04-30 13:01:50.918642688</td>\n",
       "      <td>NaN</td>\n",
       "      <td>NaN</td>\n",
       "      <td>NaN</td>\n",
       "      <td>NaN</td>\n",
       "      <td>64.761692</td>\n",
       "      <td>NaN</td>\n",
       "    </tr>\n",
       "    <tr>\n",
       "      <th>min</th>\n",
       "      <td>NaN</td>\n",
       "      <td>2013-10-01 00:00:00</td>\n",
       "      <td>NaN</td>\n",
       "      <td>NaN</td>\n",
       "      <td>NaN</td>\n",
       "      <td>NaN</td>\n",
       "      <td>18.250000</td>\n",
       "      <td>NaN</td>\n",
       "    </tr>\n",
       "    <tr>\n",
       "      <th>25%</th>\n",
       "      <td>NaN</td>\n",
       "      <td>2015-06-01 00:00:00</td>\n",
       "      <td>NaN</td>\n",
       "      <td>NaN</td>\n",
       "      <td>NaN</td>\n",
       "      <td>NaN</td>\n",
       "      <td>35.500000</td>\n",
       "      <td>NaN</td>\n",
       "    </tr>\n",
       "    <tr>\n",
       "      <th>50%</th>\n",
       "      <td>NaN</td>\n",
       "      <td>2017-09-01 00:00:00</td>\n",
       "      <td>NaN</td>\n",
       "      <td>NaN</td>\n",
       "      <td>NaN</td>\n",
       "      <td>NaN</td>\n",
       "      <td>70.350000</td>\n",
       "      <td>NaN</td>\n",
       "    </tr>\n",
       "    <tr>\n",
       "      <th>75%</th>\n",
       "      <td>NaN</td>\n",
       "      <td>2019-04-01 00:00:00</td>\n",
       "      <td>NaN</td>\n",
       "      <td>NaN</td>\n",
       "      <td>NaN</td>\n",
       "      <td>NaN</td>\n",
       "      <td>89.850000</td>\n",
       "      <td>NaN</td>\n",
       "    </tr>\n",
       "    <tr>\n",
       "      <th>max</th>\n",
       "      <td>NaN</td>\n",
       "      <td>2020-02-01 00:00:00</td>\n",
       "      <td>NaN</td>\n",
       "      <td>NaN</td>\n",
       "      <td>NaN</td>\n",
       "      <td>NaN</td>\n",
       "      <td>118.750000</td>\n",
       "      <td>NaN</td>\n",
       "    </tr>\n",
       "    <tr>\n",
       "      <th>std</th>\n",
       "      <td>NaN</td>\n",
       "      <td>NaN</td>\n",
       "      <td>NaN</td>\n",
       "      <td>NaN</td>\n",
       "      <td>NaN</td>\n",
       "      <td>NaN</td>\n",
       "      <td>30.090047</td>\n",
       "      <td>NaN</td>\n",
       "    </tr>\n",
       "  </tbody>\n",
       "</table>\n",
       "</div>"
      ],
      "text/plain": [
       "        customerID                      BeginDate EndDate            Type  \\\n",
       "count         7043                           7043    7043            7043   \n",
       "unique        7043                            NaN       5               3   \n",
       "top     8544-GOQSH                            NaN      No  Month-to-month   \n",
       "freq             1                            NaN    5174            3875   \n",
       "mean           NaN  2017-04-30 13:01:50.918642688     NaN             NaN   \n",
       "min            NaN            2013-10-01 00:00:00     NaN             NaN   \n",
       "25%            NaN            2015-06-01 00:00:00     NaN             NaN   \n",
       "50%            NaN            2017-09-01 00:00:00     NaN             NaN   \n",
       "75%            NaN            2019-04-01 00:00:00     NaN             NaN   \n",
       "max            NaN            2020-02-01 00:00:00     NaN             NaN   \n",
       "std            NaN                            NaN     NaN             NaN   \n",
       "\n",
       "       PaperlessBilling     PaymentMethod  MonthlyCharges TotalCharges  \n",
       "count              7043              7043     7043.000000         7043  \n",
       "unique                2                 4             NaN         6531  \n",
       "top                 Yes  Electronic check             NaN         20.2  \n",
       "freq               4171              2365             NaN           11  \n",
       "mean                NaN               NaN       64.761692          NaN  \n",
       "min                 NaN               NaN       18.250000          NaN  \n",
       "25%                 NaN               NaN       35.500000          NaN  \n",
       "50%                 NaN               NaN       70.350000          NaN  \n",
       "75%                 NaN               NaN       89.850000          NaN  \n",
       "max                 NaN               NaN      118.750000          NaN  \n",
       "std                 NaN               NaN       30.090047          NaN  "
      ]
     },
     "execution_count": 18,
     "metadata": {},
     "output_type": "execute_result"
    }
   ],
   "source": [
    "contract.describe(include='all', datetime_is_numeric=True)"
   ]
  },
  {
   "cell_type": "markdown",
   "id": "cd9a868e-61d8-46b7-bd5c-ab45066fb053",
   "metadata": {},
   "source": [
    "Looking at the EndDate stats - 5174 out of 7043 have not churned, which indicates a substantial class imbalance. I'll balance the classes by oversampling the churned users so as to preserve valuable data."
   ]
  },
  {
   "cell_type": "code",
   "execution_count": 19,
   "id": "a15403d8-f5f1-4950-8a5a-2c6ffc65d812",
   "metadata": {},
   "outputs": [
    {
     "data": {
      "text/plain": [
       "0"
      ]
     },
     "execution_count": 19,
     "metadata": {},
     "output_type": "execute_result"
    }
   ],
   "source": [
    "contract.duplicated().sum()"
   ]
  },
  {
   "cell_type": "code",
   "execution_count": 20,
   "id": "6930cec3-99b7-439a-952a-9450945bbdef",
   "metadata": {},
   "outputs": [
    {
     "data": {
      "text/plain": [
       "customerID          0\n",
       "BeginDate           0\n",
       "EndDate             0\n",
       "Type                0\n",
       "PaperlessBilling    0\n",
       "PaymentMethod       0\n",
       "MonthlyCharges      0\n",
       "TotalCharges        0\n",
       "dtype: int64"
      ]
     },
     "execution_count": 20,
     "metadata": {},
     "output_type": "execute_result"
    }
   ],
   "source": [
    "contract.isna().sum()"
   ]
  },
  {
   "cell_type": "markdown",
   "id": "1742d58c-2d92-4501-9eff-b07270dfa339",
   "metadata": {},
   "source": [
    "Change PaperlessBilling to Boolean - Type and PaymentMethod to categorical - TotalCharges to float (probably requires eliminating some non-numerical values). Creating a target column from EndDate that is a Boolean may be a good idea. The dates can be turned to datetime format - the month, year, day, and hour that the customer joined may be useful, and I certainly think the length of their subscription would be key. I need to get the \"present\" datetime (Feb 1, 2020) and find the difference for customers who have not yet churned; for customers who have churned, I can just find the difference between their churn date and beginning dates."
   ]
  },
  {
   "cell_type": "markdown",
   "id": "34de5730-5c69-4d07-bc38-625f602728e3",
   "metadata": {},
   "source": [
    "# Clarifying questions"
   ]
  },
  {
   "cell_type": "markdown",
   "id": "5f4c584f-23bb-44cb-b7bd-094a7538db22",
   "metadata": {},
   "source": [
    "- Can we assume that the latest date (Feb 1, 2020) is the \"present\"?\n",
    "- Should I prioritize the minimization of type I or type II errors, or only look at general AUC-ROC?\n",
    "    - i.e. Would you rather wrongly predict a customer churning or staying?"
   ]
  },
  {
   "cell_type": "markdown",
   "id": "ba9aa616-8296-406d-aae0-9d34c5b31f05",
   "metadata": {},
   "source": [
    "# Rough Plan"
   ]
  },
  {
   "cell_type": "markdown",
   "id": "31aca168-6e9f-409e-9a40-6e4e80ef6fc0",
   "metadata": {},
   "source": [
    "1. Loading and preprocessing\n",
    "    - Load csv data into DataFrames\n",
    "    - Change column names to snake case\n",
    "    - Update datatypes to correct types\n",
    "    - Join tables into master dataframe\n",
    "2. Feature Engineering\n",
    "    - Combine redundant features\n",
    "    - Create Boolean target column from churn data\n",
    "    - Extract specific date information from BeginDate data and find length of tenure\n",
    "3. Exploratory Data Analysis\n",
    "    - Look for correlation amongst features\n",
    "    - Look for correlation between features and target\n",
    "4. Try machine learning models\n",
    "    - Split dataset into train/validate/test sets, while balancing classes\n",
    "    - Further preprocess dataset based on each model's requirements (OHE vs ordinal encoding)\n",
    "    - Use logistic regression model as sanity check\n",
    "    - Try gradient boosting, random forest, and another type of model\n",
    "5. Test final model\n",
    "    - Test the best performing model on the test set\n",
    "    - Report tested AUC-ROC and accuracy scores\n",
    "    - Draw conclusions"
   ]
  },
  {
   "cell_type": "markdown",
   "id": "26391e43-6f88-493a-b462-877e5fa0946e",
   "metadata": {
    "tags": [],
    "toc-hr-collapsed": true
   },
   "source": [
    "# Loading and preprocessing"
   ]
  },
  {
   "cell_type": "markdown",
   "id": "f0db80b1-540a-4cba-babd-02d1839cf1e6",
   "metadata": {
    "tags": []
   },
   "source": [
    "## Load data"
   ]
  },
  {
   "cell_type": "markdown",
   "id": "4fc530de-3f03-450e-a165-f232cb6b9226",
   "metadata": {},
   "source": [
    "Data is already loaded above."
   ]
  },
  {
   "cell_type": "markdown",
   "id": "e1931a54-71cf-4821-a8bb-fdce0d29cd39",
   "metadata": {
    "tags": []
   },
   "source": [
    "## Change column names"
   ]
  },
  {
   "cell_type": "code",
   "execution_count": 21,
   "id": "ac128dab-a6f1-443a-b008-97a4bd8250f6",
   "metadata": {},
   "outputs": [],
   "source": [
    "from inflection import underscore\n",
    "phone.columns = [underscore(x) for x in phone.columns]\n",
    "internet.columns = [underscore(x) for x in internet.columns]\n",
    "personal.columns = [underscore(x) for x in personal.columns]\n",
    "contract.columns = [underscore(x) for x in contract.columns]"
   ]
  },
  {
   "cell_type": "code",
   "execution_count": 22,
   "id": "8114e169-0673-41ac-98a7-f2ae906911cd",
   "metadata": {},
   "outputs": [
    {
     "name": "stdout",
     "output_type": "stream",
     "text": [
      "Index(['customer_id', 'multiple_lines'], dtype='object')\n",
      "Index(['customer_id', 'internet_service', 'online_security', 'online_backup',\n",
      "       'device_protection', 'tech_support', 'streaming_tv',\n",
      "       'streaming_movies'],\n",
      "      dtype='object')\n",
      "Index(['customer_id', 'gender', 'senior_citizen', 'partner', 'dependents'], dtype='object')\n",
      "Index(['customer_id', 'begin_date', 'end_date', 'type', 'paperless_billing',\n",
      "       'payment_method', 'monthly_charges', 'total_charges'],\n",
      "      dtype='object')\n"
     ]
    }
   ],
   "source": [
    "# Verifying success\n",
    "print(phone.columns)\n",
    "print(internet.columns)\n",
    "print(personal.columns)\n",
    "print(contract.columns)"
   ]
  },
  {
   "cell_type": "markdown",
   "id": "f247bde8-fa30-43fb-a2ef-6d95318cc513",
   "metadata": {},
   "source": [
    "All column names look great."
   ]
  },
  {
   "cell_type": "markdown",
   "id": "021cf363-f21e-4fbc-a3cb-c98661bbc73e",
   "metadata": {
    "tags": []
   },
   "source": [
    "## Update datatypes"
   ]
  },
  {
   "cell_type": "markdown",
   "id": "f5eb5d7a-dfd6-4675-b871-62a6001a472b",
   "metadata": {},
   "source": [
    "### Phone"
   ]
  },
  {
   "cell_type": "code",
   "execution_count": 23,
   "id": "76b76cee-1c22-4703-b841-4355a12dc9df",
   "metadata": {},
   "outputs": [
    {
     "name": "stdout",
     "output_type": "stream",
     "text": [
      "<class 'pandas.core.frame.DataFrame'>\n",
      "RangeIndex: 6361 entries, 0 to 6360\n",
      "Data columns (total 2 columns):\n",
      " #   Column          Non-Null Count  Dtype \n",
      "---  ------          --------------  ----- \n",
      " 0   customer_id     6361 non-null   object\n",
      " 1   multiple_lines  6361 non-null   object\n",
      "dtypes: object(2)\n",
      "memory usage: 99.5+ KB\n"
     ]
    },
    {
     "data": {
      "text/html": [
       "<div>\n",
       "<style scoped>\n",
       "    .dataframe tbody tr th:only-of-type {\n",
       "        vertical-align: middle;\n",
       "    }\n",
       "\n",
       "    .dataframe tbody tr th {\n",
       "        vertical-align: top;\n",
       "    }\n",
       "\n",
       "    .dataframe thead th {\n",
       "        text-align: right;\n",
       "    }\n",
       "</style>\n",
       "<table border=\"1\" class=\"dataframe\">\n",
       "  <thead>\n",
       "    <tr style=\"text-align: right;\">\n",
       "      <th></th>\n",
       "      <th>customer_id</th>\n",
       "      <th>multiple_lines</th>\n",
       "    </tr>\n",
       "  </thead>\n",
       "  <tbody>\n",
       "    <tr>\n",
       "      <th>count</th>\n",
       "      <td>6361</td>\n",
       "      <td>6361</td>\n",
       "    </tr>\n",
       "    <tr>\n",
       "      <th>unique</th>\n",
       "      <td>6361</td>\n",
       "      <td>2</td>\n",
       "    </tr>\n",
       "    <tr>\n",
       "      <th>top</th>\n",
       "      <td>8544-GOQSH</td>\n",
       "      <td>No</td>\n",
       "    </tr>\n",
       "    <tr>\n",
       "      <th>freq</th>\n",
       "      <td>1</td>\n",
       "      <td>3390</td>\n",
       "    </tr>\n",
       "  </tbody>\n",
       "</table>\n",
       "</div>"
      ],
      "text/plain": [
       "       customer_id multiple_lines\n",
       "count         6361           6361\n",
       "unique        6361              2\n",
       "top     8544-GOQSH             No\n",
       "freq             1           3390"
      ]
     },
     "execution_count": 23,
     "metadata": {},
     "output_type": "execute_result"
    }
   ],
   "source": [
    "phone.info()\n",
    "phone.describe()"
   ]
  },
  {
   "cell_type": "code",
   "execution_count": 24,
   "id": "c215eb99-27ec-4b6a-8a42-091c0b4aea2a",
   "metadata": {},
   "outputs": [],
   "source": [
    "def to_bool(df, names):\n",
    "#     Will update Yes/No to 1/0\n",
    "    for name in names:\n",
    "        df[name] = df[name].map({'Yes':1, 'No':0}).astype('int8')\n",
    "    return df"
   ]
  },
  {
   "cell_type": "code",
   "execution_count": 25,
   "id": "ed1fa62c-8db1-46a9-8811-aabbc38ddba6",
   "metadata": {},
   "outputs": [],
   "source": [
    "phone = to_bool(phone, ['multiple_lines'])"
   ]
  },
  {
   "cell_type": "markdown",
   "id": "ea6f4571-2db0-40d2-9174-f7725d41ae32",
   "metadata": {},
   "source": [
    "### Personal"
   ]
  },
  {
   "cell_type": "code",
   "execution_count": 26,
   "id": "4f42492d-0bf4-477c-be80-f7d3b3e3b83d",
   "metadata": {},
   "outputs": [
    {
     "name": "stdout",
     "output_type": "stream",
     "text": [
      "<class 'pandas.core.frame.DataFrame'>\n",
      "RangeIndex: 7043 entries, 0 to 7042\n",
      "Data columns (total 5 columns):\n",
      " #   Column          Non-Null Count  Dtype \n",
      "---  ------          --------------  ----- \n",
      " 0   customer_id     7043 non-null   object\n",
      " 1   gender          7043 non-null   object\n",
      " 2   senior_citizen  7043 non-null   int64 \n",
      " 3   partner         7043 non-null   object\n",
      " 4   dependents      7043 non-null   object\n",
      "dtypes: int64(1), object(4)\n",
      "memory usage: 275.2+ KB\n"
     ]
    },
    {
     "data": {
      "text/html": [
       "<div>\n",
       "<style scoped>\n",
       "    .dataframe tbody tr th:only-of-type {\n",
       "        vertical-align: middle;\n",
       "    }\n",
       "\n",
       "    .dataframe tbody tr th {\n",
       "        vertical-align: top;\n",
       "    }\n",
       "\n",
       "    .dataframe thead th {\n",
       "        text-align: right;\n",
       "    }\n",
       "</style>\n",
       "<table border=\"1\" class=\"dataframe\">\n",
       "  <thead>\n",
       "    <tr style=\"text-align: right;\">\n",
       "      <th></th>\n",
       "      <th>customer_id</th>\n",
       "      <th>gender</th>\n",
       "      <th>senior_citizen</th>\n",
       "      <th>partner</th>\n",
       "      <th>dependents</th>\n",
       "    </tr>\n",
       "  </thead>\n",
       "  <tbody>\n",
       "    <tr>\n",
       "      <th>count</th>\n",
       "      <td>7043</td>\n",
       "      <td>7043</td>\n",
       "      <td>7043.000000</td>\n",
       "      <td>7043</td>\n",
       "      <td>7043</td>\n",
       "    </tr>\n",
       "    <tr>\n",
       "      <th>unique</th>\n",
       "      <td>7043</td>\n",
       "      <td>2</td>\n",
       "      <td>NaN</td>\n",
       "      <td>2</td>\n",
       "      <td>2</td>\n",
       "    </tr>\n",
       "    <tr>\n",
       "      <th>top</th>\n",
       "      <td>8544-GOQSH</td>\n",
       "      <td>Male</td>\n",
       "      <td>NaN</td>\n",
       "      <td>No</td>\n",
       "      <td>No</td>\n",
       "    </tr>\n",
       "    <tr>\n",
       "      <th>freq</th>\n",
       "      <td>1</td>\n",
       "      <td>3555</td>\n",
       "      <td>NaN</td>\n",
       "      <td>3641</td>\n",
       "      <td>4933</td>\n",
       "    </tr>\n",
       "    <tr>\n",
       "      <th>mean</th>\n",
       "      <td>NaN</td>\n",
       "      <td>NaN</td>\n",
       "      <td>0.162147</td>\n",
       "      <td>NaN</td>\n",
       "      <td>NaN</td>\n",
       "    </tr>\n",
       "    <tr>\n",
       "      <th>std</th>\n",
       "      <td>NaN</td>\n",
       "      <td>NaN</td>\n",
       "      <td>0.368612</td>\n",
       "      <td>NaN</td>\n",
       "      <td>NaN</td>\n",
       "    </tr>\n",
       "    <tr>\n",
       "      <th>min</th>\n",
       "      <td>NaN</td>\n",
       "      <td>NaN</td>\n",
       "      <td>0.000000</td>\n",
       "      <td>NaN</td>\n",
       "      <td>NaN</td>\n",
       "    </tr>\n",
       "    <tr>\n",
       "      <th>25%</th>\n",
       "      <td>NaN</td>\n",
       "      <td>NaN</td>\n",
       "      <td>0.000000</td>\n",
       "      <td>NaN</td>\n",
       "      <td>NaN</td>\n",
       "    </tr>\n",
       "    <tr>\n",
       "      <th>50%</th>\n",
       "      <td>NaN</td>\n",
       "      <td>NaN</td>\n",
       "      <td>0.000000</td>\n",
       "      <td>NaN</td>\n",
       "      <td>NaN</td>\n",
       "    </tr>\n",
       "    <tr>\n",
       "      <th>75%</th>\n",
       "      <td>NaN</td>\n",
       "      <td>NaN</td>\n",
       "      <td>0.000000</td>\n",
       "      <td>NaN</td>\n",
       "      <td>NaN</td>\n",
       "    </tr>\n",
       "    <tr>\n",
       "      <th>max</th>\n",
       "      <td>NaN</td>\n",
       "      <td>NaN</td>\n",
       "      <td>1.000000</td>\n",
       "      <td>NaN</td>\n",
       "      <td>NaN</td>\n",
       "    </tr>\n",
       "  </tbody>\n",
       "</table>\n",
       "</div>"
      ],
      "text/plain": [
       "       customer_id gender  senior_citizen partner dependents\n",
       "count         7043   7043     7043.000000    7043       7043\n",
       "unique        7043      2             NaN       2          2\n",
       "top     8544-GOQSH   Male             NaN      No         No\n",
       "freq             1   3555             NaN    3641       4933\n",
       "mean           NaN    NaN        0.162147     NaN        NaN\n",
       "std            NaN    NaN        0.368612     NaN        NaN\n",
       "min            NaN    NaN        0.000000     NaN        NaN\n",
       "25%            NaN    NaN        0.000000     NaN        NaN\n",
       "50%            NaN    NaN        0.000000     NaN        NaN\n",
       "75%            NaN    NaN        0.000000     NaN        NaN\n",
       "max            NaN    NaN        1.000000     NaN        NaN"
      ]
     },
     "execution_count": 26,
     "metadata": {},
     "output_type": "execute_result"
    }
   ],
   "source": [
    "personal.info()\n",
    "personal.describe(include='all')"
   ]
  },
  {
   "cell_type": "code",
   "execution_count": 27,
   "id": "3aff9397-9608-47a9-b9fe-2a2b8b9c8fa5",
   "metadata": {},
   "outputs": [
    {
     "name": "stdout",
     "output_type": "stream",
     "text": [
      "<class 'pandas.core.frame.DataFrame'>\n",
      "RangeIndex: 7043 entries, 0 to 7042\n",
      "Data columns (total 5 columns):\n",
      " #   Column          Non-Null Count  Dtype   \n",
      "---  ------          --------------  -----   \n",
      " 0   customer_id     7043 non-null   object  \n",
      " 1   gender          7043 non-null   category\n",
      " 2   senior_citizen  7043 non-null   int8    \n",
      " 3   partner         7043 non-null   int8    \n",
      " 4   dependents      7043 non-null   int8    \n",
      "dtypes: category(1), int8(3), object(1)\n",
      "memory usage: 82.8+ KB\n"
     ]
    }
   ],
   "source": [
    "personal = to_bool(personal, ['partner', 'dependents'])\n",
    "personal.senior_citizen = personal.senior_citizen.astype('int8')\n",
    "personal.gender = personal.gender.astype('category')\n",
    "personal.info()"
   ]
  },
  {
   "cell_type": "markdown",
   "id": "46108b58-bce7-4d45-816e-231f3b1cb012",
   "metadata": {},
   "source": [
    "### Internet"
   ]
  },
  {
   "cell_type": "code",
   "execution_count": 28,
   "id": "e0b8bb0c-60f5-4c69-bc87-6015c39981a7",
   "metadata": {},
   "outputs": [
    {
     "name": "stdout",
     "output_type": "stream",
     "text": [
      "<class 'pandas.core.frame.DataFrame'>\n",
      "RangeIndex: 5517 entries, 0 to 5516\n",
      "Data columns (total 8 columns):\n",
      " #   Column             Non-Null Count  Dtype \n",
      "---  ------             --------------  ----- \n",
      " 0   customer_id        5517 non-null   object\n",
      " 1   internet_service   5517 non-null   object\n",
      " 2   online_security    5517 non-null   object\n",
      " 3   online_backup      5517 non-null   object\n",
      " 4   device_protection  5517 non-null   object\n",
      " 5   tech_support       5517 non-null   object\n",
      " 6   streaming_tv       5517 non-null   object\n",
      " 7   streaming_movies   5517 non-null   object\n",
      "dtypes: object(8)\n",
      "memory usage: 344.9+ KB\n"
     ]
    },
    {
     "data": {
      "text/html": [
       "<div>\n",
       "<style scoped>\n",
       "    .dataframe tbody tr th:only-of-type {\n",
       "        vertical-align: middle;\n",
       "    }\n",
       "\n",
       "    .dataframe tbody tr th {\n",
       "        vertical-align: top;\n",
       "    }\n",
       "\n",
       "    .dataframe thead th {\n",
       "        text-align: right;\n",
       "    }\n",
       "</style>\n",
       "<table border=\"1\" class=\"dataframe\">\n",
       "  <thead>\n",
       "    <tr style=\"text-align: right;\">\n",
       "      <th></th>\n",
       "      <th>customer_id</th>\n",
       "      <th>internet_service</th>\n",
       "      <th>online_security</th>\n",
       "      <th>online_backup</th>\n",
       "      <th>device_protection</th>\n",
       "      <th>tech_support</th>\n",
       "      <th>streaming_tv</th>\n",
       "      <th>streaming_movies</th>\n",
       "    </tr>\n",
       "  </thead>\n",
       "  <tbody>\n",
       "    <tr>\n",
       "      <th>count</th>\n",
       "      <td>5517</td>\n",
       "      <td>5517</td>\n",
       "      <td>5517</td>\n",
       "      <td>5517</td>\n",
       "      <td>5517</td>\n",
       "      <td>5517</td>\n",
       "      <td>5517</td>\n",
       "      <td>5517</td>\n",
       "    </tr>\n",
       "    <tr>\n",
       "      <th>unique</th>\n",
       "      <td>5517</td>\n",
       "      <td>2</td>\n",
       "      <td>2</td>\n",
       "      <td>2</td>\n",
       "      <td>2</td>\n",
       "      <td>2</td>\n",
       "      <td>2</td>\n",
       "      <td>2</td>\n",
       "    </tr>\n",
       "    <tr>\n",
       "      <th>top</th>\n",
       "      <td>8544-GOQSH</td>\n",
       "      <td>Fiber optic</td>\n",
       "      <td>No</td>\n",
       "      <td>No</td>\n",
       "      <td>No</td>\n",
       "      <td>No</td>\n",
       "      <td>No</td>\n",
       "      <td>No</td>\n",
       "    </tr>\n",
       "    <tr>\n",
       "      <th>freq</th>\n",
       "      <td>1</td>\n",
       "      <td>3096</td>\n",
       "      <td>3498</td>\n",
       "      <td>3088</td>\n",
       "      <td>3095</td>\n",
       "      <td>3473</td>\n",
       "      <td>2810</td>\n",
       "      <td>2785</td>\n",
       "    </tr>\n",
       "  </tbody>\n",
       "</table>\n",
       "</div>"
      ],
      "text/plain": [
       "       customer_id internet_service online_security online_backup  \\\n",
       "count         5517             5517            5517          5517   \n",
       "unique        5517                2               2             2   \n",
       "top     8544-GOQSH      Fiber optic              No            No   \n",
       "freq             1             3096            3498          3088   \n",
       "\n",
       "       device_protection tech_support streaming_tv streaming_movies  \n",
       "count               5517         5517         5517             5517  \n",
       "unique                 2            2            2                2  \n",
       "top                   No           No           No               No  \n",
       "freq                3095         3473         2810             2785  "
      ]
     },
     "execution_count": 28,
     "metadata": {},
     "output_type": "execute_result"
    }
   ],
   "source": [
    "internet.info()\n",
    "internet.describe()"
   ]
  },
  {
   "cell_type": "code",
   "execution_count": 29,
   "id": "fda2429e-5999-4dad-8e84-95361aeaa6c7",
   "metadata": {},
   "outputs": [
    {
     "name": "stdout",
     "output_type": "stream",
     "text": [
      "<class 'pandas.core.frame.DataFrame'>\n",
      "RangeIndex: 5517 entries, 0 to 5516\n",
      "Data columns (total 8 columns):\n",
      " #   Column             Non-Null Count  Dtype   \n",
      "---  ------             --------------  -----   \n",
      " 0   customer_id        5517 non-null   object  \n",
      " 1   internet_service   5517 non-null   category\n",
      " 2   online_security    5517 non-null   int8    \n",
      " 3   online_backup      5517 non-null   int8    \n",
      " 4   device_protection  5517 non-null   int8    \n",
      " 5   tech_support       5517 non-null   int8    \n",
      " 6   streaming_tv       5517 non-null   int8    \n",
      " 7   streaming_movies   5517 non-null   int8    \n",
      "dtypes: category(1), int8(6), object(1)\n",
      "memory usage: 81.1+ KB\n"
     ]
    },
    {
     "data": {
      "text/html": [
       "<div>\n",
       "<style scoped>\n",
       "    .dataframe tbody tr th:only-of-type {\n",
       "        vertical-align: middle;\n",
       "    }\n",
       "\n",
       "    .dataframe tbody tr th {\n",
       "        vertical-align: top;\n",
       "    }\n",
       "\n",
       "    .dataframe thead th {\n",
       "        text-align: right;\n",
       "    }\n",
       "</style>\n",
       "<table border=\"1\" class=\"dataframe\">\n",
       "  <thead>\n",
       "    <tr style=\"text-align: right;\">\n",
       "      <th></th>\n",
       "      <th>customer_id</th>\n",
       "      <th>internet_service</th>\n",
       "      <th>online_security</th>\n",
       "      <th>online_backup</th>\n",
       "      <th>device_protection</th>\n",
       "      <th>tech_support</th>\n",
       "      <th>streaming_tv</th>\n",
       "      <th>streaming_movies</th>\n",
       "    </tr>\n",
       "  </thead>\n",
       "  <tbody>\n",
       "    <tr>\n",
       "      <th>0</th>\n",
       "      <td>7590-VHVEG</td>\n",
       "      <td>DSL</td>\n",
       "      <td>0</td>\n",
       "      <td>1</td>\n",
       "      <td>0</td>\n",
       "      <td>0</td>\n",
       "      <td>0</td>\n",
       "      <td>0</td>\n",
       "    </tr>\n",
       "    <tr>\n",
       "      <th>1</th>\n",
       "      <td>5575-GNVDE</td>\n",
       "      <td>DSL</td>\n",
       "      <td>1</td>\n",
       "      <td>0</td>\n",
       "      <td>1</td>\n",
       "      <td>0</td>\n",
       "      <td>0</td>\n",
       "      <td>0</td>\n",
       "    </tr>\n",
       "    <tr>\n",
       "      <th>2</th>\n",
       "      <td>3668-QPYBK</td>\n",
       "      <td>DSL</td>\n",
       "      <td>1</td>\n",
       "      <td>1</td>\n",
       "      <td>0</td>\n",
       "      <td>0</td>\n",
       "      <td>0</td>\n",
       "      <td>0</td>\n",
       "    </tr>\n",
       "    <tr>\n",
       "      <th>3</th>\n",
       "      <td>7795-CFOCW</td>\n",
       "      <td>DSL</td>\n",
       "      <td>1</td>\n",
       "      <td>0</td>\n",
       "      <td>1</td>\n",
       "      <td>1</td>\n",
       "      <td>0</td>\n",
       "      <td>0</td>\n",
       "    </tr>\n",
       "    <tr>\n",
       "      <th>4</th>\n",
       "      <td>9237-HQITU</td>\n",
       "      <td>Fiber optic</td>\n",
       "      <td>0</td>\n",
       "      <td>0</td>\n",
       "      <td>0</td>\n",
       "      <td>0</td>\n",
       "      <td>0</td>\n",
       "      <td>0</td>\n",
       "    </tr>\n",
       "  </tbody>\n",
       "</table>\n",
       "</div>"
      ],
      "text/plain": [
       "  customer_id internet_service  online_security  online_backup  \\\n",
       "0  7590-VHVEG              DSL                0              1   \n",
       "1  5575-GNVDE              DSL                1              0   \n",
       "2  3668-QPYBK              DSL                1              1   \n",
       "3  7795-CFOCW              DSL                1              0   \n",
       "4  9237-HQITU      Fiber optic                0              0   \n",
       "\n",
       "   device_protection  tech_support  streaming_tv  streaming_movies  \n",
       "0                  0             0             0                 0  \n",
       "1                  1             0             0                 0  \n",
       "2                  0             0             0                 0  \n",
       "3                  1             1             0                 0  \n",
       "4                  0             0             0                 0  "
      ]
     },
     "execution_count": 29,
     "metadata": {},
     "output_type": "execute_result"
    }
   ],
   "source": [
    "internet.internet_service = internet.internet_service.astype(\"category\")\n",
    "internet = to_bool(internet, ['online_security', 'online_backup', 'device_protection', 'tech_support', 'streaming_tv', 'streaming_movies'])\n",
    "internet.info()\n",
    "internet.head()"
   ]
  },
  {
   "cell_type": "markdown",
   "id": "2aa519ef-f258-4ee3-b07f-94768aad7a5b",
   "metadata": {},
   "source": [
    "### Contract"
   ]
  },
  {
   "cell_type": "code",
   "execution_count": 30,
   "id": "26ff371c-4ff8-429d-bf0e-21649e516683",
   "metadata": {},
   "outputs": [
    {
     "name": "stdout",
     "output_type": "stream",
     "text": [
      "<class 'pandas.core.frame.DataFrame'>\n",
      "RangeIndex: 7043 entries, 0 to 7042\n",
      "Data columns (total 8 columns):\n",
      " #   Column             Non-Null Count  Dtype         \n",
      "---  ------             --------------  -----         \n",
      " 0   customer_id        7043 non-null   object        \n",
      " 1   begin_date         7043 non-null   datetime64[ns]\n",
      " 2   end_date           7043 non-null   object        \n",
      " 3   type               7043 non-null   object        \n",
      " 4   paperless_billing  7043 non-null   object        \n",
      " 5   payment_method     7043 non-null   object        \n",
      " 6   monthly_charges    7043 non-null   float64       \n",
      " 7   total_charges      7043 non-null   object        \n",
      "dtypes: datetime64[ns](1), float64(1), object(6)\n",
      "memory usage: 440.3+ KB\n"
     ]
    },
    {
     "data": {
      "text/html": [
       "<div>\n",
       "<style scoped>\n",
       "    .dataframe tbody tr th:only-of-type {\n",
       "        vertical-align: middle;\n",
       "    }\n",
       "\n",
       "    .dataframe tbody tr th {\n",
       "        vertical-align: top;\n",
       "    }\n",
       "\n",
       "    .dataframe thead th {\n",
       "        text-align: right;\n",
       "    }\n",
       "</style>\n",
       "<table border=\"1\" class=\"dataframe\">\n",
       "  <thead>\n",
       "    <tr style=\"text-align: right;\">\n",
       "      <th></th>\n",
       "      <th>customer_id</th>\n",
       "      <th>begin_date</th>\n",
       "      <th>end_date</th>\n",
       "      <th>type</th>\n",
       "      <th>paperless_billing</th>\n",
       "      <th>payment_method</th>\n",
       "      <th>monthly_charges</th>\n",
       "      <th>total_charges</th>\n",
       "    </tr>\n",
       "  </thead>\n",
       "  <tbody>\n",
       "    <tr>\n",
       "      <th>count</th>\n",
       "      <td>7043</td>\n",
       "      <td>7043</td>\n",
       "      <td>7043</td>\n",
       "      <td>7043</td>\n",
       "      <td>7043</td>\n",
       "      <td>7043</td>\n",
       "      <td>7043.000000</td>\n",
       "      <td>7043</td>\n",
       "    </tr>\n",
       "    <tr>\n",
       "      <th>unique</th>\n",
       "      <td>7043</td>\n",
       "      <td>NaN</td>\n",
       "      <td>5</td>\n",
       "      <td>3</td>\n",
       "      <td>2</td>\n",
       "      <td>4</td>\n",
       "      <td>NaN</td>\n",
       "      <td>6531</td>\n",
       "    </tr>\n",
       "    <tr>\n",
       "      <th>top</th>\n",
       "      <td>8544-GOQSH</td>\n",
       "      <td>NaN</td>\n",
       "      <td>No</td>\n",
       "      <td>Month-to-month</td>\n",
       "      <td>Yes</td>\n",
       "      <td>Electronic check</td>\n",
       "      <td>NaN</td>\n",
       "      <td>20.2</td>\n",
       "    </tr>\n",
       "    <tr>\n",
       "      <th>freq</th>\n",
       "      <td>1</td>\n",
       "      <td>NaN</td>\n",
       "      <td>5174</td>\n",
       "      <td>3875</td>\n",
       "      <td>4171</td>\n",
       "      <td>2365</td>\n",
       "      <td>NaN</td>\n",
       "      <td>11</td>\n",
       "    </tr>\n",
       "    <tr>\n",
       "      <th>mean</th>\n",
       "      <td>NaN</td>\n",
       "      <td>2017-04-30 13:01:50.918642688</td>\n",
       "      <td>NaN</td>\n",
       "      <td>NaN</td>\n",
       "      <td>NaN</td>\n",
       "      <td>NaN</td>\n",
       "      <td>64.761692</td>\n",
       "      <td>NaN</td>\n",
       "    </tr>\n",
       "    <tr>\n",
       "      <th>min</th>\n",
       "      <td>NaN</td>\n",
       "      <td>2013-10-01 00:00:00</td>\n",
       "      <td>NaN</td>\n",
       "      <td>NaN</td>\n",
       "      <td>NaN</td>\n",
       "      <td>NaN</td>\n",
       "      <td>18.250000</td>\n",
       "      <td>NaN</td>\n",
       "    </tr>\n",
       "    <tr>\n",
       "      <th>25%</th>\n",
       "      <td>NaN</td>\n",
       "      <td>2015-06-01 00:00:00</td>\n",
       "      <td>NaN</td>\n",
       "      <td>NaN</td>\n",
       "      <td>NaN</td>\n",
       "      <td>NaN</td>\n",
       "      <td>35.500000</td>\n",
       "      <td>NaN</td>\n",
       "    </tr>\n",
       "    <tr>\n",
       "      <th>50%</th>\n",
       "      <td>NaN</td>\n",
       "      <td>2017-09-01 00:00:00</td>\n",
       "      <td>NaN</td>\n",
       "      <td>NaN</td>\n",
       "      <td>NaN</td>\n",
       "      <td>NaN</td>\n",
       "      <td>70.350000</td>\n",
       "      <td>NaN</td>\n",
       "    </tr>\n",
       "    <tr>\n",
       "      <th>75%</th>\n",
       "      <td>NaN</td>\n",
       "      <td>2019-04-01 00:00:00</td>\n",
       "      <td>NaN</td>\n",
       "      <td>NaN</td>\n",
       "      <td>NaN</td>\n",
       "      <td>NaN</td>\n",
       "      <td>89.850000</td>\n",
       "      <td>NaN</td>\n",
       "    </tr>\n",
       "    <tr>\n",
       "      <th>max</th>\n",
       "      <td>NaN</td>\n",
       "      <td>2020-02-01 00:00:00</td>\n",
       "      <td>NaN</td>\n",
       "      <td>NaN</td>\n",
       "      <td>NaN</td>\n",
       "      <td>NaN</td>\n",
       "      <td>118.750000</td>\n",
       "      <td>NaN</td>\n",
       "    </tr>\n",
       "    <tr>\n",
       "      <th>std</th>\n",
       "      <td>NaN</td>\n",
       "      <td>NaN</td>\n",
       "      <td>NaN</td>\n",
       "      <td>NaN</td>\n",
       "      <td>NaN</td>\n",
       "      <td>NaN</td>\n",
       "      <td>30.090047</td>\n",
       "      <td>NaN</td>\n",
       "    </tr>\n",
       "  </tbody>\n",
       "</table>\n",
       "</div>"
      ],
      "text/plain": [
       "       customer_id                     begin_date end_date            type  \\\n",
       "count         7043                           7043     7043            7043   \n",
       "unique        7043                            NaN        5               3   \n",
       "top     8544-GOQSH                            NaN       No  Month-to-month   \n",
       "freq             1                            NaN     5174            3875   \n",
       "mean           NaN  2017-04-30 13:01:50.918642688      NaN             NaN   \n",
       "min            NaN            2013-10-01 00:00:00      NaN             NaN   \n",
       "25%            NaN            2015-06-01 00:00:00      NaN             NaN   \n",
       "50%            NaN            2017-09-01 00:00:00      NaN             NaN   \n",
       "75%            NaN            2019-04-01 00:00:00      NaN             NaN   \n",
       "max            NaN            2020-02-01 00:00:00      NaN             NaN   \n",
       "std            NaN                            NaN      NaN             NaN   \n",
       "\n",
       "       paperless_billing    payment_method  monthly_charges total_charges  \n",
       "count               7043              7043      7043.000000          7043  \n",
       "unique                 2                 4              NaN          6531  \n",
       "top                  Yes  Electronic check              NaN          20.2  \n",
       "freq                4171              2365              NaN            11  \n",
       "mean                 NaN               NaN        64.761692           NaN  \n",
       "min                  NaN               NaN        18.250000           NaN  \n",
       "25%                  NaN               NaN        35.500000           NaN  \n",
       "50%                  NaN               NaN        70.350000           NaN  \n",
       "75%                  NaN               NaN        89.850000           NaN  \n",
       "max                  NaN               NaN       118.750000           NaN  \n",
       "std                  NaN               NaN        30.090047           NaN  "
      ]
     },
     "execution_count": 30,
     "metadata": {},
     "output_type": "execute_result"
    }
   ],
   "source": [
    "contract.info()\n",
    "contract.describe(include='all', datetime_is_numeric=True)"
   ]
  },
  {
   "cell_type": "code",
   "execution_count": 31,
   "id": "a73fbff1-271d-4fb5-aa04-ad9ec6e47235",
   "metadata": {},
   "outputs": [
    {
     "name": "stdout",
     "output_type": "stream",
     "text": [
      "<class 'pandas.core.frame.DataFrame'>\n",
      "RangeIndex: 7043 entries, 0 to 7042\n",
      "Data columns (total 8 columns):\n",
      " #   Column             Non-Null Count  Dtype         \n",
      "---  ------             --------------  -----         \n",
      " 0   customer_id        7043 non-null   object        \n",
      " 1   begin_date         7043 non-null   datetime64[ns]\n",
      " 2   end_date           7043 non-null   object        \n",
      " 3   type               7043 non-null   category      \n",
      " 4   paperless_billing  7043 non-null   int8          \n",
      " 5   payment_method     7043 non-null   category      \n",
      " 6   monthly_charges    7043 non-null   float64       \n",
      " 7   total_charges      7043 non-null   object        \n",
      "dtypes: category(2), datetime64[ns](1), float64(1), int8(1), object(3)\n",
      "memory usage: 296.2+ KB\n"
     ]
    },
    {
     "data": {
      "text/html": [
       "<div>\n",
       "<style scoped>\n",
       "    .dataframe tbody tr th:only-of-type {\n",
       "        vertical-align: middle;\n",
       "    }\n",
       "\n",
       "    .dataframe tbody tr th {\n",
       "        vertical-align: top;\n",
       "    }\n",
       "\n",
       "    .dataframe thead th {\n",
       "        text-align: right;\n",
       "    }\n",
       "</style>\n",
       "<table border=\"1\" class=\"dataframe\">\n",
       "  <thead>\n",
       "    <tr style=\"text-align: right;\">\n",
       "      <th></th>\n",
       "      <th>customer_id</th>\n",
       "      <th>begin_date</th>\n",
       "      <th>end_date</th>\n",
       "      <th>type</th>\n",
       "      <th>paperless_billing</th>\n",
       "      <th>payment_method</th>\n",
       "      <th>monthly_charges</th>\n",
       "      <th>total_charges</th>\n",
       "    </tr>\n",
       "  </thead>\n",
       "  <tbody>\n",
       "    <tr>\n",
       "      <th>0</th>\n",
       "      <td>7590-VHVEG</td>\n",
       "      <td>2020-01-01</td>\n",
       "      <td>No</td>\n",
       "      <td>Month-to-month</td>\n",
       "      <td>1</td>\n",
       "      <td>Electronic check</td>\n",
       "      <td>29.85</td>\n",
       "      <td>29.85</td>\n",
       "    </tr>\n",
       "    <tr>\n",
       "      <th>1</th>\n",
       "      <td>5575-GNVDE</td>\n",
       "      <td>2017-04-01</td>\n",
       "      <td>No</td>\n",
       "      <td>One year</td>\n",
       "      <td>0</td>\n",
       "      <td>Mailed check</td>\n",
       "      <td>56.95</td>\n",
       "      <td>1889.5</td>\n",
       "    </tr>\n",
       "    <tr>\n",
       "      <th>2</th>\n",
       "      <td>3668-QPYBK</td>\n",
       "      <td>2019-10-01</td>\n",
       "      <td>2019-12-01 00:00:00</td>\n",
       "      <td>Month-to-month</td>\n",
       "      <td>1</td>\n",
       "      <td>Mailed check</td>\n",
       "      <td>53.85</td>\n",
       "      <td>108.15</td>\n",
       "    </tr>\n",
       "    <tr>\n",
       "      <th>3</th>\n",
       "      <td>7795-CFOCW</td>\n",
       "      <td>2016-05-01</td>\n",
       "      <td>No</td>\n",
       "      <td>One year</td>\n",
       "      <td>0</td>\n",
       "      <td>Bank transfer (automatic)</td>\n",
       "      <td>42.30</td>\n",
       "      <td>1840.75</td>\n",
       "    </tr>\n",
       "    <tr>\n",
       "      <th>4</th>\n",
       "      <td>9237-HQITU</td>\n",
       "      <td>2019-09-01</td>\n",
       "      <td>2019-11-01 00:00:00</td>\n",
       "      <td>Month-to-month</td>\n",
       "      <td>1</td>\n",
       "      <td>Electronic check</td>\n",
       "      <td>70.70</td>\n",
       "      <td>151.65</td>\n",
       "    </tr>\n",
       "  </tbody>\n",
       "</table>\n",
       "</div>"
      ],
      "text/plain": [
       "  customer_id begin_date             end_date            type  \\\n",
       "0  7590-VHVEG 2020-01-01                   No  Month-to-month   \n",
       "1  5575-GNVDE 2017-04-01                   No        One year   \n",
       "2  3668-QPYBK 2019-10-01  2019-12-01 00:00:00  Month-to-month   \n",
       "3  7795-CFOCW 2016-05-01                   No        One year   \n",
       "4  9237-HQITU 2019-09-01  2019-11-01 00:00:00  Month-to-month   \n",
       "\n",
       "   paperless_billing             payment_method  monthly_charges total_charges  \n",
       "0                  1           Electronic check            29.85         29.85  \n",
       "1                  0               Mailed check            56.95        1889.5  \n",
       "2                  1               Mailed check            53.85        108.15  \n",
       "3                  0  Bank transfer (automatic)            42.30       1840.75  \n",
       "4                  1           Electronic check            70.70        151.65  "
      ]
     },
     "execution_count": 31,
     "metadata": {},
     "output_type": "execute_result"
    }
   ],
   "source": [
    "contract[['type', 'payment_method']] = contract[['type', 'payment_method']].astype('category')\n",
    "contract = to_bool(contract, ['paperless_billing'])\n",
    "contract.info()\n",
    "contract.head()"
   ]
  },
  {
   "cell_type": "code",
   "execution_count": 32,
   "id": "a57cf755-7d1b-448f-8d5c-0e00f484828c",
   "metadata": {},
   "outputs": [
    {
     "data": {
      "text/plain": [
       "11"
      ]
     },
     "execution_count": 32,
     "metadata": {},
     "output_type": "execute_result"
    }
   ],
   "source": [
    "contract['total_charges'] = pd.to_numeric(contract.total_charges, errors='coerce')\n",
    "contract.total_charges.isna().sum()"
   ]
  },
  {
   "cell_type": "markdown",
   "id": "8a77db2e-f8c0-4458-bad5-68b7f170305b",
   "metadata": {},
   "source": [
    "Let's investigate missing values in the total charges column."
   ]
  },
  {
   "cell_type": "code",
   "execution_count": 33,
   "id": "b25517e1-4524-4700-be18-5ccb0616cb37",
   "metadata": {},
   "outputs": [
    {
     "data": {
      "text/html": [
       "<div>\n",
       "<style scoped>\n",
       "    .dataframe tbody tr th:only-of-type {\n",
       "        vertical-align: middle;\n",
       "    }\n",
       "\n",
       "    .dataframe tbody tr th {\n",
       "        vertical-align: top;\n",
       "    }\n",
       "\n",
       "    .dataframe thead th {\n",
       "        text-align: right;\n",
       "    }\n",
       "</style>\n",
       "<table border=\"1\" class=\"dataframe\">\n",
       "  <thead>\n",
       "    <tr style=\"text-align: right;\">\n",
       "      <th></th>\n",
       "      <th>customer_id</th>\n",
       "      <th>begin_date</th>\n",
       "      <th>end_date</th>\n",
       "      <th>type</th>\n",
       "      <th>paperless_billing</th>\n",
       "      <th>payment_method</th>\n",
       "      <th>monthly_charges</th>\n",
       "      <th>total_charges</th>\n",
       "    </tr>\n",
       "  </thead>\n",
       "  <tbody>\n",
       "    <tr>\n",
       "      <th>488</th>\n",
       "      <td>4472-LVYGI</td>\n",
       "      <td>2020-02-01</td>\n",
       "      <td>No</td>\n",
       "      <td>Two year</td>\n",
       "      <td>1</td>\n",
       "      <td>Bank transfer (automatic)</td>\n",
       "      <td>52.55</td>\n",
       "      <td>NaN</td>\n",
       "    </tr>\n",
       "    <tr>\n",
       "      <th>753</th>\n",
       "      <td>3115-CZMZD</td>\n",
       "      <td>2020-02-01</td>\n",
       "      <td>No</td>\n",
       "      <td>Two year</td>\n",
       "      <td>0</td>\n",
       "      <td>Mailed check</td>\n",
       "      <td>20.25</td>\n",
       "      <td>NaN</td>\n",
       "    </tr>\n",
       "    <tr>\n",
       "      <th>936</th>\n",
       "      <td>5709-LVOEQ</td>\n",
       "      <td>2020-02-01</td>\n",
       "      <td>No</td>\n",
       "      <td>Two year</td>\n",
       "      <td>0</td>\n",
       "      <td>Mailed check</td>\n",
       "      <td>80.85</td>\n",
       "      <td>NaN</td>\n",
       "    </tr>\n",
       "    <tr>\n",
       "      <th>1082</th>\n",
       "      <td>4367-NUYAO</td>\n",
       "      <td>2020-02-01</td>\n",
       "      <td>No</td>\n",
       "      <td>Two year</td>\n",
       "      <td>0</td>\n",
       "      <td>Mailed check</td>\n",
       "      <td>25.75</td>\n",
       "      <td>NaN</td>\n",
       "    </tr>\n",
       "    <tr>\n",
       "      <th>1340</th>\n",
       "      <td>1371-DWPAZ</td>\n",
       "      <td>2020-02-01</td>\n",
       "      <td>No</td>\n",
       "      <td>Two year</td>\n",
       "      <td>0</td>\n",
       "      <td>Credit card (automatic)</td>\n",
       "      <td>56.05</td>\n",
       "      <td>NaN</td>\n",
       "    </tr>\n",
       "    <tr>\n",
       "      <th>3331</th>\n",
       "      <td>7644-OMVMY</td>\n",
       "      <td>2020-02-01</td>\n",
       "      <td>No</td>\n",
       "      <td>Two year</td>\n",
       "      <td>0</td>\n",
       "      <td>Mailed check</td>\n",
       "      <td>19.85</td>\n",
       "      <td>NaN</td>\n",
       "    </tr>\n",
       "    <tr>\n",
       "      <th>3826</th>\n",
       "      <td>3213-VVOLG</td>\n",
       "      <td>2020-02-01</td>\n",
       "      <td>No</td>\n",
       "      <td>Two year</td>\n",
       "      <td>0</td>\n",
       "      <td>Mailed check</td>\n",
       "      <td>25.35</td>\n",
       "      <td>NaN</td>\n",
       "    </tr>\n",
       "    <tr>\n",
       "      <th>4380</th>\n",
       "      <td>2520-SGTTA</td>\n",
       "      <td>2020-02-01</td>\n",
       "      <td>No</td>\n",
       "      <td>Two year</td>\n",
       "      <td>0</td>\n",
       "      <td>Mailed check</td>\n",
       "      <td>20.00</td>\n",
       "      <td>NaN</td>\n",
       "    </tr>\n",
       "    <tr>\n",
       "      <th>5218</th>\n",
       "      <td>2923-ARZLG</td>\n",
       "      <td>2020-02-01</td>\n",
       "      <td>No</td>\n",
       "      <td>One year</td>\n",
       "      <td>1</td>\n",
       "      <td>Mailed check</td>\n",
       "      <td>19.70</td>\n",
       "      <td>NaN</td>\n",
       "    </tr>\n",
       "    <tr>\n",
       "      <th>6670</th>\n",
       "      <td>4075-WKNIU</td>\n",
       "      <td>2020-02-01</td>\n",
       "      <td>No</td>\n",
       "      <td>Two year</td>\n",
       "      <td>0</td>\n",
       "      <td>Mailed check</td>\n",
       "      <td>73.35</td>\n",
       "      <td>NaN</td>\n",
       "    </tr>\n",
       "    <tr>\n",
       "      <th>6754</th>\n",
       "      <td>2775-SEFEE</td>\n",
       "      <td>2020-02-01</td>\n",
       "      <td>No</td>\n",
       "      <td>Two year</td>\n",
       "      <td>1</td>\n",
       "      <td>Bank transfer (automatic)</td>\n",
       "      <td>61.90</td>\n",
       "      <td>NaN</td>\n",
       "    </tr>\n",
       "  </tbody>\n",
       "</table>\n",
       "</div>"
      ],
      "text/plain": [
       "     customer_id begin_date end_date      type  paperless_billing  \\\n",
       "488   4472-LVYGI 2020-02-01       No  Two year                  1   \n",
       "753   3115-CZMZD 2020-02-01       No  Two year                  0   \n",
       "936   5709-LVOEQ 2020-02-01       No  Two year                  0   \n",
       "1082  4367-NUYAO 2020-02-01       No  Two year                  0   \n",
       "1340  1371-DWPAZ 2020-02-01       No  Two year                  0   \n",
       "3331  7644-OMVMY 2020-02-01       No  Two year                  0   \n",
       "3826  3213-VVOLG 2020-02-01       No  Two year                  0   \n",
       "4380  2520-SGTTA 2020-02-01       No  Two year                  0   \n",
       "5218  2923-ARZLG 2020-02-01       No  One year                  1   \n",
       "6670  4075-WKNIU 2020-02-01       No  Two year                  0   \n",
       "6754  2775-SEFEE 2020-02-01       No  Two year                  1   \n",
       "\n",
       "                 payment_method  monthly_charges  total_charges  \n",
       "488   Bank transfer (automatic)            52.55            NaN  \n",
       "753                Mailed check            20.25            NaN  \n",
       "936                Mailed check            80.85            NaN  \n",
       "1082               Mailed check            25.75            NaN  \n",
       "1340    Credit card (automatic)            56.05            NaN  \n",
       "3331               Mailed check            19.85            NaN  \n",
       "3826               Mailed check            25.35            NaN  \n",
       "4380               Mailed check            20.00            NaN  \n",
       "5218               Mailed check            19.70            NaN  \n",
       "6670               Mailed check            73.35            NaN  \n",
       "6754  Bank transfer (automatic)            61.90            NaN  "
      ]
     },
     "execution_count": 33,
     "metadata": {},
     "output_type": "execute_result"
    }
   ],
   "source": [
    "contract[contract.total_charges.isna()]"
   ]
  },
  {
   "cell_type": "markdown",
   "id": "4948b7dd-2281-4e34-9ac5-b28d69234ca9",
   "metadata": {},
   "source": [
    "Ah, all NaN total charges are instances where the user signed up \"today\". Let's make these zeros and preserve the data."
   ]
  },
  {
   "cell_type": "code",
   "execution_count": 34,
   "id": "78aab55b-d875-472b-a747-2cdea201ee4d",
   "metadata": {},
   "outputs": [],
   "source": [
    "contract.total_charges = contract.total_charges.fillna(0)"
   ]
  },
  {
   "cell_type": "code",
   "execution_count": 35,
   "id": "43c6c596-ef2f-481f-bf41-07835b87469c",
   "metadata": {},
   "outputs": [
    {
     "data": {
      "text/plain": [
       "customer_id          0\n",
       "begin_date           0\n",
       "end_date             0\n",
       "type                 0\n",
       "paperless_billing    0\n",
       "payment_method       0\n",
       "monthly_charges      0\n",
       "total_charges        0\n",
       "dtype: int64"
      ]
     },
     "execution_count": 35,
     "metadata": {},
     "output_type": "execute_result"
    }
   ],
   "source": [
    "contract.isna().sum()"
   ]
  },
  {
   "cell_type": "code",
   "execution_count": 36,
   "id": "85f3b2ff-44e4-42be-b9c1-98d735683a9e",
   "metadata": {},
   "outputs": [],
   "source": [
    "contract.end_date = pd.to_datetime(contract.end_date.replace('No', np.NaN))"
   ]
  },
  {
   "cell_type": "code",
   "execution_count": 37,
   "id": "c6f0477c-44ce-40ad-a6d3-b23bc9a8ed39",
   "metadata": {},
   "outputs": [
    {
     "name": "stdout",
     "output_type": "stream",
     "text": [
      "<class 'pandas.core.frame.DataFrame'>\n",
      "RangeIndex: 7043 entries, 0 to 7042\n",
      "Data columns (total 8 columns):\n",
      " #   Column             Non-Null Count  Dtype         \n",
      "---  ------             --------------  -----         \n",
      " 0   customer_id        7043 non-null   object        \n",
      " 1   begin_date         7043 non-null   datetime64[ns]\n",
      " 2   end_date           1869 non-null   datetime64[ns]\n",
      " 3   type               7043 non-null   category      \n",
      " 4   paperless_billing  7043 non-null   int8          \n",
      " 5   payment_method     7043 non-null   category      \n",
      " 6   monthly_charges    7043 non-null   float64       \n",
      " 7   total_charges      7043 non-null   float64       \n",
      "dtypes: category(2), datetime64[ns](2), float64(2), int8(1), object(1)\n",
      "memory usage: 296.2+ KB\n"
     ]
    }
   ],
   "source": [
    "contract.info()"
   ]
  },
  {
   "cell_type": "markdown",
   "id": "f36b9a94-1b55-4f1e-9910-d94acb56ef0f",
   "metadata": {},
   "source": [
    "## Join tables"
   ]
  },
  {
   "cell_type": "markdown",
   "id": "74157680-868b-4e09-9be5-fb962fc54307",
   "metadata": {},
   "source": [
    "Let's start off with the contracts table, which contains the target, and then left join the other tables onto this one."
   ]
  },
  {
   "cell_type": "code",
   "execution_count": 38,
   "id": "e7879783-e7d5-4919-ad05-bf51450196b0",
   "metadata": {},
   "outputs": [],
   "source": [
    "df = pd.merge(contract, phone, how='left', on='customer_id')\n",
    "df = pd.merge(df, internet, how='left', on='customer_id')\n",
    "df = pd.merge(df, personal, how='left', on='customer_id')"
   ]
  },
  {
   "cell_type": "code",
   "execution_count": 39,
   "id": "983e75aa-d3ca-4d07-9591-1869113ff441",
   "metadata": {},
   "outputs": [
    {
     "name": "stdout",
     "output_type": "stream",
     "text": [
      "<class 'pandas.core.frame.DataFrame'>\n",
      "Int64Index: 7043 entries, 0 to 7042\n",
      "Data columns (total 20 columns):\n",
      " #   Column             Non-Null Count  Dtype         \n",
      "---  ------             --------------  -----         \n",
      " 0   customer_id        7043 non-null   object        \n",
      " 1   begin_date         7043 non-null   datetime64[ns]\n",
      " 2   end_date           1869 non-null   datetime64[ns]\n",
      " 3   type               7043 non-null   category      \n",
      " 4   paperless_billing  7043 non-null   int8          \n",
      " 5   payment_method     7043 non-null   category      \n",
      " 6   monthly_charges    7043 non-null   float64       \n",
      " 7   total_charges      7043 non-null   float64       \n",
      " 8   multiple_lines     6361 non-null   float64       \n",
      " 9   internet_service   5517 non-null   category      \n",
      " 10  online_security    5517 non-null   float64       \n",
      " 11  online_backup      5517 non-null   float64       \n",
      " 12  device_protection  5517 non-null   float64       \n",
      " 13  tech_support       5517 non-null   float64       \n",
      " 14  streaming_tv       5517 non-null   float64       \n",
      " 15  streaming_movies   5517 non-null   float64       \n",
      " 16  gender             7043 non-null   category      \n",
      " 17  senior_citizen     7043 non-null   int8          \n",
      " 18  partner            7043 non-null   int8          \n",
      " 19  dependents         7043 non-null   int8          \n",
      "dtypes: category(4), datetime64[ns](2), float64(9), int8(4), object(1)\n",
      "memory usage: 770.9+ KB\n"
     ]
    },
    {
     "data": {
      "text/html": [
       "<div>\n",
       "<style scoped>\n",
       "    .dataframe tbody tr th:only-of-type {\n",
       "        vertical-align: middle;\n",
       "    }\n",
       "\n",
       "    .dataframe tbody tr th {\n",
       "        vertical-align: top;\n",
       "    }\n",
       "\n",
       "    .dataframe thead th {\n",
       "        text-align: right;\n",
       "    }\n",
       "</style>\n",
       "<table border=\"1\" class=\"dataframe\">\n",
       "  <thead>\n",
       "    <tr style=\"text-align: right;\">\n",
       "      <th></th>\n",
       "      <th>customer_id</th>\n",
       "      <th>begin_date</th>\n",
       "      <th>end_date</th>\n",
       "      <th>type</th>\n",
       "      <th>paperless_billing</th>\n",
       "      <th>payment_method</th>\n",
       "      <th>monthly_charges</th>\n",
       "      <th>total_charges</th>\n",
       "      <th>multiple_lines</th>\n",
       "      <th>internet_service</th>\n",
       "      <th>online_security</th>\n",
       "      <th>online_backup</th>\n",
       "      <th>device_protection</th>\n",
       "      <th>tech_support</th>\n",
       "      <th>streaming_tv</th>\n",
       "      <th>streaming_movies</th>\n",
       "      <th>gender</th>\n",
       "      <th>senior_citizen</th>\n",
       "      <th>partner</th>\n",
       "      <th>dependents</th>\n",
       "    </tr>\n",
       "  </thead>\n",
       "  <tbody>\n",
       "    <tr>\n",
       "      <th>0</th>\n",
       "      <td>7590-VHVEG</td>\n",
       "      <td>2020-01-01</td>\n",
       "      <td>NaT</td>\n",
       "      <td>Month-to-month</td>\n",
       "      <td>1</td>\n",
       "      <td>Electronic check</td>\n",
       "      <td>29.85</td>\n",
       "      <td>29.85</td>\n",
       "      <td>NaN</td>\n",
       "      <td>DSL</td>\n",
       "      <td>0.0</td>\n",
       "      <td>1.0</td>\n",
       "      <td>0.0</td>\n",
       "      <td>0.0</td>\n",
       "      <td>0.0</td>\n",
       "      <td>0.0</td>\n",
       "      <td>Female</td>\n",
       "      <td>0</td>\n",
       "      <td>1</td>\n",
       "      <td>0</td>\n",
       "    </tr>\n",
       "    <tr>\n",
       "      <th>1</th>\n",
       "      <td>5575-GNVDE</td>\n",
       "      <td>2017-04-01</td>\n",
       "      <td>NaT</td>\n",
       "      <td>One year</td>\n",
       "      <td>0</td>\n",
       "      <td>Mailed check</td>\n",
       "      <td>56.95</td>\n",
       "      <td>1889.50</td>\n",
       "      <td>0.0</td>\n",
       "      <td>DSL</td>\n",
       "      <td>1.0</td>\n",
       "      <td>0.0</td>\n",
       "      <td>1.0</td>\n",
       "      <td>0.0</td>\n",
       "      <td>0.0</td>\n",
       "      <td>0.0</td>\n",
       "      <td>Male</td>\n",
       "      <td>0</td>\n",
       "      <td>0</td>\n",
       "      <td>0</td>\n",
       "    </tr>\n",
       "    <tr>\n",
       "      <th>2</th>\n",
       "      <td>3668-QPYBK</td>\n",
       "      <td>2019-10-01</td>\n",
       "      <td>2019-12-01</td>\n",
       "      <td>Month-to-month</td>\n",
       "      <td>1</td>\n",
       "      <td>Mailed check</td>\n",
       "      <td>53.85</td>\n",
       "      <td>108.15</td>\n",
       "      <td>0.0</td>\n",
       "      <td>DSL</td>\n",
       "      <td>1.0</td>\n",
       "      <td>1.0</td>\n",
       "      <td>0.0</td>\n",
       "      <td>0.0</td>\n",
       "      <td>0.0</td>\n",
       "      <td>0.0</td>\n",
       "      <td>Male</td>\n",
       "      <td>0</td>\n",
       "      <td>0</td>\n",
       "      <td>0</td>\n",
       "    </tr>\n",
       "    <tr>\n",
       "      <th>3</th>\n",
       "      <td>7795-CFOCW</td>\n",
       "      <td>2016-05-01</td>\n",
       "      <td>NaT</td>\n",
       "      <td>One year</td>\n",
       "      <td>0</td>\n",
       "      <td>Bank transfer (automatic)</td>\n",
       "      <td>42.30</td>\n",
       "      <td>1840.75</td>\n",
       "      <td>NaN</td>\n",
       "      <td>DSL</td>\n",
       "      <td>1.0</td>\n",
       "      <td>0.0</td>\n",
       "      <td>1.0</td>\n",
       "      <td>1.0</td>\n",
       "      <td>0.0</td>\n",
       "      <td>0.0</td>\n",
       "      <td>Male</td>\n",
       "      <td>0</td>\n",
       "      <td>0</td>\n",
       "      <td>0</td>\n",
       "    </tr>\n",
       "    <tr>\n",
       "      <th>4</th>\n",
       "      <td>9237-HQITU</td>\n",
       "      <td>2019-09-01</td>\n",
       "      <td>2019-11-01</td>\n",
       "      <td>Month-to-month</td>\n",
       "      <td>1</td>\n",
       "      <td>Electronic check</td>\n",
       "      <td>70.70</td>\n",
       "      <td>151.65</td>\n",
       "      <td>0.0</td>\n",
       "      <td>Fiber optic</td>\n",
       "      <td>0.0</td>\n",
       "      <td>0.0</td>\n",
       "      <td>0.0</td>\n",
       "      <td>0.0</td>\n",
       "      <td>0.0</td>\n",
       "      <td>0.0</td>\n",
       "      <td>Female</td>\n",
       "      <td>0</td>\n",
       "      <td>0</td>\n",
       "      <td>0</td>\n",
       "    </tr>\n",
       "  </tbody>\n",
       "</table>\n",
       "</div>"
      ],
      "text/plain": [
       "  customer_id begin_date   end_date            type  paperless_billing  \\\n",
       "0  7590-VHVEG 2020-01-01        NaT  Month-to-month                  1   \n",
       "1  5575-GNVDE 2017-04-01        NaT        One year                  0   \n",
       "2  3668-QPYBK 2019-10-01 2019-12-01  Month-to-month                  1   \n",
       "3  7795-CFOCW 2016-05-01        NaT        One year                  0   \n",
       "4  9237-HQITU 2019-09-01 2019-11-01  Month-to-month                  1   \n",
       "\n",
       "              payment_method  monthly_charges  total_charges  multiple_lines  \\\n",
       "0           Electronic check            29.85          29.85             NaN   \n",
       "1               Mailed check            56.95        1889.50             0.0   \n",
       "2               Mailed check            53.85         108.15             0.0   \n",
       "3  Bank transfer (automatic)            42.30        1840.75             NaN   \n",
       "4           Electronic check            70.70         151.65             0.0   \n",
       "\n",
       "  internet_service  online_security  online_backup  device_protection  \\\n",
       "0              DSL              0.0            1.0                0.0   \n",
       "1              DSL              1.0            0.0                1.0   \n",
       "2              DSL              1.0            1.0                0.0   \n",
       "3              DSL              1.0            0.0                1.0   \n",
       "4      Fiber optic              0.0            0.0                0.0   \n",
       "\n",
       "   tech_support  streaming_tv  streaming_movies  gender  senior_citizen  \\\n",
       "0           0.0           0.0               0.0  Female               0   \n",
       "1           0.0           0.0               0.0    Male               0   \n",
       "2           0.0           0.0               0.0    Male               0   \n",
       "3           1.0           0.0               0.0    Male               0   \n",
       "4           0.0           0.0               0.0  Female               0   \n",
       "\n",
       "   partner  dependents  \n",
       "0        1           0  \n",
       "1        0           0  \n",
       "2        0           0  \n",
       "3        0           0  \n",
       "4        0           0  "
      ]
     },
     "execution_count": 39,
     "metadata": {},
     "output_type": "execute_result"
    }
   ],
   "source": [
    "df.info()\n",
    "df.head()"
   ]
  },
  {
   "cell_type": "markdown",
   "id": "974a4acb-ff53-4a53-a654-9e5fc89f477d",
   "metadata": {},
   "source": [
    "Looks like I should have merged dataframes and then dealt with missing values. Let's touch everything up. I'm still ok with end_date having NaNs. Most of the other columns that contain NaNs are Boolean values. I'll just replace NaNs with False Bools. For internet_service I'll replace NaNs with \"None\"."
   ]
  },
  {
   "cell_type": "code",
   "execution_count": 40,
   "id": "7b8b6074-a252-43b1-b294-5cb053ccd718",
   "metadata": {},
   "outputs": [],
   "source": [
    "# df[['online_security', 'online_backup', 'device_protection', 'tech_support', 'streaming_tv', 'streaming_movies']] = \\\n",
    "# df[['online_security', 'online_backup', 'device_protection', 'tech_support', 'streaming_tv', 'streaming_movies']].fillna(0).astype('int8')"
   ]
  },
  {
   "cell_type": "code",
   "execution_count": 42,
   "id": "5087f284",
   "metadata": {},
   "outputs": [],
   "source": [
    "def update_values(df, columns):\n",
    "    for col in columns:\n",
    "        df[col] = pd.Series(['yes' if i==1 else 'no' if i==0 else 'no internet' for i in df[col]]).astype('category')\n",
    "    return df\n",
    "columns = ['online_security', 'online_backup', 'device_protection', 'tech_support', 'streaming_tv', 'streaming_movies']\n",
    "df = update_values(df, columns)"
   ]
  },
  {
   "cell_type": "code",
   "execution_count": 43,
   "id": "b5cc9f24-11a8-405e-829c-b875d5b43beb",
   "metadata": {},
   "outputs": [],
   "source": [
    "df.internet_service = df.internet_service.astype('object').fillna(\"None\").astype('category')"
   ]
  },
  {
   "cell_type": "markdown",
   "id": "35dc3fca-1b00-424d-b48c-41ea61228ff6",
   "metadata": {},
   "source": [
    "I'm happy with the preprocessing."
   ]
  },
  {
   "cell_type": "markdown",
   "id": "d8e1ebfc-058e-4252-bbf3-af4e2d31b8ea",
   "metadata": {
    "toc-hr-collapsed": true
   },
   "source": [
    "# Feature engineering"
   ]
  },
  {
   "cell_type": "markdown",
   "id": "5b4c34fe-4325-47e1-a484-01a669799d60",
   "metadata": {},
   "source": [
    "## Combine redundant features"
   ]
  },
  {
   "cell_type": "code",
   "execution_count": 41,
   "id": "9d933ebd",
   "metadata": {},
   "outputs": [],
   "source": [
    "df['phone_service'] = pd.Series(['multiple' if i==1 else 'single' if i==0 else 'none' for i in df.multiple_lines]).astype('category')\n",
    "df = df.drop('multiple_lines', axis=1)"
   ]
  },
  {
   "cell_type": "markdown",
   "id": "090a39cf-923d-46fa-9579-ff9f08bac45e",
   "metadata": {},
   "source": [
    "## Create target column"
   ]
  },
  {
   "cell_type": "code",
   "execution_count": 46,
   "id": "f9437a35-f718-4d40-82a8-707a462e838b",
   "metadata": {},
   "outputs": [],
   "source": [
    "df['churned'] = pd.Series([0 if pd.isna(i) else 1 for i in df.end_date]).astype('int8')"
   ]
  },
  {
   "cell_type": "markdown",
   "id": "736b1937-ca3a-4b96-a89f-b4f6b648e390",
   "metadata": {},
   "source": [
    "## Create date features"
   ]
  },
  {
   "cell_type": "code",
   "execution_count": 47,
   "id": "2e55f7ee-86d0-4f13-9461-27e68b434111",
   "metadata": {},
   "outputs": [],
   "source": [
    "# df['start_month'] = df.begin_date.dt.month_name().astype('category')\n",
    "# df['start_day_of_week'] = df.begin_date.dt.day_name().astype('category')"
   ]
  },
  {
   "cell_type": "markdown",
   "id": "e6fa1444",
   "metadata": {},
   "source": [
    "Returning here from later in the notebook - these two date features together drastically increase the AUC-ROC score of the model, in a way that feels problematic. Logistic regression is hardly affected, and random forest is moderately affected, but the gradient boosting models achieve nearly a 1.0 AUC-ROC score. The start date does not relate to the target, especially not the month or the day of the week, so I don't believe these introduce data leakage. However I will omit these new features because the models seem to perform unrealistically well otherwise."
   ]
  },
  {
   "cell_type": "markdown",
   "id": "ab7b78e1",
   "metadata": {},
   "source": [
    "If uncommented, the notebook would run to the end without errors."
   ]
  },
  {
   "cell_type": "code",
   "execution_count": 48,
   "id": "77d46e23-8554-462d-89cb-ba1533969d73",
   "metadata": {},
   "outputs": [],
   "source": [
    "present = pd.to_datetime('2020-02-01')"
   ]
  },
  {
   "cell_type": "code",
   "execution_count": 49,
   "id": "4c6e7fbc-1a28-44d4-9e7c-05b46fc356e9",
   "metadata": {},
   "outputs": [],
   "source": [
    "df['tenure'] = (df.end_date.fillna(present) - df.begin_date).dt.days"
   ]
  },
  {
   "cell_type": "markdown",
   "id": "cadc1352-9576-42cc-8e2c-9247920b894e",
   "metadata": {},
   "source": [
    "# Exploratory data analysis"
   ]
  },
  {
   "cell_type": "markdown",
   "id": "62a63ed5-dee5-4c19-9367-8995ff813613",
   "metadata": {},
   "source": [
    "Let's primarily look at correlations between the features and correlations between features and the target. We will also look at some extra interesting points in the data."
   ]
  },
  {
   "cell_type": "code",
   "execution_count": 50,
   "id": "7942e3c7-9a9e-4a87-ad61-3377d7c471e5",
   "metadata": {},
   "outputs": [
    {
     "data": {
      "text/html": [
       "<style  type=\"text/css\" >\n",
       "#T_56d6d_row0_col0,#T_56d6d_row1_col1,#T_56d6d_row2_col2,#T_56d6d_row3_col3,#T_56d6d_row4_col4,#T_56d6d_row5_col5,#T_56d6d_row6_col6,#T_56d6d_row7_col7{\n",
       "            background-color:  #b40426;\n",
       "            color:  #f1f1f1;\n",
       "        }#T_56d6d_row0_col1{\n",
       "            background-color:  #c6d6f1;\n",
       "            color:  #000000;\n",
       "        }#T_56d6d_row0_col2,#T_56d6d_row3_col1,#T_56d6d_row6_col3{\n",
       "            background-color:  #9ebeff;\n",
       "            color:  #000000;\n",
       "        }#T_56d6d_row0_col3{\n",
       "            background-color:  #9fbfff;\n",
       "            color:  #000000;\n",
       "        }#T_56d6d_row0_col4{\n",
       "            background-color:  #5f7fe8;\n",
       "            color:  #000000;\n",
       "        }#T_56d6d_row0_col5{\n",
       "            background-color:  #5470de;\n",
       "            color:  #000000;\n",
       "        }#T_56d6d_row0_col6,#T_56d6d_row1_col6{\n",
       "            background-color:  #c1d4f4;\n",
       "            color:  #000000;\n",
       "        }#T_56d6d_row0_col7{\n",
       "            background-color:  #92b4fe;\n",
       "            color:  #000000;\n",
       "        }#T_56d6d_row1_col0{\n",
       "            background-color:  #c5d6f2;\n",
       "            color:  #000000;\n",
       "        }#T_56d6d_row1_col2{\n",
       "            background-color:  #f7a98b;\n",
       "            color:  #000000;\n",
       "        }#T_56d6d_row1_col3{\n",
       "            background-color:  #b2ccfb;\n",
       "            color:  #000000;\n",
       "        }#T_56d6d_row1_col4,#T_56d6d_row5_col2{\n",
       "            background-color:  #81a4fb;\n",
       "            color:  #000000;\n",
       "        }#T_56d6d_row1_col5{\n",
       "            background-color:  #536edd;\n",
       "            color:  #000000;\n",
       "        }#T_56d6d_row1_col7{\n",
       "            background-color:  #cdd9ec;\n",
       "            color:  #000000;\n",
       "        }#T_56d6d_row2_col0{\n",
       "            background-color:  #8badfd;\n",
       "            color:  #000000;\n",
       "        }#T_56d6d_row2_col1{\n",
       "            background-color:  #f7b194;\n",
       "            color:  #000000;\n",
       "        }#T_56d6d_row2_col3{\n",
       "            background-color:  #90b2fe;\n",
       "            color:  #000000;\n",
       "        }#T_56d6d_row2_col4{\n",
       "            background-color:  #c3d5f4;\n",
       "            color:  #000000;\n",
       "        }#T_56d6d_row2_col5{\n",
       "            background-color:  #84a7fc;\n",
       "            color:  #000000;\n",
       "        }#T_56d6d_row2_col6{\n",
       "            background-color:  #5e7de7;\n",
       "            color:  #000000;\n",
       "        }#T_56d6d_row2_col7{\n",
       "            background-color:  #de614d;\n",
       "            color:  #000000;\n",
       "        }#T_56d6d_row3_col0{\n",
       "            background-color:  #89acfd;\n",
       "            color:  #000000;\n",
       "        }#T_56d6d_row3_col2{\n",
       "            background-color:  #8db0fe;\n",
       "            color:  #000000;\n",
       "        }#T_56d6d_row3_col4{\n",
       "            background-color:  #688aef;\n",
       "            color:  #000000;\n",
       "        }#T_56d6d_row3_col5,#T_56d6d_row5_col0,#T_56d6d_row5_col1,#T_56d6d_row5_col3,#T_56d6d_row6_col2,#T_56d6d_row6_col4,#T_56d6d_row6_col7,#T_56d6d_row7_col6{\n",
       "            background-color:  #3b4cc0;\n",
       "            color:  #f1f1f1;\n",
       "        }#T_56d6d_row3_col6{\n",
       "            background-color:  #b7cff9;\n",
       "            color:  #000000;\n",
       "        }#T_56d6d_row3_col7,#T_56d6d_row6_col0{\n",
       "            background-color:  #94b6ff;\n",
       "            color:  #000000;\n",
       "        }#T_56d6d_row4_col0{\n",
       "            background-color:  #5572df;\n",
       "            color:  #000000;\n",
       "        }#T_56d6d_row4_col1,#T_56d6d_row4_col3,#T_56d6d_row7_col3{\n",
       "            background-color:  #779af7;\n",
       "            color:  #000000;\n",
       "        }#T_56d6d_row4_col2{\n",
       "            background-color:  #cad8ef;\n",
       "            color:  #000000;\n",
       "        }#T_56d6d_row4_col5{\n",
       "            background-color:  #e9d5cb;\n",
       "            color:  #000000;\n",
       "        }#T_56d6d_row4_col6{\n",
       "            background-color:  #6a8bef;\n",
       "            color:  #000000;\n",
       "        }#T_56d6d_row4_col7{\n",
       "            background-color:  #e7d7ce;\n",
       "            color:  #000000;\n",
       "        }#T_56d6d_row5_col4{\n",
       "            background-color:  #e3d9d3;\n",
       "            color:  #000000;\n",
       "        }#T_56d6d_row5_col6{\n",
       "            background-color:  #6687ed;\n",
       "            color:  #000000;\n",
       "        }#T_56d6d_row5_col7{\n",
       "            background-color:  #b9d0f9;\n",
       "            color:  #000000;\n",
       "        }#T_56d6d_row6_col1{\n",
       "            background-color:  #96b7ff;\n",
       "            color:  #000000;\n",
       "        }#T_56d6d_row6_col5{\n",
       "            background-color:  #455cce;\n",
       "            color:  #f1f1f1;\n",
       "        }#T_56d6d_row7_col0{\n",
       "            background-color:  #5b7ae5;\n",
       "            color:  #000000;\n",
       "        }#T_56d6d_row7_col1{\n",
       "            background-color:  #a7c5fe;\n",
       "            color:  #000000;\n",
       "        }#T_56d6d_row7_col2{\n",
       "            background-color:  #e36b54;\n",
       "            color:  #000000;\n",
       "        }#T_56d6d_row7_col4{\n",
       "            background-color:  #d2dbe8;\n",
       "            color:  #000000;\n",
       "        }#T_56d6d_row7_col5{\n",
       "            background-color:  #a1c0ff;\n",
       "            color:  #000000;\n",
       "        }</style><table id=\"T_56d6d_\" ><thead>    <tr>        <th class=\"blank level0\" ></th>        <th class=\"col_heading level0 col0\" >paperless_billing</th>        <th class=\"col_heading level0 col1\" >monthly_charges</th>        <th class=\"col_heading level0 col2\" >total_charges</th>        <th class=\"col_heading level0 col3\" >senior_citizen</th>        <th class=\"col_heading level0 col4\" >partner</th>        <th class=\"col_heading level0 col5\" >dependents</th>        <th class=\"col_heading level0 col6\" >churned</th>        <th class=\"col_heading level0 col7\" >tenure</th>    </tr></thead><tbody>\n",
       "                <tr>\n",
       "                        <th id=\"T_56d6d_level0_row0\" class=\"row_heading level0 row0\" >paperless_billing</th>\n",
       "                        <td id=\"T_56d6d_row0_col0\" class=\"data row0 col0\" >1.000000</td>\n",
       "                        <td id=\"T_56d6d_row0_col1\" class=\"data row0 col1\" >0.352150</td>\n",
       "                        <td id=\"T_56d6d_row0_col2\" class=\"data row0 col2\" >0.158574</td>\n",
       "                        <td id=\"T_56d6d_row0_col3\" class=\"data row0 col3\" >0.156530</td>\n",
       "                        <td id=\"T_56d6d_row0_col4\" class=\"data row0 col4\" >-0.014877</td>\n",
       "                        <td id=\"T_56d6d_row0_col5\" class=\"data row0 col5\" >-0.111377</td>\n",
       "                        <td id=\"T_56d6d_row0_col6\" class=\"data row0 col6\" >0.191825</td>\n",
       "                        <td id=\"T_56d6d_row0_col7\" class=\"data row0 col7\" >0.006059</td>\n",
       "            </tr>\n",
       "            <tr>\n",
       "                        <th id=\"T_56d6d_level0_row1\" class=\"row_heading level0 row1\" >monthly_charges</th>\n",
       "                        <td id=\"T_56d6d_row1_col0\" class=\"data row1 col0\" >0.352150</td>\n",
       "                        <td id=\"T_56d6d_row1_col1\" class=\"data row1 col1\" >1.000000</td>\n",
       "                        <td id=\"T_56d6d_row1_col2\" class=\"data row1 col2\" >0.651174</td>\n",
       "                        <td id=\"T_56d6d_row1_col3\" class=\"data row1 col3\" >0.220173</td>\n",
       "                        <td id=\"T_56d6d_row1_col4\" class=\"data row1 col4\" >0.096848</td>\n",
       "                        <td id=\"T_56d6d_row1_col5\" class=\"data row1 col5\" >-0.113890</td>\n",
       "                        <td id=\"T_56d6d_row1_col6\" class=\"data row1 col6\" >0.193356</td>\n",
       "                        <td id=\"T_56d6d_row1_col7\" class=\"data row1 col7\" >0.247754</td>\n",
       "            </tr>\n",
       "            <tr>\n",
       "                        <th id=\"T_56d6d_level0_row2\" class=\"row_heading level0 row2\" >total_charges</th>\n",
       "                        <td id=\"T_56d6d_row2_col0\" class=\"data row2 col0\" >0.158574</td>\n",
       "                        <td id=\"T_56d6d_row2_col1\" class=\"data row2 col1\" >0.651174</td>\n",
       "                        <td id=\"T_56d6d_row2_col2\" class=\"data row2 col2\" >1.000000</td>\n",
       "                        <td id=\"T_56d6d_row2_col3\" class=\"data row2 col3\" >0.103006</td>\n",
       "                        <td id=\"T_56d6d_row2_col4\" class=\"data row2 col4\" >0.317504</td>\n",
       "                        <td id=\"T_56d6d_row2_col5\" class=\"data row2 col5\" >0.062078</td>\n",
       "                        <td id=\"T_56d6d_row2_col6\" class=\"data row2 col6\" >-0.198324</td>\n",
       "                        <td id=\"T_56d6d_row2_col7\" class=\"data row2 col7\" >0.826109</td>\n",
       "            </tr>\n",
       "            <tr>\n",
       "                        <th id=\"T_56d6d_level0_row3\" class=\"row_heading level0 row3\" >senior_citizen</th>\n",
       "                        <td id=\"T_56d6d_row3_col0\" class=\"data row3 col0\" >0.156530</td>\n",
       "                        <td id=\"T_56d6d_row3_col1\" class=\"data row3 col1\" >0.220173</td>\n",
       "                        <td id=\"T_56d6d_row3_col2\" class=\"data row3 col2\" >0.103006</td>\n",
       "                        <td id=\"T_56d6d_row3_col3\" class=\"data row3 col3\" >1.000000</td>\n",
       "                        <td id=\"T_56d6d_row3_col4\" class=\"data row3 col4\" >0.016479</td>\n",
       "                        <td id=\"T_56d6d_row3_col5\" class=\"data row3 col5\" >-0.211185</td>\n",
       "                        <td id=\"T_56d6d_row3_col6\" class=\"data row3 col6\" >0.150889</td>\n",
       "                        <td id=\"T_56d6d_row3_col7\" class=\"data row3 col7\" >0.016514</td>\n",
       "            </tr>\n",
       "            <tr>\n",
       "                        <th id=\"T_56d6d_level0_row4\" class=\"row_heading level0 row4\" >partner</th>\n",
       "                        <td id=\"T_56d6d_row4_col0\" class=\"data row4 col0\" >-0.014877</td>\n",
       "                        <td id=\"T_56d6d_row4_col1\" class=\"data row4 col1\" >0.096848</td>\n",
       "                        <td id=\"T_56d6d_row4_col2\" class=\"data row4 col2\" >0.317504</td>\n",
       "                        <td id=\"T_56d6d_row4_col3\" class=\"data row4 col3\" >0.016479</td>\n",
       "                        <td id=\"T_56d6d_row4_col4\" class=\"data row4 col4\" >1.000000</td>\n",
       "                        <td id=\"T_56d6d_row4_col5\" class=\"data row4 col5\" >0.452676</td>\n",
       "                        <td id=\"T_56d6d_row4_col6\" class=\"data row4 col6\" >-0.150448</td>\n",
       "                        <td id=\"T_56d6d_row4_col7\" class=\"data row4 col7\" >0.379709</td>\n",
       "            </tr>\n",
       "            <tr>\n",
       "                        <th id=\"T_56d6d_level0_row5\" class=\"row_heading level0 row5\" >dependents</th>\n",
       "                        <td id=\"T_56d6d_row5_col0\" class=\"data row5 col0\" >-0.111377</td>\n",
       "                        <td id=\"T_56d6d_row5_col1\" class=\"data row5 col1\" >-0.113890</td>\n",
       "                        <td id=\"T_56d6d_row5_col2\" class=\"data row5 col2\" >0.062078</td>\n",
       "                        <td id=\"T_56d6d_row5_col3\" class=\"data row5 col3\" >-0.211185</td>\n",
       "                        <td id=\"T_56d6d_row5_col4\" class=\"data row5 col4\" >0.452676</td>\n",
       "                        <td id=\"T_56d6d_row5_col5\" class=\"data row5 col5\" >1.000000</td>\n",
       "                        <td id=\"T_56d6d_row5_col6\" class=\"data row5 col6\" >-0.164221</td>\n",
       "                        <td id=\"T_56d6d_row5_col7\" class=\"data row5 col7\" >0.159766</td>\n",
       "            </tr>\n",
       "            <tr>\n",
       "                        <th id=\"T_56d6d_level0_row6\" class=\"row_heading level0 row6\" >churned</th>\n",
       "                        <td id=\"T_56d6d_row6_col0\" class=\"data row6 col0\" >0.191825</td>\n",
       "                        <td id=\"T_56d6d_row6_col1\" class=\"data row6 col1\" >0.193356</td>\n",
       "                        <td id=\"T_56d6d_row6_col2\" class=\"data row6 col2\" >-0.198324</td>\n",
       "                        <td id=\"T_56d6d_row6_col3\" class=\"data row6 col3\" >0.150889</td>\n",
       "                        <td id=\"T_56d6d_row6_col4\" class=\"data row6 col4\" >-0.150448</td>\n",
       "                        <td id=\"T_56d6d_row6_col5\" class=\"data row6 col5\" >-0.164221</td>\n",
       "                        <td id=\"T_56d6d_row6_col6\" class=\"data row6 col6\" >1.000000</td>\n",
       "                        <td id=\"T_56d6d_row6_col7\" class=\"data row6 col7\" >-0.352673</td>\n",
       "            </tr>\n",
       "            <tr>\n",
       "                        <th id=\"T_56d6d_level0_row7\" class=\"row_heading level0 row7\" >tenure</th>\n",
       "                        <td id=\"T_56d6d_row7_col0\" class=\"data row7 col0\" >0.006059</td>\n",
       "                        <td id=\"T_56d6d_row7_col1\" class=\"data row7 col1\" >0.247754</td>\n",
       "                        <td id=\"T_56d6d_row7_col2\" class=\"data row7 col2\" >0.826109</td>\n",
       "                        <td id=\"T_56d6d_row7_col3\" class=\"data row7 col3\" >0.016514</td>\n",
       "                        <td id=\"T_56d6d_row7_col4\" class=\"data row7 col4\" >0.379709</td>\n",
       "                        <td id=\"T_56d6d_row7_col5\" class=\"data row7 col5\" >0.159766</td>\n",
       "                        <td id=\"T_56d6d_row7_col6\" class=\"data row7 col6\" >-0.352673</td>\n",
       "                        <td id=\"T_56d6d_row7_col7\" class=\"data row7 col7\" >1.000000</td>\n",
       "            </tr>\n",
       "    </tbody></table>"
      ],
      "text/plain": [
       "<pandas.io.formats.style.Styler at 0x7fdf9ae04310>"
      ]
     },
     "execution_count": 50,
     "metadata": {},
     "output_type": "execute_result"
    }
   ],
   "source": [
    "corr = df.corr()\n",
    "corr.style.background_gradient(cmap='coolwarm')"
   ]
  },
  {
   "cell_type": "markdown",
   "id": "f3f45f06-c6c9-4e17-b2f7-9be901ae79f8",
   "metadata": {},
   "source": [
    "Looking only at numeric and bool data now, we see an obvious correlation between tenure and total charges. Customers who stream and have internet security seem to have greater monthly charges. There is a weak correlation between tenure and churn - it looks like customers who stay longer churn less. There is a weak correlation between paperless billing and monthly charges, indicating that those who pay month to month opt for paperless billing. Once models are trained we will be able to again look at feature/target correlation.\n",
    "\n",
    "None of the features correlate strongly enough with the target that I am concerned about data leakage."
   ]
  },
  {
   "cell_type": "markdown",
   "id": "32adbea3-36e7-44f3-a4ee-a13acc665254",
   "metadata": {},
   "source": [
    "Let's look at how some of the categorical features correlate with the target."
   ]
  },
  {
   "cell_type": "code",
   "execution_count": 51,
   "id": "1cf5fb5d-0677-45a1-a60f-687a80a248a6",
   "metadata": {},
   "outputs": [
    {
     "data": {
      "text/plain": [
       "customer_id                  object\n",
       "begin_date           datetime64[ns]\n",
       "end_date             datetime64[ns]\n",
       "type                       category\n",
       "paperless_billing              int8\n",
       "payment_method             category\n",
       "monthly_charges             float64\n",
       "total_charges               float64\n",
       "internet_service           category\n",
       "online_security            category\n",
       "online_backup              category\n",
       "device_protection          category\n",
       "tech_support               category\n",
       "streaming_tv               category\n",
       "streaming_movies           category\n",
       "gender                     category\n",
       "senior_citizen                 int8\n",
       "partner                        int8\n",
       "dependents                     int8\n",
       "phone_service              category\n",
       "churned                        int8\n",
       "tenure                        int64\n",
       "dtype: object"
      ]
     },
     "execution_count": 51,
     "metadata": {},
     "output_type": "execute_result"
    }
   ],
   "source": [
    "df.dtypes"
   ]
  },
  {
   "cell_type": "markdown",
   "id": "6475643b-2df6-4d38-9d4c-d61c66ce6174",
   "metadata": {
    "toc-hr-collapsed": true
   },
   "source": [
    "# Try machine learning models"
   ]
  },
  {
   "cell_type": "markdown",
   "id": "25821652-98d7-4591-bbc4-39f357406b81",
   "metadata": {},
   "source": [
    "## Split dataset, preprocess, balance classes"
   ]
  },
  {
   "cell_type": "code",
   "execution_count": 52,
   "id": "9c7d02c3-5be3-4f86-9b00-aa87183b0720",
   "metadata": {},
   "outputs": [],
   "source": [
    "features = df.drop(['customer_id', 'begin_date', 'end_date', 'churned'], axis=1)\n",
    "target = df.churned"
   ]
  },
  {
   "cell_type": "markdown",
   "id": "181fa5b1-445c-47c5-b644-d2b137ccf766",
   "metadata": {},
   "source": [
    "### OHE"
   ]
  },
  {
   "cell_type": "markdown",
   "id": "26dbc528-eccf-434c-9f5c-cd16927fe671",
   "metadata": {},
   "source": [
    "Now that we've dealt with the categorical variables, I'd like to standardize the numeric variables. We can use the standard scaler class for this. But, we'll need to split up the data into training, validation, and testing sets before I standardize the data, to make sure the class uses the most precise mean/variance for its calculations.\n",
    "\n",
    "I want 60% of the data to be used for training, and 20% for the validation and test sets each. \n",
    "We will first split the features and target datasets into a training set and a test set, at an 80/20 ratio. \n",
    "Then, we can further divide this new training set into an ultimate training set and a validation set. In this case, the validation set needs to come from 25% of the training set to give us the 60/20/20 ratio. This is because 25% of 80 equals 20."
   ]
  },
  {
   "cell_type": "code",
   "execution_count": 53,
   "id": "32722ebd-b362-4551-a490-a284794a7aea",
   "metadata": {},
   "outputs": [],
   "source": [
    "from sklearn.preprocessing import OrdinalEncoder, StandardScaler\n",
    "from sklearn.model_selection import train_test_split"
   ]
  },
  {
   "cell_type": "code",
   "execution_count": 54,
   "id": "7124379a-191d-40bd-8f46-bda2906a7034",
   "metadata": {},
   "outputs": [],
   "source": [
    "features_ohe = pd.get_dummies(features, drop_first=True) # Create one-hot encoded dataframe for logistic regression"
   ]
  },
  {
   "cell_type": "code",
   "execution_count": 55,
   "id": "4ce62ba1-0c43-48f3-81f6-f6b9a7b442a2",
   "metadata": {},
   "outputs": [],
   "source": [
    "x_train, features_test_ohe, y_train, target_test = train_test_split(\n",
    "    features_ohe, target, test_size=0.2, random_state=12345)\n",
    "\n",
    "features_train_ohe, features_valid_ohe, target_train, target_valid = train_test_split(\n",
    "    x_train, y_train, test_size=0.25, random_state=12345)"
   ]
  },
  {
   "cell_type": "code",
   "execution_count": 56,
   "id": "8f237e08-9b21-4b28-9b89-626fa5020955",
   "metadata": {
    "scrolled": true
   },
   "outputs": [
    {
     "name": "stderr",
     "output_type": "stream",
     "text": [
      "/opt/conda/lib/python3.9/site-packages/pandas/core/indexing.py:1738: SettingWithCopyWarning: \n",
      "A value is trying to be set on a copy of a slice from a DataFrame.\n",
      "Try using .loc[row_indexer,col_indexer] = value instead\n",
      "\n",
      "See the caveats in the documentation: https://pandas.pydata.org/pandas-docs/stable/user_guide/indexing.html#returning-a-view-versus-a-copy\n",
      "  self._setitem_single_column(loc, value[:, i].tolist(), pi)\n",
      "/opt/conda/lib/python3.9/site-packages/pandas/core/indexing.py:1738: SettingWithCopyWarning: \n",
      "A value is trying to be set on a copy of a slice from a DataFrame.\n",
      "Try using .loc[row_indexer,col_indexer] = value instead\n",
      "\n",
      "See the caveats in the documentation: https://pandas.pydata.org/pandas-docs/stable/user_guide/indexing.html#returning-a-view-versus-a-copy\n",
      "  self._setitem_single_column(loc, value[:, i].tolist(), pi)\n",
      "/opt/conda/lib/python3.9/site-packages/pandas/core/indexing.py:1738: SettingWithCopyWarning: \n",
      "A value is trying to be set on a copy of a slice from a DataFrame.\n",
      "Try using .loc[row_indexer,col_indexer] = value instead\n",
      "\n",
      "See the caveats in the documentation: https://pandas.pydata.org/pandas-docs/stable/user_guide/indexing.html#returning-a-view-versus-a-copy\n",
      "  self._setitem_single_column(loc, value[:, i].tolist(), pi)\n"
     ]
    }
   ],
   "source": [
    "numeric = ['monthly_charges', 'total_charges', 'tenure']\n",
    "\n",
    "scaler = StandardScaler()\n",
    "scaler.fit(features_train_ohe[numeric])\n",
    "\n",
    "features_train_ohe.loc[:, numeric] = scaler.transform(features_train_ohe[numeric])\n",
    "features_valid_ohe.loc[:, numeric] = scaler.transform(features_valid_ohe[numeric])\n",
    "features_test_ohe.loc[:, numeric] = scaler.transform(features_test_ohe[numeric])"
   ]
  },
  {
   "cell_type": "code",
   "execution_count": 57,
   "id": "30d1717e-4fde-424c-afd4-27fca7ae0f14",
   "metadata": {
    "scrolled": true
   },
   "outputs": [
    {
     "data": {
      "text/html": [
       "<div>\n",
       "<style scoped>\n",
       "    .dataframe tbody tr th:only-of-type {\n",
       "        vertical-align: middle;\n",
       "    }\n",
       "\n",
       "    .dataframe tbody tr th {\n",
       "        vertical-align: top;\n",
       "    }\n",
       "\n",
       "    .dataframe thead th {\n",
       "        text-align: right;\n",
       "    }\n",
       "</style>\n",
       "<table border=\"1\" class=\"dataframe\">\n",
       "  <thead>\n",
       "    <tr style=\"text-align: right;\">\n",
       "      <th></th>\n",
       "      <th>paperless_billing</th>\n",
       "      <th>monthly_charges</th>\n",
       "      <th>total_charges</th>\n",
       "      <th>senior_citizen</th>\n",
       "      <th>partner</th>\n",
       "      <th>dependents</th>\n",
       "      <th>tenure</th>\n",
       "      <th>type_One year</th>\n",
       "      <th>type_Two year</th>\n",
       "      <th>payment_method_Credit card (automatic)</th>\n",
       "      <th>...</th>\n",
       "      <th>device_protection_yes</th>\n",
       "      <th>tech_support_no internet</th>\n",
       "      <th>tech_support_yes</th>\n",
       "      <th>streaming_tv_no internet</th>\n",
       "      <th>streaming_tv_yes</th>\n",
       "      <th>streaming_movies_no internet</th>\n",
       "      <th>streaming_movies_yes</th>\n",
       "      <th>gender_Male</th>\n",
       "      <th>phone_service_none</th>\n",
       "      <th>phone_service_single</th>\n",
       "    </tr>\n",
       "  </thead>\n",
       "  <tbody>\n",
       "    <tr>\n",
       "      <th>940</th>\n",
       "      <td>0</td>\n",
       "      <td>-1.472489</td>\n",
       "      <td>-0.783999</td>\n",
       "      <td>0</td>\n",
       "      <td>0</td>\n",
       "      <td>1</td>\n",
       "      <td>-0.353821</td>\n",
       "      <td>1</td>\n",
       "      <td>0</td>\n",
       "      <td>0</td>\n",
       "      <td>...</td>\n",
       "      <td>0</td>\n",
       "      <td>1</td>\n",
       "      <td>0</td>\n",
       "      <td>1</td>\n",
       "      <td>0</td>\n",
       "      <td>1</td>\n",
       "      <td>0</td>\n",
       "      <td>0</td>\n",
       "      <td>0</td>\n",
       "      <td>1</td>\n",
       "    </tr>\n",
       "    <tr>\n",
       "      <th>410</th>\n",
       "      <td>1</td>\n",
       "      <td>0.534218</td>\n",
       "      <td>-0.916267</td>\n",
       "      <td>1</td>\n",
       "      <td>0</td>\n",
       "      <td>0</td>\n",
       "      <td>-1.214020</td>\n",
       "      <td>0</td>\n",
       "      <td>0</td>\n",
       "      <td>0</td>\n",
       "      <td>...</td>\n",
       "      <td>0</td>\n",
       "      <td>0</td>\n",
       "      <td>0</td>\n",
       "      <td>0</td>\n",
       "      <td>0</td>\n",
       "      <td>0</td>\n",
       "      <td>0</td>\n",
       "      <td>1</td>\n",
       "      <td>0</td>\n",
       "      <td>0</td>\n",
       "    </tr>\n",
       "    <tr>\n",
       "      <th>2079</th>\n",
       "      <td>1</td>\n",
       "      <td>1.356203</td>\n",
       "      <td>2.334537</td>\n",
       "      <td>0</td>\n",
       "      <td>1</td>\n",
       "      <td>1</td>\n",
       "      <td>1.536459</td>\n",
       "      <td>0</td>\n",
       "      <td>0</td>\n",
       "      <td>0</td>\n",
       "      <td>...</td>\n",
       "      <td>0</td>\n",
       "      <td>0</td>\n",
       "      <td>0</td>\n",
       "      <td>0</td>\n",
       "      <td>1</td>\n",
       "      <td>0</td>\n",
       "      <td>1</td>\n",
       "      <td>1</td>\n",
       "      <td>0</td>\n",
       "      <td>0</td>\n",
       "    </tr>\n",
       "    <tr>\n",
       "      <th>4076</th>\n",
       "      <td>1</td>\n",
       "      <td>1.133235</td>\n",
       "      <td>2.063850</td>\n",
       "      <td>0</td>\n",
       "      <td>1</td>\n",
       "      <td>0</td>\n",
       "      <td>1.536459</td>\n",
       "      <td>0</td>\n",
       "      <td>1</td>\n",
       "      <td>1</td>\n",
       "      <td>...</td>\n",
       "      <td>1</td>\n",
       "      <td>0</td>\n",
       "      <td>0</td>\n",
       "      <td>0</td>\n",
       "      <td>1</td>\n",
       "      <td>0</td>\n",
       "      <td>0</td>\n",
       "      <td>1</td>\n",
       "      <td>0</td>\n",
       "      <td>0</td>\n",
       "    </tr>\n",
       "    <tr>\n",
       "      <th>2762</th>\n",
       "      <td>0</td>\n",
       "      <td>1.131571</td>\n",
       "      <td>0.096141</td>\n",
       "      <td>0</td>\n",
       "      <td>0</td>\n",
       "      <td>0</td>\n",
       "      <td>-0.312025</td>\n",
       "      <td>0</td>\n",
       "      <td>1</td>\n",
       "      <td>0</td>\n",
       "      <td>...</td>\n",
       "      <td>1</td>\n",
       "      <td>0</td>\n",
       "      <td>1</td>\n",
       "      <td>0</td>\n",
       "      <td>1</td>\n",
       "      <td>0</td>\n",
       "      <td>1</td>\n",
       "      <td>1</td>\n",
       "      <td>0</td>\n",
       "      <td>1</td>\n",
       "    </tr>\n",
       "  </tbody>\n",
       "</table>\n",
       "<p>5 rows × 29 columns</p>\n",
       "</div>"
      ],
      "text/plain": [
       "      paperless_billing  monthly_charges  total_charges  senior_citizen  \\\n",
       "940                   0        -1.472489      -0.783999               0   \n",
       "410                   1         0.534218      -0.916267               1   \n",
       "2079                  1         1.356203       2.334537               0   \n",
       "4076                  1         1.133235       2.063850               0   \n",
       "2762                  0         1.131571       0.096141               0   \n",
       "\n",
       "      partner  dependents    tenure  type_One year  type_Two year  \\\n",
       "940         0           1 -0.353821              1              0   \n",
       "410         0           0 -1.214020              0              0   \n",
       "2079        1           1  1.536459              0              0   \n",
       "4076        1           0  1.536459              0              1   \n",
       "2762        0           0 -0.312025              0              1   \n",
       "\n",
       "      payment_method_Credit card (automatic)  ...  device_protection_yes  \\\n",
       "940                                        0  ...                      0   \n",
       "410                                        0  ...                      0   \n",
       "2079                                       0  ...                      0   \n",
       "4076                                       1  ...                      1   \n",
       "2762                                       0  ...                      1   \n",
       "\n",
       "      tech_support_no internet  tech_support_yes  streaming_tv_no internet  \\\n",
       "940                          1                 0                         1   \n",
       "410                          0                 0                         0   \n",
       "2079                         0                 0                         0   \n",
       "4076                         0                 0                         0   \n",
       "2762                         0                 1                         0   \n",
       "\n",
       "      streaming_tv_yes  streaming_movies_no internet  streaming_movies_yes  \\\n",
       "940                  0                             1                     0   \n",
       "410                  0                             0                     0   \n",
       "2079                 1                             0                     1   \n",
       "4076                 1                             0                     0   \n",
       "2762                 1                             0                     1   \n",
       "\n",
       "      gender_Male  phone_service_none  phone_service_single  \n",
       "940             0                   0                     1  \n",
       "410             1                   0                     0  \n",
       "2079            1                   0                     0  \n",
       "4076            1                   0                     0  \n",
       "2762            1                   0                     1  \n",
       "\n",
       "[5 rows x 29 columns]"
      ]
     },
     "execution_count": 57,
     "metadata": {},
     "output_type": "execute_result"
    }
   ],
   "source": [
    "features_train_ohe.head()"
   ]
  },
  {
   "cell_type": "code",
   "execution_count": 58,
   "id": "e0046611-8beb-452e-8489-47c58c4ba926",
   "metadata": {},
   "outputs": [
    {
     "data": {
      "text/plain": [
       "940     0\n",
       "410     1\n",
       "2079    0\n",
       "4076    0\n",
       "2762    0\n",
       "Name: churned, dtype: int8"
      ]
     },
     "execution_count": 58,
     "metadata": {},
     "output_type": "execute_result"
    }
   ],
   "source": [
    "target_train.head()"
   ]
  },
  {
   "cell_type": "markdown",
   "id": "f2e38d7e-729b-4fea-83e6-347170e9d8f0",
   "metadata": {},
   "source": [
    "### Ordinal"
   ]
  },
  {
   "cell_type": "code",
   "execution_count": 59,
   "id": "06395221-21e9-42f6-b6ef-c84b82012b7c",
   "metadata": {},
   "outputs": [
    {
     "data": {
      "text/html": [
       "<div>\n",
       "<style scoped>\n",
       "    .dataframe tbody tr th:only-of-type {\n",
       "        vertical-align: middle;\n",
       "    }\n",
       "\n",
       "    .dataframe tbody tr th {\n",
       "        vertical-align: top;\n",
       "    }\n",
       "\n",
       "    .dataframe thead th {\n",
       "        text-align: right;\n",
       "    }\n",
       "</style>\n",
       "<table border=\"1\" class=\"dataframe\">\n",
       "  <thead>\n",
       "    <tr style=\"text-align: right;\">\n",
       "      <th></th>\n",
       "      <th>type</th>\n",
       "      <th>paperless_billing</th>\n",
       "      <th>payment_method</th>\n",
       "      <th>monthly_charges</th>\n",
       "      <th>total_charges</th>\n",
       "      <th>internet_service</th>\n",
       "      <th>online_security</th>\n",
       "      <th>online_backup</th>\n",
       "      <th>device_protection</th>\n",
       "      <th>tech_support</th>\n",
       "      <th>streaming_tv</th>\n",
       "      <th>streaming_movies</th>\n",
       "      <th>gender</th>\n",
       "      <th>senior_citizen</th>\n",
       "      <th>partner</th>\n",
       "      <th>dependents</th>\n",
       "      <th>phone_service</th>\n",
       "      <th>tenure</th>\n",
       "    </tr>\n",
       "  </thead>\n",
       "  <tbody>\n",
       "    <tr>\n",
       "      <th>0</th>\n",
       "      <td>0.0</td>\n",
       "      <td>1.0</td>\n",
       "      <td>2.0</td>\n",
       "      <td>142.0</td>\n",
       "      <td>75.0</td>\n",
       "      <td>0.0</td>\n",
       "      <td>0.0</td>\n",
       "      <td>2.0</td>\n",
       "      <td>0.0</td>\n",
       "      <td>0.0</td>\n",
       "      <td>0.0</td>\n",
       "      <td>0.0</td>\n",
       "      <td>0.0</td>\n",
       "      <td>0.0</td>\n",
       "      <td>1.0</td>\n",
       "      <td>0.0</td>\n",
       "      <td>1.0</td>\n",
       "      <td>2.0</td>\n",
       "    </tr>\n",
       "    <tr>\n",
       "      <th>1</th>\n",
       "      <td>1.0</td>\n",
       "      <td>0.0</td>\n",
       "      <td>3.0</td>\n",
       "      <td>498.0</td>\n",
       "      <td>3625.0</td>\n",
       "      <td>0.0</td>\n",
       "      <td>2.0</td>\n",
       "      <td>0.0</td>\n",
       "      <td>2.0</td>\n",
       "      <td>0.0</td>\n",
       "      <td>0.0</td>\n",
       "      <td>0.0</td>\n",
       "      <td>1.0</td>\n",
       "      <td>0.0</td>\n",
       "      <td>0.0</td>\n",
       "      <td>0.0</td>\n",
       "      <td>2.0</td>\n",
       "      <td>74.0</td>\n",
       "    </tr>\n",
       "    <tr>\n",
       "      <th>2</th>\n",
       "      <td>0.0</td>\n",
       "      <td>1.0</td>\n",
       "      <td>3.0</td>\n",
       "      <td>436.0</td>\n",
       "      <td>537.0</td>\n",
       "      <td>0.0</td>\n",
       "      <td>2.0</td>\n",
       "      <td>2.0</td>\n",
       "      <td>0.0</td>\n",
       "      <td>0.0</td>\n",
       "      <td>0.0</td>\n",
       "      <td>0.0</td>\n",
       "      <td>1.0</td>\n",
       "      <td>0.0</td>\n",
       "      <td>0.0</td>\n",
       "      <td>0.0</td>\n",
       "      <td>2.0</td>\n",
       "      <td>3.0</td>\n",
       "    </tr>\n",
       "    <tr>\n",
       "      <th>3</th>\n",
       "      <td>1.0</td>\n",
       "      <td>0.0</td>\n",
       "      <td>0.0</td>\n",
       "      <td>266.0</td>\n",
       "      <td>3571.0</td>\n",
       "      <td>0.0</td>\n",
       "      <td>2.0</td>\n",
       "      <td>0.0</td>\n",
       "      <td>2.0</td>\n",
       "      <td>2.0</td>\n",
       "      <td>0.0</td>\n",
       "      <td>0.0</td>\n",
       "      <td>1.0</td>\n",
       "      <td>0.0</td>\n",
       "      <td>0.0</td>\n",
       "      <td>0.0</td>\n",
       "      <td>1.0</td>\n",
       "      <td>96.0</td>\n",
       "    </tr>\n",
       "    <tr>\n",
       "      <th>4</th>\n",
       "      <td>0.0</td>\n",
       "      <td>1.0</td>\n",
       "      <td>2.0</td>\n",
       "      <td>729.0</td>\n",
       "      <td>675.0</td>\n",
       "      <td>1.0</td>\n",
       "      <td>0.0</td>\n",
       "      <td>0.0</td>\n",
       "      <td>0.0</td>\n",
       "      <td>0.0</td>\n",
       "      <td>0.0</td>\n",
       "      <td>0.0</td>\n",
       "      <td>0.0</td>\n",
       "      <td>0.0</td>\n",
       "      <td>0.0</td>\n",
       "      <td>0.0</td>\n",
       "      <td>2.0</td>\n",
       "      <td>3.0</td>\n",
       "    </tr>\n",
       "  </tbody>\n",
       "</table>\n",
       "</div>"
      ],
      "text/plain": [
       "   type  paperless_billing  payment_method  monthly_charges  total_charges  \\\n",
       "0   0.0                1.0             2.0            142.0           75.0   \n",
       "1   1.0                0.0             3.0            498.0         3625.0   \n",
       "2   0.0                1.0             3.0            436.0          537.0   \n",
       "3   1.0                0.0             0.0            266.0         3571.0   \n",
       "4   0.0                1.0             2.0            729.0          675.0   \n",
       "\n",
       "   internet_service  online_security  online_backup  device_protection  \\\n",
       "0               0.0              0.0            2.0                0.0   \n",
       "1               0.0              2.0            0.0                2.0   \n",
       "2               0.0              2.0            2.0                0.0   \n",
       "3               0.0              2.0            0.0                2.0   \n",
       "4               1.0              0.0            0.0                0.0   \n",
       "\n",
       "   tech_support  streaming_tv  streaming_movies  gender  senior_citizen  \\\n",
       "0           0.0           0.0               0.0     0.0             0.0   \n",
       "1           0.0           0.0               0.0     1.0             0.0   \n",
       "2           0.0           0.0               0.0     1.0             0.0   \n",
       "3           2.0           0.0               0.0     1.0             0.0   \n",
       "4           0.0           0.0               0.0     0.0             0.0   \n",
       "\n",
       "   partner  dependents  phone_service  tenure  \n",
       "0      1.0         0.0            1.0     2.0  \n",
       "1      0.0         0.0            2.0    74.0  \n",
       "2      0.0         0.0            2.0     3.0  \n",
       "3      0.0         0.0            1.0    96.0  \n",
       "4      0.0         0.0            2.0     3.0  "
      ]
     },
     "execution_count": 59,
     "metadata": {},
     "output_type": "execute_result"
    }
   ],
   "source": [
    "encoder = OrdinalEncoder()\n",
    "features_ordinal = pd.DataFrame(encoder.fit_transform(features), columns=features.columns) # Create label encoded dataframe for decision trees\n",
    "features_ordinal.head()"
   ]
  },
  {
   "cell_type": "code",
   "execution_count": 60,
   "id": "15618915",
   "metadata": {},
   "outputs": [
    {
     "name": "stdout",
     "output_type": "stream",
     "text": [
      "<class 'pandas.core.frame.DataFrame'>\n",
      "RangeIndex: 7043 entries, 0 to 7042\n",
      "Data columns (total 18 columns):\n",
      " #   Column             Non-Null Count  Dtype  \n",
      "---  ------             --------------  -----  \n",
      " 0   type               7043 non-null   float64\n",
      " 1   paperless_billing  7043 non-null   float64\n",
      " 2   payment_method     7043 non-null   float64\n",
      " 3   monthly_charges    7043 non-null   float64\n",
      " 4   total_charges      7043 non-null   float64\n",
      " 5   internet_service   7043 non-null   float64\n",
      " 6   online_security    7043 non-null   float64\n",
      " 7   online_backup      7043 non-null   float64\n",
      " 8   device_protection  7043 non-null   float64\n",
      " 9   tech_support       7043 non-null   float64\n",
      " 10  streaming_tv       7043 non-null   float64\n",
      " 11  streaming_movies   7043 non-null   float64\n",
      " 12  gender             7043 non-null   float64\n",
      " 13  senior_citizen     7043 non-null   float64\n",
      " 14  partner            7043 non-null   float64\n",
      " 15  dependents         7043 non-null   float64\n",
      " 16  phone_service      7043 non-null   float64\n",
      " 17  tenure             7043 non-null   float64\n",
      "dtypes: float64(18)\n",
      "memory usage: 990.5 KB\n"
     ]
    }
   ],
   "source": [
    "features_ordinal.info()"
   ]
  },
  {
   "cell_type": "code",
   "execution_count": 61,
   "id": "29297933-4a8f-47ac-a578-ced669f64719",
   "metadata": {},
   "outputs": [],
   "source": [
    "x_train_ord, features_test_ord, y_train_ord, target_test = train_test_split(\n",
    "    features_ordinal, target, test_size=0.2, random_state=12345)\n",
    "\n",
    "features_train_ord, features_valid_ord, target_train, target_valid = train_test_split(\n",
    "    x_train_ord, y_train_ord, test_size=0.25, random_state=12345)"
   ]
  },
  {
   "cell_type": "code",
   "execution_count": 62,
   "id": "eeef0bb1-8daf-4354-b439-cd37d2f44125",
   "metadata": {},
   "outputs": [
    {
     "name": "stderr",
     "output_type": "stream",
     "text": [
      "/opt/conda/lib/python3.9/site-packages/pandas/core/indexing.py:1637: SettingWithCopyWarning: \n",
      "A value is trying to be set on a copy of a slice from a DataFrame\n",
      "\n",
      "See the caveats in the documentation: https://pandas.pydata.org/pandas-docs/stable/user_guide/indexing.html#returning-a-view-versus-a-copy\n",
      "  self._setitem_single_block(indexer, value, name)\n",
      "/opt/conda/lib/python3.9/site-packages/pandas/core/indexing.py:692: SettingWithCopyWarning: \n",
      "A value is trying to be set on a copy of a slice from a DataFrame\n",
      "\n",
      "See the caveats in the documentation: https://pandas.pydata.org/pandas-docs/stable/user_guide/indexing.html#returning-a-view-versus-a-copy\n",
      "  iloc._setitem_with_indexer(indexer, value, self.name)\n",
      "/opt/conda/lib/python3.9/site-packages/pandas/core/indexing.py:1637: SettingWithCopyWarning: \n",
      "A value is trying to be set on a copy of a slice from a DataFrame\n",
      "\n",
      "See the caveats in the documentation: https://pandas.pydata.org/pandas-docs/stable/user_guide/indexing.html#returning-a-view-versus-a-copy\n",
      "  self._setitem_single_block(indexer, value, name)\n",
      "/opt/conda/lib/python3.9/site-packages/pandas/core/indexing.py:692: SettingWithCopyWarning: \n",
      "A value is trying to be set on a copy of a slice from a DataFrame\n",
      "\n",
      "See the caveats in the documentation: https://pandas.pydata.org/pandas-docs/stable/user_guide/indexing.html#returning-a-view-versus-a-copy\n",
      "  iloc._setitem_with_indexer(indexer, value, self.name)\n",
      "/opt/conda/lib/python3.9/site-packages/pandas/core/indexing.py:1637: SettingWithCopyWarning: \n",
      "A value is trying to be set on a copy of a slice from a DataFrame\n",
      "\n",
      "See the caveats in the documentation: https://pandas.pydata.org/pandas-docs/stable/user_guide/indexing.html#returning-a-view-versus-a-copy\n",
      "  self._setitem_single_block(indexer, value, name)\n",
      "/opt/conda/lib/python3.9/site-packages/pandas/core/indexing.py:692: SettingWithCopyWarning: \n",
      "A value is trying to be set on a copy of a slice from a DataFrame\n",
      "\n",
      "See the caveats in the documentation: https://pandas.pydata.org/pandas-docs/stable/user_guide/indexing.html#returning-a-view-versus-a-copy\n",
      "  iloc._setitem_with_indexer(indexer, value, self.name)\n"
     ]
    }
   ],
   "source": [
    "numeric = ['monthly_charges', 'total_charges', 'tenure']\n",
    "\n",
    "scaler = StandardScaler()\n",
    "scaler.fit(features_train_ord[numeric])\n",
    "\n",
    "features_train_ord.loc[:, numeric] = scaler.transform(features_train_ord[numeric])\n",
    "features_valid_ord.loc[:, numeric] = scaler.transform(features_valid_ord[numeric])\n",
    "features_test_ord.loc[:, numeric] = scaler.transform(features_test_ord[numeric])"
   ]
  },
  {
   "cell_type": "code",
   "execution_count": 63,
   "id": "15b210bb-9f3d-41b4-b37a-b84336a270db",
   "metadata": {},
   "outputs": [
    {
     "data": {
      "text/html": [
       "<div>\n",
       "<style scoped>\n",
       "    .dataframe tbody tr th:only-of-type {\n",
       "        vertical-align: middle;\n",
       "    }\n",
       "\n",
       "    .dataframe tbody tr th {\n",
       "        vertical-align: top;\n",
       "    }\n",
       "\n",
       "    .dataframe thead th {\n",
       "        text-align: right;\n",
       "    }\n",
       "</style>\n",
       "<table border=\"1\" class=\"dataframe\">\n",
       "  <thead>\n",
       "    <tr style=\"text-align: right;\">\n",
       "      <th></th>\n",
       "      <th>type</th>\n",
       "      <th>paperless_billing</th>\n",
       "      <th>payment_method</th>\n",
       "      <th>monthly_charges</th>\n",
       "      <th>total_charges</th>\n",
       "      <th>internet_service</th>\n",
       "      <th>online_security</th>\n",
       "      <th>online_backup</th>\n",
       "      <th>device_protection</th>\n",
       "      <th>tech_support</th>\n",
       "      <th>streaming_tv</th>\n",
       "      <th>streaming_movies</th>\n",
       "      <th>gender</th>\n",
       "      <th>senior_citizen</th>\n",
       "      <th>partner</th>\n",
       "      <th>dependents</th>\n",
       "      <th>phone_service</th>\n",
       "      <th>tenure</th>\n",
       "    </tr>\n",
       "  </thead>\n",
       "  <tbody>\n",
       "    <tr>\n",
       "      <th>940</th>\n",
       "      <td>1.0</td>\n",
       "      <td>0.0</td>\n",
       "      <td>0.0</td>\n",
       "      <td>-1.340473</td>\n",
       "      <td>-0.758999</td>\n",
       "      <td>2.0</td>\n",
       "      <td>1.0</td>\n",
       "      <td>1.0</td>\n",
       "      <td>1.0</td>\n",
       "      <td>1.0</td>\n",
       "      <td>1.0</td>\n",
       "      <td>1.0</td>\n",
       "      <td>0.0</td>\n",
       "      <td>0.0</td>\n",
       "      <td>0.0</td>\n",
       "      <td>1.0</td>\n",
       "      <td>2.0</td>\n",
       "      <td>-0.332620</td>\n",
       "    </tr>\n",
       "    <tr>\n",
       "      <th>410</th>\n",
       "      <td>0.0</td>\n",
       "      <td>1.0</td>\n",
       "      <td>2.0</td>\n",
       "      <td>0.490573</td>\n",
       "      <td>-1.131353</td>\n",
       "      <td>1.0</td>\n",
       "      <td>0.0</td>\n",
       "      <td>2.0</td>\n",
       "      <td>0.0</td>\n",
       "      <td>0.0</td>\n",
       "      <td>0.0</td>\n",
       "      <td>0.0</td>\n",
       "      <td>1.0</td>\n",
       "      <td>1.0</td>\n",
       "      <td>0.0</td>\n",
       "      <td>0.0</td>\n",
       "      <td>0.0</td>\n",
       "      <td>-1.208198</td>\n",
       "    </tr>\n",
       "    <tr>\n",
       "      <th>2079</th>\n",
       "      <td>0.0</td>\n",
       "      <td>1.0</td>\n",
       "      <td>2.0</td>\n",
       "      <td>1.469775</td>\n",
       "      <td>1.674549</td>\n",
       "      <td>1.0</td>\n",
       "      <td>2.0</td>\n",
       "      <td>2.0</td>\n",
       "      <td>0.0</td>\n",
       "      <td>0.0</td>\n",
       "      <td>2.0</td>\n",
       "      <td>2.0</td>\n",
       "      <td>1.0</td>\n",
       "      <td>0.0</td>\n",
       "      <td>1.0</td>\n",
       "      <td>1.0</td>\n",
       "      <td>0.0</td>\n",
       "      <td>1.551775</td>\n",
       "    </tr>\n",
       "    <tr>\n",
       "      <th>4076</th>\n",
       "      <td>2.0</td>\n",
       "      <td>1.0</td>\n",
       "      <td>1.0</td>\n",
       "      <td>1.202530</td>\n",
       "      <td>1.586784</td>\n",
       "      <td>1.0</td>\n",
       "      <td>2.0</td>\n",
       "      <td>2.0</td>\n",
       "      <td>2.0</td>\n",
       "      <td>0.0</td>\n",
       "      <td>2.0</td>\n",
       "      <td>0.0</td>\n",
       "      <td>1.0</td>\n",
       "      <td>0.0</td>\n",
       "      <td>1.0</td>\n",
       "      <td>0.0</td>\n",
       "      <td>0.0</td>\n",
       "      <td>1.551775</td>\n",
       "    </tr>\n",
       "    <tr>\n",
       "      <th>2762</th>\n",
       "      <td>2.0</td>\n",
       "      <td>0.0</td>\n",
       "      <td>0.0</td>\n",
       "      <td>1.200442</td>\n",
       "      <td>0.486338</td>\n",
       "      <td>1.0</td>\n",
       "      <td>0.0</td>\n",
       "      <td>0.0</td>\n",
       "      <td>2.0</td>\n",
       "      <td>2.0</td>\n",
       "      <td>2.0</td>\n",
       "      <td>2.0</td>\n",
       "      <td>1.0</td>\n",
       "      <td>0.0</td>\n",
       "      <td>0.0</td>\n",
       "      <td>0.0</td>\n",
       "      <td>2.0</td>\n",
       "      <td>-0.294552</td>\n",
       "    </tr>\n",
       "  </tbody>\n",
       "</table>\n",
       "</div>"
      ],
      "text/plain": [
       "      type  paperless_billing  payment_method  monthly_charges  total_charges  \\\n",
       "940    1.0                0.0             0.0        -1.340473      -0.758999   \n",
       "410    0.0                1.0             2.0         0.490573      -1.131353   \n",
       "2079   0.0                1.0             2.0         1.469775       1.674549   \n",
       "4076   2.0                1.0             1.0         1.202530       1.586784   \n",
       "2762   2.0                0.0             0.0         1.200442       0.486338   \n",
       "\n",
       "      internet_service  online_security  online_backup  device_protection  \\\n",
       "940                2.0              1.0            1.0                1.0   \n",
       "410                1.0              0.0            2.0                0.0   \n",
       "2079               1.0              2.0            2.0                0.0   \n",
       "4076               1.0              2.0            2.0                2.0   \n",
       "2762               1.0              0.0            0.0                2.0   \n",
       "\n",
       "      tech_support  streaming_tv  streaming_movies  gender  senior_citizen  \\\n",
       "940            1.0           1.0               1.0     0.0             0.0   \n",
       "410            0.0           0.0               0.0     1.0             1.0   \n",
       "2079           0.0           2.0               2.0     1.0             0.0   \n",
       "4076           0.0           2.0               0.0     1.0             0.0   \n",
       "2762           2.0           2.0               2.0     1.0             0.0   \n",
       "\n",
       "      partner  dependents  phone_service    tenure  \n",
       "940       0.0         1.0            2.0 -0.332620  \n",
       "410       0.0         0.0            0.0 -1.208198  \n",
       "2079      1.0         1.0            0.0  1.551775  \n",
       "4076      1.0         0.0            0.0  1.551775  \n",
       "2762      0.0         0.0            2.0 -0.294552  "
      ]
     },
     "execution_count": 63,
     "metadata": {},
     "output_type": "execute_result"
    }
   ],
   "source": [
    "features_train_ord.head()"
   ]
  },
  {
   "cell_type": "code",
   "execution_count": 64,
   "id": "8cea4038-82a1-40b2-ba7b-f12f7318db3f",
   "metadata": {},
   "outputs": [
    {
     "data": {
      "text/plain": [
       "940     0\n",
       "410     1\n",
       "2079    0\n",
       "4076    0\n",
       "2762    0\n",
       "Name: churned, dtype: int8"
      ]
     },
     "execution_count": 64,
     "metadata": {},
     "output_type": "execute_result"
    }
   ],
   "source": [
    "target_train.head()"
   ]
  },
  {
   "cell_type": "markdown",
   "id": "95d3a12e-8599-460d-a826-b7b921a4505d",
   "metadata": {},
   "source": [
    "I will just use the class_weight='balanced' parameter later on when training my models."
   ]
  },
  {
   "cell_type": "markdown",
   "id": "cee26717-c958-418a-90e3-93095e876aa8",
   "metadata": {},
   "source": [
    "## Logistic Regression"
   ]
  },
  {
   "cell_type": "code",
   "execution_count": 65,
   "id": "9363ebb6-79d2-4e32-9ae5-63050fdda35b",
   "metadata": {},
   "outputs": [],
   "source": [
    "from sklearn.linear_model import LogisticRegression\n",
    "from sklearn.metrics import roc_auc_score, accuracy_score"
   ]
  },
  {
   "cell_type": "code",
   "execution_count": 66,
   "id": "c1b9243b-0e4a-49f8-a447-a7cfa5094ef1",
   "metadata": {},
   "outputs": [
    {
     "name": "stdout",
     "output_type": "stream",
     "text": [
      "AUC-ROC score: 0.8272155871748648\n",
      "Accuracy for validation set: 0.7310149041873669\n"
     ]
    }
   ],
   "source": [
    "model_lr = LogisticRegression(solver='liblinear', random_state=0, \n",
    "                              class_weight='balanced'\n",
    "                             )\n",
    "model_lr.fit(features_train_ohe, target_train)\n",
    "pred = model_lr.predict(features_valid_ohe)\n",
    "\n",
    "prob_valid = model_lr.predict_proba(features_valid_ohe)\n",
    "prob_one_valid = prob_valid[:, 1]\n",
    "auc_roc_lr = roc_auc_score(target_valid, prob_one_valid)\n",
    "print(f\"AUC-ROC score: {auc_roc_lr}\")\n",
    "\n",
    "accuracy_lr = accuracy_score(target_valid, pred)\n",
    "print('Accuracy for validation set:', accuracy_lr)"
   ]
  },
  {
   "cell_type": "markdown",
   "id": "4ec253c1-fab8-4468-950c-110a5c567787",
   "metadata": {},
   "source": [
    "Looks like our basic model has an AUC-ROC score of 0.83, which is greater than the minimum requirement of 0.75."
   ]
  },
  {
   "cell_type": "markdown",
   "id": "8dd99d94-d3da-40c4-9d5d-de12cb35865a",
   "metadata": {},
   "source": [
    "## Random Forest"
   ]
  },
  {
   "cell_type": "code",
   "execution_count": 67,
   "id": "cd190ead-425c-4020-8727-76011873bcf2",
   "metadata": {},
   "outputs": [],
   "source": [
    "from sklearn.ensemble import RandomForestClassifier"
   ]
  },
  {
   "cell_type": "code",
   "execution_count": 68,
   "id": "78a01f54-2758-465f-959f-c54e3202a0fc",
   "metadata": {},
   "outputs": [],
   "source": [
    "# best_auc_roc_score = 0\n",
    "# model_accuracy = 0\n",
    "# best_est = 0\n",
    "# best_depth = 0\n",
    "# model_forest = None\n",
    "\n",
    "# for est in range (30, 101, 10):\n",
    "#     for depth in range (1, 11):\n",
    "#         model = RandomForestClassifier(\n",
    "#             max_features=1.0, # The lack of this hyperparameter was causing warnings.\n",
    "#             n_estimators=est, max_depth=depth, random_state=123, class_weight='balanced')\n",
    "#         model.fit(features_train_ord, target_train)\n",
    "#         pred_valid = model.predict(features_valid_ord)\n",
    "\n",
    "#         prob_valid = model.predict_proba(features_valid_ord)\n",
    "#         prob_one_valid = prob_valid[:, 1]\n",
    "#         auc_roc_rf = roc_auc_score(target_valid, prob_one_valid)\n",
    "\n",
    "#         accuracy = accuracy_score(target_valid, pred_valid)\n",
    "\n",
    "#         if auc_roc_rf > best_auc_roc_score: \n",
    "#             best_auc_roc_score = auc_roc_rf\n",
    "#             model_accuracy = accuracy\n",
    "#             best_depth = depth\n",
    "#             best_est = est\n",
    "#             model_forest = model  \n",
    "            \n",
    "# print(f\"Best AUC-ROC score: {best_auc_roc_score} obtained using {best_est} trees with\\\n",
    "#  max_depth {best_depth}.\")\n",
    "# print(f'Model accuracy: {model_accuracy}')"
   ]
  },
  {
   "cell_type": "markdown",
   "id": "61c8ad48-3bfd-4611-be1c-1db8a7a2d4bb",
   "metadata": {},
   "source": [
    "The results with the random forest are pretty good. An AUC-ROC score of 0.85 also exceeds the desired minimum AUC-ROC score of 0.75."
   ]
  },
  {
   "cell_type": "markdown",
   "id": "e1fd45c2-c441-48dc-865b-e6d73031b23b",
   "metadata": {},
   "source": [
    "## CatBoost"
   ]
  },
  {
   "cell_type": "code",
   "execution_count": 69,
   "id": "336e0736-1546-48de-ba4d-03dd44b6cfaf",
   "metadata": {},
   "outputs": [],
   "source": [
    "import catboost as cb"
   ]
  },
  {
   "cell_type": "code",
   "execution_count": 70,
   "id": "9dec743c-7a2c-4b1c-825a-6e47b95b3cad",
   "metadata": {},
   "outputs": [],
   "source": [
    "x_train, features_test, y_train, target_test = train_test_split(\n",
    "    features, target, test_size=0.2, random_state=12345)\n",
    "\n",
    "features_train, features_valid, target_train, target_valid = train_test_split(\n",
    "    x_train, y_train, test_size=0.25, random_state=12345)"
   ]
  },
  {
   "cell_type": "code",
   "execution_count": 71,
   "id": "d7e4c747",
   "metadata": {},
   "outputs": [],
   "source": [
    "cat_features = [col for col in list(features.columns) if features[col].dtype=='category']"
   ]
  },
  {
   "cell_type": "code",
   "execution_count": 72,
   "id": "4d8dfe21",
   "metadata": {},
   "outputs": [],
   "source": [
    "valid = cb.Pool(features_valid, target_valid, cat_features=cat_features)"
   ]
  },
  {
   "cell_type": "code",
   "execution_count": 73,
   "id": "235410e0",
   "metadata": {
    "scrolled": true
   },
   "outputs": [
    {
     "data": {
      "text/plain": [
       "0    3088\n",
       "1    1137\n",
       "Name: churned, dtype: int64"
      ]
     },
     "execution_count": 73,
     "metadata": {},
     "output_type": "execute_result"
    }
   ],
   "source": [
    "target_train.value_counts()"
   ]
  },
  {
   "cell_type": "code",
   "execution_count": 74,
   "id": "6c4d6af1-a621-4db9-bd60-daf403950406",
   "metadata": {},
   "outputs": [],
   "source": [
    "model_cb = cb.CatBoostClassifier(verbose=100, random_state=0, n_estimators=4000, learning_rate=0.01, max_depth=7, subsample=1,\n",
    "                                    colsample_bylevel=1, l2_leaf_reg=1,  \n",
    "                                 eval_metric='AUC',\n",
    "                               cat_features=cat_features,\n",
    "                                scale_pos_weight=3)"
   ]
  },
  {
   "cell_type": "code",
   "execution_count": 75,
   "id": "e05ca404-7251-4043-9036-e8117d177a5d",
   "metadata": {},
   "outputs": [
    {
     "data": {
      "application/vnd.jupyter.widget-view+json": {
       "model_id": "b961449a47644e1ebe97ac2e42b719eb",
       "version_major": 2,
       "version_minor": 0
      },
      "text/plain": [
       "MetricVisualizer(layout=Layout(align_self='stretch', height='500px'))"
      ]
     },
     "metadata": {},
     "output_type": "display_data"
    },
    {
     "name": "stdout",
     "output_type": "stream",
     "text": [
      "0:\ttest: 0.7895662\tbest: 0.7895662 (0)\ttotal: 65.8ms\tremaining: 4m 23s\n",
      "100:\ttest: 0.8337599\tbest: 0.8337599 (100)\ttotal: 2.39s\tremaining: 1m 32s\n",
      "200:\ttest: 0.8409319\tbest: 0.8409319 (200)\ttotal: 4.64s\tremaining: 1m 27s\n",
      "300:\ttest: 0.8465064\tbest: 0.8465064 (300)\ttotal: 6.98s\tremaining: 1m 25s\n",
      "400:\ttest: 0.8470671\tbest: 0.8471422 (381)\ttotal: 9.31s\tremaining: 1m 23s\n",
      "500:\ttest: 0.8486713\tbest: 0.8487196 (490)\ttotal: 11.6s\tremaining: 1m 20s\n",
      "600:\ttest: 0.8499670\tbest: 0.8499670 (600)\ttotal: 13.7s\tremaining: 1m 17s\n",
      "700:\ttest: 0.8513486\tbest: 0.8513512 (696)\ttotal: 16s\tremaining: 1m 15s\n",
      "800:\ttest: 0.8533418\tbest: 0.8533418 (797)\ttotal: 18.5s\tremaining: 1m 13s\n",
      "900:\ttest: 0.8547086\tbest: 0.8547622 (878)\ttotal: 21.4s\tremaining: 1m 13s\n",
      "1000:\ttest: 0.8569217\tbest: 0.8569781 (997)\ttotal: 24.3s\tremaining: 1m 12s\n",
      "1100:\ttest: 0.8586869\tbest: 0.8586869 (1100)\ttotal: 27.5s\tremaining: 1m 12s\n",
      "1200:\ttest: 0.8608035\tbest: 0.8608223 (1197)\ttotal: 30.7s\tremaining: 1m 11s\n",
      "1300:\ttest: 0.8628396\tbest: 0.8628396 (1300)\ttotal: 33.8s\tremaining: 1m 10s\n",
      "1400:\ttest: 0.8643097\tbest: 0.8643097 (1400)\ttotal: 37s\tremaining: 1m 8s\n",
      "1500:\ttest: 0.8671292\tbest: 0.8671292 (1500)\ttotal: 40.1s\tremaining: 1m 6s\n",
      "1600:\ttest: 0.8684141\tbest: 0.8685241 (1591)\ttotal: 43.4s\tremaining: 1m 5s\n",
      "1700:\ttest: 0.8700076\tbest: 0.8700908 (1695)\ttotal: 46.6s\tremaining: 1m 2s\n",
      "1800:\ttest: 0.8712336\tbest: 0.8713248 (1769)\ttotal: 50s\tremaining: 1m\n",
      "1900:\ttest: 0.8720867\tbest: 0.8720867 (1900)\ttotal: 53.2s\tremaining: 58.8s\n",
      "2000:\ttest: 0.8737767\tbest: 0.8737767 (2000)\ttotal: 56.6s\tremaining: 56.5s\n",
      "2100:\ttest: 0.8743481\tbest: 0.8745386 (2089)\ttotal: 1m\tremaining: 54.3s\n",
      "2200:\ttest: 0.8745359\tbest: 0.8747773 (2179)\ttotal: 1m 3s\tremaining: 52s\n",
      "2300:\ttest: 0.8752736\tbest: 0.8752736 (2300)\ttotal: 1m 6s\tremaining: 49.4s\n",
      "2400:\ttest: 0.8758584\tbest: 0.8758692 (2377)\ttotal: 1m 10s\tremaining: 46.8s\n",
      "2500:\ttest: 0.8762447\tbest: 0.8762769 (2446)\ttotal: 1m 13s\tremaining: 44.1s\n",
      "2600:\ttest: 0.8765184\tbest: 0.8765962 (2546)\ttotal: 1m 17s\tremaining: 41.5s\n",
      "2700:\ttest: 0.8771139\tbest: 0.8771327 (2698)\ttotal: 1m 20s\tremaining: 38.7s\n",
      "2800:\ttest: 0.8776880\tbest: 0.8777309 (2797)\ttotal: 1m 24s\tremaining: 36s\n",
      "2900:\ttest: 0.8782406\tbest: 0.8783131 (2874)\ttotal: 1m 27s\tremaining: 33.2s\n",
      "3000:\ttest: 0.8786323\tbest: 0.8787181 (2986)\ttotal: 1m 31s\tremaining: 30.3s\n",
      "3100:\ttest: 0.8787503\tbest: 0.8790508 (3055)\ttotal: 1m 34s\tremaining: 27.4s\n",
      "3200:\ttest: 0.8780341\tbest: 0.8790508 (3055)\ttotal: 1m 40s\tremaining: 25s\n",
      "3300:\ttest: 0.8772400\tbest: 0.8790508 (3055)\ttotal: 1m 44s\tremaining: 22.1s\n",
      "3400:\ttest: 0.8771139\tbest: 0.8790508 (3055)\ttotal: 1m 48s\tremaining: 19s\n",
      "3500:\ttest: 0.8772910\tbest: 0.8790508 (3055)\ttotal: 1m 51s\tremaining: 15.9s\n",
      "3600:\ttest: 0.8775619\tbest: 0.8790508 (3055)\ttotal: 1m 55s\tremaining: 12.8s\n",
      "3700:\ttest: 0.8776075\tbest: 0.8790508 (3055)\ttotal: 1m 59s\tremaining: 9.62s\n",
      "3800:\ttest: 0.8773071\tbest: 0.8790508 (3055)\ttotal: 2m 2s\tremaining: 6.42s\n",
      "3900:\ttest: 0.8777551\tbest: 0.8790508 (3055)\ttotal: 2m 6s\tremaining: 3.21s\n",
      "3999:\ttest: 0.8779777\tbest: 0.8790508 (3055)\ttotal: 2m 10s\tremaining: 0us\n",
      "\n",
      "bestTest = 0.8790507769\n",
      "bestIteration = 3055\n",
      "\n",
      "Shrink model to first 3056 iterations.\n"
     ]
    },
    {
     "data": {
      "text/plain": [
       "<catboost.core.CatBoostClassifier at 0x7fdf82763dc0>"
      ]
     },
     "execution_count": 75,
     "metadata": {},
     "output_type": "execute_result"
    }
   ],
   "source": [
    "model_cb.fit(features_train, target_train, plot=True, eval_set=(features_valid, target_valid))"
   ]
  },
  {
   "cell_type": "markdown",
   "id": "6bbc681c",
   "metadata": {},
   "source": [
    "The model reaches peak performance at 3055 iterations, so this is what I will stop the testing model at if I choose this as my final model."
   ]
  },
  {
   "cell_type": "code",
   "execution_count": 76,
   "id": "8cdf91d3",
   "metadata": {},
   "outputs": [
    {
     "name": "stdout",
     "output_type": "stream",
     "text": [
      "['type', 'paperless_billing', 'payment_method', 'monthly_charges', 'total_charges', 'internet_service', 'online_security', 'online_backup', 'device_protection', 'tech_support', 'streaming_tv', 'streaming_movies', 'gender', 'senior_citizen', 'partner', 'dependents', 'phone_service', 'tenure']\n"
     ]
    },
    {
     "data": {
      "text/plain": [
       "array([ 8.03734713,  2.70164388,  4.93158336,  9.08146919,  9.12325272,\n",
       "        3.94430354,  3.58291961,  3.86812439,  3.74892557,  3.83242704,\n",
       "        2.41796028,  2.78085538,  2.36057182,  1.26617894,  1.5911835 ,\n",
       "        2.61008257,  5.60839888, 28.5127722 ])"
      ]
     },
     "execution_count": 76,
     "metadata": {},
     "output_type": "execute_result"
    }
   ],
   "source": [
    "print(model_cb.feature_names_)\n",
    "model_cb.feature_importances_"
   ]
  },
  {
   "cell_type": "code",
   "execution_count": 77,
   "id": "d5125917-772a-4380-ae38-e1c7a09c1a76",
   "metadata": {},
   "outputs": [
    {
     "data": {
      "text/plain": [
       "0.8218594748048261"
      ]
     },
     "execution_count": 77,
     "metadata": {},
     "output_type": "execute_result"
    }
   ],
   "source": [
    "pred = model_cb.predict(features_valid)\n",
    "accuracy_score(target_valid, pred)"
   ]
  },
  {
   "cell_type": "markdown",
   "id": "ea58de97-9cc6-4366-bed7-85853358ecdb",
   "metadata": {},
   "source": [
    "This AUC-ROC validation score is staggeringly high with the engineered starting date features, at 0.985. I don't believe there is any data leakage or anything else that would give the model an unfair advantage, but it seems unrealistic. Let's remove these features and see how the result looks."
   ]
  },
  {
   "cell_type": "markdown",
   "id": "f785fbb1",
   "metadata": {},
   "source": [
    "An AUC-ROC score of 0.88 with the removed features is still pretty good."
   ]
  },
  {
   "cell_type": "markdown",
   "id": "8a254c82-95ab-4b98-8dd8-ccd1d3324258",
   "metadata": {},
   "source": [
    "## LightGBM"
   ]
  },
  {
   "cell_type": "code",
   "execution_count": 78,
   "id": "a17b73f6-9000-4a12-98b6-2bdf7fc41686",
   "metadata": {},
   "outputs": [],
   "source": [
    "from lightgbm import LGBMClassifier"
   ]
  },
  {
   "cell_type": "code",
   "execution_count": 79,
   "id": "07d52166-3439-4d4b-9fcb-c3fbeba53a19",
   "metadata": {},
   "outputs": [
    {
     "data": {
      "text/plain": [
       "0    0.730888\n",
       "1    0.269112\n",
       "Name: churned, dtype: float64"
      ]
     },
     "execution_count": 79,
     "metadata": {},
     "output_type": "execute_result"
    }
   ],
   "source": [
    "target_train.value_counts(normalize=True)"
   ]
  },
  {
   "cell_type": "code",
   "execution_count": 80,
   "id": "3d201466-edba-4446-a2b5-59386c2f6b4a",
   "metadata": {},
   "outputs": [
    {
     "name": "stdout",
     "output_type": "stream",
     "text": [
      "0.8682558588720062\n"
     ]
    }
   ],
   "source": [
    "model = LGBMClassifier(learning_rate=0.1, n_estimators=2500, max_depth=14, random_state=0, \n",
    "                       # class_weight='balanced',\n",
    "                       scale_pos_weight=3\n",
    "                      )\n",
    "model.fit(features_train, target_train)\n",
    "\n",
    "prob_valid = model.predict_proba(features_valid)\n",
    "prob_one_valid = prob_valid[:, 1]\n",
    "auc_roc_lgbm = roc_auc_score(target_valid, prob_one_valid)\n",
    "print(auc_roc_lgbm)"
   ]
  },
  {
   "cell_type": "markdown",
   "id": "4232bab1",
   "metadata": {},
   "source": [
    "An AUC-ROC score of 0.87 is close to CatBoost's. I won't spend more time on this model since I already spent time tuning the CatBoost model."
   ]
  },
  {
   "cell_type": "code",
   "execution_count": 81,
   "id": "63dfe0b7-9349-41d0-b5ae-324443c13d3d",
   "metadata": {},
   "outputs": [],
   "source": [
    "# from sklearnex import patch_sklearn # Enhanced performance package for Intel processors\n",
    "# patch_sklearn()"
   ]
  },
  {
   "cell_type": "markdown",
   "id": "c8916ffa",
   "metadata": {},
   "source": [
    "## K-Nearest Neighbors"
   ]
  },
  {
   "cell_type": "code",
   "execution_count": 82,
   "id": "ee7e3f88-4e5c-4adb-8179-d8a507514966",
   "metadata": {},
   "outputs": [
    {
     "name": "stdout",
     "output_type": "stream",
     "text": [
      "Number of neighbors: 1\n",
      "AUC-ROC Score: 0.6257645506052022\n",
      "Accuracy: 0.7075940383250532\n",
      "\n",
      "\n",
      "Number of neighbors: 2\n",
      "AUC-ROC Score: 0.6732578976736201\n",
      "Accuracy: 0.7615330021291696\n",
      "\n",
      "\n",
      "Number of neighbors: 3\n",
      "AUC-ROC Score: 0.7080892136664092\n",
      "Accuracy: 0.7572746628814763\n",
      "\n",
      "\n",
      "Number of neighbors: 4\n",
      "AUC-ROC Score: 0.7329679586230577\n",
      "Accuracy: 0.7735982966643009\n",
      "\n",
      "\n",
      "Number of neighbors: 5\n",
      "AUC-ROC Score: 0.7405088419606833\n",
      "Accuracy: 0.7714691270404542\n",
      "\n",
      "\n",
      "Number of neighbors: 6\n",
      "AUC-ROC Score: 0.7503286226285518\n",
      "Accuracy: 0.7792760823278921\n",
      "\n",
      "\n",
      "Number of neighbors: 7\n",
      "AUC-ROC Score: 0.7616479955360975\n",
      "Accuracy: 0.7750177430801988\n",
      "\n",
      "\n",
      "Number of neighbors: 8\n",
      "AUC-ROC Score: 0.7723865782470599\n",
      "Accuracy: 0.772888573456352\n",
      "\n",
      "\n",
      "Number of neighbors: 9\n",
      "AUC-ROC Score: 0.7749847089878961\n",
      "Accuracy: 0.772888573456352\n",
      "\n",
      "\n",
      "Number of neighbors: 10\n",
      "AUC-ROC Score: 0.7775291870546828\n",
      "Accuracy: 0.7750177430801988\n",
      "\n",
      "\n"
     ]
    }
   ],
   "source": [
    "from sklearn.neighbors import KNeighborsClassifier\n",
    "from sklearn.metrics import classification_report, accuracy_score, confusion_matrix\n",
    "\n",
    "# Create KNN classifier\n",
    "# You can adjust the number of neighbors (n_neighbors) based on your dataset\n",
    "for n in range(1,11):\n",
    "    knn = KNeighborsClassifier(n_neighbors=n)\n",
    "\n",
    "    # Train the classifier\n",
    "    knn.fit(features_train_ord, target_train)\n",
    "\n",
    "    # Predict on the test set\n",
    "    y_pred = knn.predict(features_valid_ord)\n",
    "\n",
    "    # Evaluate the classifier\n",
    "\n",
    "    prob_valid = knn.predict_proba(features_valid_ord)\n",
    "    prob_one_valid = prob_valid[:, 1]\n",
    "    auc_roc_knn = roc_auc_score(target_valid, prob_one_valid)\n",
    "\n",
    "    print('Number of neighbors:', n)\n",
    "    print('AUC-ROC Score:', auc_roc_knn)\n",
    "    print(\"Accuracy:\", accuracy_score(target_valid, y_pred))\n",
    "    # print(\"\\nConfusion Matrix:\\n\", confusion_matrix(target_valid, y_pred))\n",
    "    # print(\"\\nClassification Report:\\n\", classification_report(target_valid, y_pred))\n",
    "    print('\\n')"
   ]
  },
  {
   "cell_type": "markdown",
   "id": "a1c40c6c-7130-4e61-afc2-d9f8c13ba977",
   "metadata": {},
   "source": [
    "Eh, the AUC-ROC score is not terribly high, and I would struggle to be able to explain what groups these neighbors actually represent."
   ]
  },
  {
   "cell_type": "markdown",
   "id": "6016955e-68c8-4511-940d-b81ac52cd9e6",
   "metadata": {
    "toc-hr-collapsed": true
   },
   "source": [
    "# Test final model"
   ]
  },
  {
   "cell_type": "markdown",
   "id": "1f235d50-dd2b-48ed-8209-5be25aaef53a",
   "metadata": {},
   "source": [
    "Let's retrain the CatBoost model on the train + validation sets with the same hyperparameters as before. We will use the class weights from the data that this model is being trained on, leaving the test set totally separate and untouched."
   ]
  },
  {
   "cell_type": "code",
   "execution_count": 83,
   "id": "c51547e1-d5da-4cce-84dd-596d83f1a029",
   "metadata": {},
   "outputs": [
    {
     "data": {
      "text/plain": [
       "0    0.735534\n",
       "1    0.264466\n",
       "Name: churned, dtype: float64"
      ]
     },
     "execution_count": 83,
     "metadata": {},
     "output_type": "execute_result"
    }
   ],
   "source": [
    "y_train.value_counts(normalize=True)"
   ]
  },
  {
   "cell_type": "code",
   "execution_count": 84,
   "id": "b5b4e1fa-af95-4c86-9ed7-5824b9092042",
   "metadata": {
    "scrolled": true
   },
   "outputs": [
    {
     "name": "stdout",
     "output_type": "stream",
     "text": [
      "0:\ttotal: 34.9ms\tremaining: 1m 46s\n",
      "500:\ttotal: 13.9s\tremaining: 1m 10s\n",
      "1000:\ttotal: 28.7s\tremaining: 58.9s\n",
      "1500:\ttotal: 45.7s\tremaining: 47.3s\n",
      "2000:\ttotal: 1m 4s\tremaining: 34s\n",
      "2500:\ttotal: 1m 21s\tremaining: 18s\n",
      "3000:\ttotal: 1m 37s\tremaining: 1.79s\n",
      "3055:\ttotal: 1m 39s\tremaining: 0us\n"
     ]
    },
    {
     "data": {
      "text/plain": [
       "<catboost.core.CatBoostClassifier at 0x7fdf9ae2df40>"
      ]
     },
     "execution_count": 84,
     "metadata": {},
     "output_type": "execute_result"
    }
   ],
   "source": [
    "model_cb = cb.CatBoostClassifier(random_state=0, n_estimators=3056, learning_rate=0.01, max_depth=7, subsample=1,\n",
    "                                       colsample_bylevel=1, l2_leaf_reg=1, \n",
    "                                 # class_weights=[1-0.7355, 1-0.2645], \n",
    "                                 eval_metric='AUC',\n",
    "                               cat_features=cat_features,\n",
    "                                scale_pos_weight=3)\n",
    "\n",
    "model_cb.fit(x_train, y_train)"
   ]
  },
  {
   "cell_type": "code",
   "execution_count": 85,
   "id": "73b994a3",
   "metadata": {},
   "outputs": [
    {
     "name": "stdout",
     "output_type": "stream",
     "text": [
      "Accuracy: 0.8310858765081618\n",
      "AUC-ROC Score: 0.9005161769603196\n"
     ]
    }
   ],
   "source": [
    "pred_test = model_cb.predict(features_test)\n",
    "\n",
    "prob_valid = model_cb.predict_proba(features_test)\n",
    "prob_one_valid = prob_valid[:, 1]\n",
    "auc_roc_final = roc_auc_score(target_test, prob_one_valid)\n",
    "\n",
    "print('Accuracy:', accuracy_score(pred_test, target_test))\n",
    "print('AUC-ROC Score:', auc_roc_final)"
   ]
  },
  {
   "cell_type": "code",
   "execution_count": 86,
   "id": "1da399c3-c7b2-4301-a659-0abc66021d78",
   "metadata": {
    "scrolled": true
   },
   "outputs": [
    {
     "data": {
      "text/plain": [
       "0.8310858765081618"
      ]
     },
     "execution_count": 86,
     "metadata": {},
     "output_type": "execute_result"
    }
   ],
   "source": [
    "pred = model_cb.predict(features_test)\n",
    "accuracy_score(target_test, pred)"
   ]
  },
  {
   "cell_type": "markdown",
   "id": "bf097296",
   "metadata": {},
   "source": [
    "The final tested AUC-ROC score exceeds that from the evaluation, at 0.90, which could indicate a problem. However the test data has been kept totally separate from the training data used, so it should be okay. The score is only 0.02 higher than the validation score, and could be explained by the additional data used for this training and by normal variation. The accuracy is 0.83, which is a bit higher than the baseline accuracy of 0.74 (given the uneven proportion of churn data)."
   ]
  },
  {
   "cell_type": "code",
   "execution_count": 87,
   "id": "6ea6529a",
   "metadata": {
    "scrolled": true
   },
   "outputs": [
    {
     "data": {
      "text/plain": [
       "<sklearn.metrics._plot.confusion_matrix.ConfusionMatrixDisplay at 0x7fdf9add1370>"
      ]
     },
     "execution_count": 87,
     "metadata": {},
     "output_type": "execute_result"
    },
    {
     "data": {
      "image/png": "[encoded data removed]",
      "text/plain": [
       "<Figure size 432x288 with 2 Axes>"
      ]
     },
     "metadata": {
      "needs_background": "light"
     },
     "output_type": "display_data"
    }
   ],
   "source": [
    "from sklearn.metrics import confusion_matrix, ConfusionMatrixDisplay\n",
    "c_matrix = confusion_matrix(target_test, pred)\n",
    "ConfusionMatrixDisplay(c_matrix).plot()"
   ]
  },
  {
   "cell_type": "markdown",
   "id": "b24fd24d",
   "metadata": {},
   "source": [
    "## Feature Importance"
   ]
  },
  {
   "cell_type": "markdown",
   "id": "f8c3fcbd",
   "metadata": {},
   "source": [
    "Let's dive into feature importance now that we have a fully trained and tested model."
   ]
  },
  {
   "cell_type": "code",
   "execution_count": 88,
   "id": "adb32198-f6c7-4f85-8c95-47598194d364",
   "metadata": {},
   "outputs": [
    {
     "name": "stdout",
     "output_type": "stream",
     "text": [
      "Collecting shap\n",
      "  Downloading shap-0.43.0-cp39-cp39-manylinux_2_12_x86_64.manylinux2010_x86_64.manylinux_2_17_x86_64.manylinux2014_x86_64.whl (532 kB)\n",
      "\u001b[K     |████████████████████████████████| 532 kB 16.5 MB/s eta 0:00:01\n",
      "\u001b[?25hRequirement already satisfied: numpy in /opt/conda/lib/python3.9/site-packages (from shap) (1.21.1)\n",
      "Requirement already satisfied: scipy in /opt/conda/lib/python3.9/site-packages (from shap) (1.8.0)\n",
      "Requirement already satisfied: scikit-learn in /opt/conda/lib/python3.9/site-packages (from shap) (0.24.1)\n",
      "Requirement already satisfied: packaging>20.9 in /opt/conda/lib/python3.9/site-packages (from shap) (21.3)\n",
      "Requirement already satisfied: numba in /opt/conda/lib/python3.9/site-packages (from shap) (0.55.1)\n",
      "Requirement already satisfied: tqdm>=4.27.0 in /opt/conda/lib/python3.9/site-packages (from shap) (4.61.2)\n",
      "Collecting cloudpickle\n",
      "  Downloading cloudpickle-3.0.0-py3-none-any.whl (20 kB)\n",
      "Requirement already satisfied: pandas in /opt/conda/lib/python3.9/site-packages (from shap) (1.2.4)\n",
      "Collecting slicer==0.0.7\n",
      "  Downloading slicer-0.0.7-py3-none-any.whl (14 kB)\n",
      "Requirement already satisfied: pyparsing!=3.0.5,>=2.0.2 in /opt/conda/lib/python3.9/site-packages (from packaging>20.9->shap) (2.4.7)\n",
      "Requirement already satisfied: setuptools in /opt/conda/lib/python3.9/site-packages (from numba->shap) (49.6.0.post20210108)\n",
      "Requirement already satisfied: llvmlite<0.39,>=0.38.0rc1 in /opt/conda/lib/python3.9/site-packages (from numba->shap) (0.38.0)\n",
      "Requirement already satisfied: python-dateutil>=2.7.3 in /opt/conda/lib/python3.9/site-packages (from pandas->shap) (2.8.1)\n",
      "Requirement already satisfied: pytz>=2017.3 in /opt/conda/lib/python3.9/site-packages (from pandas->shap) (2021.1)\n",
      "Requirement already satisfied: six>=1.5 in /opt/conda/lib/python3.9/site-packages (from python-dateutil>=2.7.3->pandas->shap) (1.16.0)\n",
      "Requirement already satisfied: threadpoolctl>=2.0.0 in /opt/conda/lib/python3.9/site-packages (from scikit-learn->shap) (3.1.0)\n",
      "Requirement already satisfied: joblib>=0.11 in /opt/conda/lib/python3.9/site-packages (from scikit-learn->shap) (1.1.0)\n",
      "Installing collected packages: slicer, cloudpickle, shap\n",
      "Successfully installed cloudpickle-3.0.0 shap-0.43.0 slicer-0.0.7\n"
     ]
    },
    {
     "data": {
      "image/png": "[encoded data removed]",
      "text/plain": [
       "<Figure size 576x468 with 1 Axes>"
      ]
     },
     "metadata": {},
     "output_type": "display_data"
    }
   ],
   "source": [
    "!pip install shap\n",
    "import shap\n",
    "\n",
    "explainer = shap.Explainer(model_cb)\n",
    "shap_values = explainer(x_train)\n",
    "\n",
    "shap.plots.bar(shap_values)"
   ]
  },
  {
   "cell_type": "markdown",
   "id": "ff2372d6",
   "metadata": {},
   "source": [
    "At a glance, tenure matters the most to the model's prediction, followed by the type of contract and whether or not the customer has internet service. Let's investigate each of these for specifics."
   ]
  },
  {
   "cell_type": "markdown",
   "id": "625938f9",
   "metadata": {},
   "source": [
    "### Tenure"
   ]
  },
  {
   "cell_type": "code",
   "execution_count": 89,
   "id": "6f4d4cc0",
   "metadata": {
    "scrolled": true
   },
   "outputs": [
    {
     "data": {
      "text/plain": [
       "<AxesSubplot:xlabel='churned', ylabel='tenure'>"
      ]
     },
     "execution_count": 89,
     "metadata": {},
     "output_type": "execute_result"
    },
    {
     "data": {
      "image/png": "[encoded data removed]",
      "text/plain": [
       "<Figure size 432x288 with 1 Axes>"
      ]
     },
     "metadata": {
      "needs_background": "light"
     },
     "output_type": "display_data"
    }
   ],
   "source": [
    "sns.boxplot(data=df, x='churned', y='tenure')"
   ]
  },
  {
   "cell_type": "markdown",
   "id": "17fc47f9",
   "metadata": {},
   "source": [
    "Customers with a longer tenure are less likely to churn. Specifically, around 75% of those who churned had a tenure less than 1000 days."
   ]
  },
  {
   "cell_type": "markdown",
   "id": "88f4112c",
   "metadata": {},
   "source": [
    "### Type"
   ]
  },
  {
   "cell_type": "code",
   "execution_count": 90,
   "id": "1e1a7a75",
   "metadata": {
    "scrolled": true
   },
   "outputs": [
    {
     "data": {
      "text/plain": [
       "<AxesSubplot:xlabel='churned', ylabel='type'>"
      ]
     },
     "execution_count": 90,
     "metadata": {},
     "output_type": "execute_result"
    },
    {
     "data": {
      "image/png": "[encoded data removed]",
      "text/plain": [
       "<Figure size 432x288 with 1 Axes>"
      ]
     },
     "metadata": {
      "needs_background": "light"
     },
     "output_type": "display_data"
    }
   ],
   "source": [
    "sns.barplot(data=df, x='churned', y='type')"
   ]
  },
  {
   "cell_type": "markdown",
   "id": "d9f1a670",
   "metadata": {},
   "source": [
    "Monthly users churn at a far higher rate than other contracted users."
   ]
  },
  {
   "cell_type": "markdown",
   "id": "b4d8d3bd",
   "metadata": {},
   "source": [
    "### Internet Service"
   ]
  },
  {
   "cell_type": "code",
   "execution_count": 91,
   "id": "5d5f2e51",
   "metadata": {
    "scrolled": true
   },
   "outputs": [
    {
     "data": {
      "text/plain": [
       "<AxesSubplot:xlabel='churned', ylabel='internet_service'>"
      ]
     },
     "execution_count": 91,
     "metadata": {},
     "output_type": "execute_result"
    },
    {
     "data": {
      "image/png": "[encoded data removed]",
      "text/plain": [
       "<Figure size 432x288 with 1 Axes>"
      ]
     },
     "metadata": {
      "needs_background": "light"
     },
     "output_type": "display_data"
    }
   ],
   "source": [
    "sns.barplot(data=df, x='churned', y='internet_service')"
   ]
  },
  {
   "cell_type": "markdown",
   "id": "c17f30ff",
   "metadata": {},
   "source": [
    "Users with fiber optic internet churn at a far higher rate than users with DSL internet or no internet."
   ]
  },
  {
   "cell_type": "markdown",
   "id": "3167fe4e",
   "metadata": {},
   "source": [
    "# Conclusion"
   ]
  },
  {
   "cell_type": "markdown",
   "id": "6da457eb",
   "metadata": {},
   "source": [
    "The final model had a tested AUC-ROC score of 0.90, which indicates a high performance in correctly identifying user churn. The top three factors that the model used to predict churn were tenure, contract type, and internet type. Key identifiers for users about to churn include:\n",
    "\n",
    "    - shorter duration (<1000 days)\n",
    "    - month-to-month contracts\n",
    "    - fiber optic internet service"
   ]
  },
  {
   "cell_type": "markdown",
   "id": "a67fb3aa",
   "metadata": {
    "toc-hr-collapsed": true
   },
   "source": [
    "# Solution Report"
   ]
  },
  {
   "cell_type": "markdown",
   "id": "15699c80",
   "metadata": {},
   "source": [
    "## Which steps of the plan were performed and which were skipped?"
   ]
  },
  {
   "cell_type": "markdown",
   "id": "18e2fcd7",
   "metadata": {},
   "source": [
    "1. Loading and preprocessing\n",
    "    - Load csv data into DataFrames\n",
    "    - Change column names to snake case\n",
    "    - Update datatypes to correct types\n",
    "    - Join tables into master dataframe\n",
    "2. Feature Engineering\n",
    "    - Combine redundant features\n",
    "    - Create Boolean target column from churn data\n",
    "    - Extract specific date information from BeginDate data and find length of tenure\n",
    "3. Exploratory Data Analysis\n",
    "    - Look for correlation amongst features\n",
    "    - Look for correlation between features and target\n",
    "4. Try machine learning models\n",
    "    - Split dataset into train/validate/test sets, while balancing classes\n",
    "    - Further preprocess dataset based on each model's requirements (OHE vs ordinal encoding)\n",
    "    - Use logistic regression model as sanity check\n",
    "    - Try gradient boosting, random forest, and another type of model\n",
    "5. Test final model\n",
    "    - Test the best performing model on the test set\n",
    "    - Report tested AUC-ROC and accuracy scores\n",
    "    - Draw conclusions"
   ]
  },
  {
   "cell_type": "markdown",
   "id": "555162a4",
   "metadata": {},
   "source": [
    "I performed all of my loading and initial preprocessing steps. Updating datatypes required me to fill missing values. I also changed yes/no's to 1/0's in relevant columns. \n",
    "\n",
    "For feature engineering, I did combine redundant phone service features but did not combine other features that I had initially considered combining. I created a taregt as intended. Initially, I created features from tenure and from the start date - later on I found data leakage, so I removed the start date features and kept only tenure. \n",
    "\n",
    "I conducted brief exploration of the data, looking at simple correlations between features and the target. \n",
    "\n",
    "For the machine learning phase, I did split up the data, but I did not manually balance the classes, because the scikit-learn models I used all allowed me to easily balance the classes during training. For each model, I did preprocess the data accordingly, and I did first train a logistic regression model to use as a baseline. I did train two gradient boosted models, a random forest, and another type (K Nearest Neighbors).\n",
    "\n",
    "I tested the best performing model on the test set, which was the CatBoost Classifier. I found the final AUC-ROC/accuracy scores. I looked into the most heavily weighted features, explored to find patterns, and made conclusions based on these features."
   ]
  },
  {
   "cell_type": "markdown",
   "id": "19e5a47c",
   "metadata": {},
   "source": [
    "## Difficulties that I encountered"
   ]
  },
  {
   "cell_type": "markdown",
   "id": "39ad9fa0",
   "metadata": {},
   "source": [
    "The first minor challenge was converting column names from CamelCase to snake_case. This is easy to accomplish manually, but on this project I decided there had to be a better way, so I investigated and found a function from a package that accomplished this quickly.\n",
    "\n",
    "I initially had changed yes/no's to True/False Bools, which ended up causing inconvenience with the gradient boosting models I chose - I eventually just changed these values to 1/0's to eliminate that issue.\n",
    "\n",
    "The first and only major issue I ran into was my CatBoost Classifier getting an AUC-ROC score of 0.99 or so, which was unrealistically high. I was confused because my logistic regression and random forest models had performed about as well as expected. Therefore, I attributed the problem to something involving my specific CatBoost preprocessing/training. Nothing that I tweaked in this section changed the outcome, so I went back further in my code to look around. I figured that data leakage had to be the culprit, but I was totally unclear on where/how it was introduced. I experimented with the features I had created, and I found that only using tenure and omitting the other start-date features that I had created fixed the problem. "
   ]
  },
  {
   "cell_type": "markdown",
   "id": "344acc14",
   "metadata": {},
   "source": [
    "## Key steps to solving the task"
   ]
  },
  {
   "cell_type": "markdown",
   "id": "3dc891d2",
   "metadata": {},
   "source": [
    "Distilling the whole process into a few key steps:\n",
    "\n",
    "    - Defining the problem and outlining a well-defined but flexible plan\n",
    "    - Preprocessing the csv files into a workable master DataFrame\n",
    "    - Training and validating a variety of supervised learning models\n",
    "    - Testing a final chosen model and identifying key features"
   ]
  },
  {
   "cell_type": "markdown",
   "id": "eeef3cb6",
   "metadata": {},
   "source": [
    "## Final model"
   ]
  },
  {
   "cell_type": "markdown",
   "id": "304b1ad3",
   "metadata": {},
   "source": [
    "A CatBoost Classifier was used as my final tested model, yielding an AUC-ROC score of 0.90, which exceeds both the minimum requirement of 0.75 and the desired minimum score of 0.88."
   ]
  }
 ],
 "metadata": {
  "kernelspec": {
   "display_name": "Python 3 (ipykernel)",
   "language": "python",
   "name": "python3"
  },
  "language_info": {
   "codemirror_mode": {
    "name": "ipython",
    "version": 3
   },
   "file_extension": ".py",
   "mimetype": "text/x-python",
   "name": "python",
   "nbconvert_exporter": "python",
   "pygments_lexer": "ipython3",
   "version": "3.9.16"
  },
  "toc": {
   "base_numbering": 1,
   "nav_menu": {},
   "number_sections": true,
   "sideBar": true,
   "skip_h1_title": true,
   "title_cell": "Table of Contents",
   "title_sidebar": "Contents",
   "toc_cell": false,
   "toc_position": {},
   "toc_section_display": true,
   "toc_window_display": false
  },
  "toc-showtags": false
 },
 "nbformat": 4,
 "nbformat_minor": 5
}
