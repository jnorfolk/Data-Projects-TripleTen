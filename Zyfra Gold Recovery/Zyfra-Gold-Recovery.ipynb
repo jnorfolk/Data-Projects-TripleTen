{
 "cells": [
  {
   "cell_type": "markdown",
   "id": "5626ba87-cea7-4817-adf3-aa4426df7267",
   "metadata": {
    "toc-hr-collapsed": true
   },
   "source": [
    "# Zyfra Gold Recovery"
   ]
  },
  {
   "cell_type": "markdown",
   "id": "46452dc2-1f79-46c2-be4b-c3c25c9d18c6",
   "metadata": {},
   "source": [
    "## Table of Contents"
   ]
  },
  {
   "cell_type": "markdown",
   "id": "d5bd8091-9924-4ff1-9367-9c0bcc414dbd",
   "metadata": {},
   "source": [
    "- [Introduction](#Introduction)\n",
    "- [Preprocessing](#Preprocessing)\n",
    "- [Analyze Data](#Analyze-Data) (interesting section)\n",
    "- [Try and Test Machine Learning Models](#Build-Models) (interesting section)\n",
    "- [Conclusion](#Conclusion)"
   ]
  },
  {
   "cell_type": "markdown",
   "id": "9d4172a6-0adf-467d-87b2-ccbea36d7457",
   "metadata": {},
   "source": [
    "# Introduction"
   ]
  },
  {
   "cell_type": "markdown",
   "id": "e70c5f4d-2e88-4804-aa74-b172690e2e17",
   "metadata": {},
   "source": [
    "The company Zyfra extracts gold concentrate from gold ore to make a profit. They would like to predict how much gold concentrate will be yielded from gold ore, optimizing their gold production. They have data collected from every stage of the gold extraction process. They have provided a training set, a test set, and a complete dataset. The complete dataset contains all of the observations, and all of the features/targets, even those calculated after extraction. The training set contains a subset of this data meant to train the prediction model. The test set, however, contains only the features that would be available to the company at the start of the extraction process, and therefore has fewer features and zero target data. This test set is important because this contains the data that the company wishes to make predictions off of.\n",
    "\n",
    "A regression model will need to be trained to make numerical predictions. We will try out linear regression and random forest regression models. I will skip decision tree regression as random forest tends to be more accurate. The metric for success will be symmetric mean absolute error (sMAPE), based on the predicted gold recovery vs the actual gold recovery. I will use the trained models to predict rougher concentrate recovery and final concentrate recovery, calculate sMAPE for each, and combine the two scores for our final performance score. Both linear and random forest regression models are able to predict multiple targets from a single model. \n",
    "\n",
    "First I will explore preprocess the data, verifying that recovery was calculated correctly and comparing the training set with the test set. Missing values will need to be dealt with, and targets selected. Then I will compare the concentrations of each of the metals at different stages and figure out if there are any observations I should drop, and compare feed size distributions between the training set and test set. Finally I will train models, calculate combined sMAPE scores, and use the better-scoring model as our final model, training the model on our full training set and then finding final sMAPE on the test set. I will compare the final model to a dummy model and save the model to my machine for further use by the company."
   ]
  },
  {
   "cell_type": "code",
   "execution_count": 1,
   "id": "dfac3430-11b6-47fb-8306-231579be3a65",
   "metadata": {},
   "outputs": [],
   "source": [
    "import pandas as pd\n",
    "import numpy as np\n",
    "import matplotlib.pyplot as plt\n",
    "import seaborn as sns\n",
    "\n",
    "# from sklearnex import patch_sklearn # Enhanced performance package for Intel processors\n",
    "# patch_sklearn()\n",
    "\n",
    "from sklearn.ensemble import RandomForestRegressor\n",
    "from sklearn.linear_model import LinearRegression\n",
    "from sklearn.model_selection import cross_val_score\n",
    "\n",
    "from sklearn.metrics import mean_absolute_error\n",
    "from sklearn.dummy import DummyRegressor\n",
    "\n",
    "from joblib import dump"
   ]
  },
  {
   "cell_type": "markdown",
   "id": "160f7afd-f5fe-468f-81d4-6deba2da2b58",
   "metadata": {
    "toc-hr-collapsed": true
   },
   "source": [
    "# Preprocessing"
   ]
  },
  {
   "cell_type": "code",
   "execution_count": 2,
   "id": "48ba238c-5cff-4c34-ad80-bad6daaed414",
   "metadata": {},
   "outputs": [],
   "source": [
    "try:\n",
    "    train = pd.read_csv('gold_recovery_train.csv')\n",
    "except:\n",
    "    train = pd.read_csv('/datasets/gold_recovery_train.csv')\n",
    "    \n",
    "try:    \n",
    "    test = pd.read_csv('gold_recovery_test.csv')\n",
    "except:\n",
    "    test = pd.read_csv('/datasets/gold_recovery_test.csv')\n",
    "    \n",
    "try:\n",
    "    full = pd.read_csv('gold_recovery_full.csv')\n",
    "except:\n",
    "    full = pd.read_csv('/datasets/gold_recovery_full.csv')"
   ]
  },
  {
   "cell_type": "code",
   "execution_count": 3,
   "id": "18c2da12-4340-46c0-a95e-02c1ddb88198",
   "metadata": {},
   "outputs": [
    {
     "data": {
      "text/html": [
       "<div>\n",
       "<style scoped>\n",
       "    .dataframe tbody tr th:only-of-type {\n",
       "        vertical-align: middle;\n",
       "    }\n",
       "\n",
       "    .dataframe tbody tr th {\n",
       "        vertical-align: top;\n",
       "    }\n",
       "\n",
       "    .dataframe thead th {\n",
       "        text-align: right;\n",
       "    }\n",
       "</style>\n",
       "<table border=\"1\" class=\"dataframe\">\n",
       "  <thead>\n",
       "    <tr style=\"text-align: right;\">\n",
       "      <th></th>\n",
       "      <th>date</th>\n",
       "      <th>final.output.concentrate_ag</th>\n",
       "      <th>final.output.concentrate_pb</th>\n",
       "      <th>final.output.concentrate_sol</th>\n",
       "      <th>final.output.concentrate_au</th>\n",
       "      <th>final.output.recovery</th>\n",
       "      <th>final.output.tail_ag</th>\n",
       "      <th>final.output.tail_pb</th>\n",
       "      <th>final.output.tail_sol</th>\n",
       "      <th>final.output.tail_au</th>\n",
       "      <th>...</th>\n",
       "      <th>secondary_cleaner.state.floatbank4_a_air</th>\n",
       "      <th>secondary_cleaner.state.floatbank4_a_level</th>\n",
       "      <th>secondary_cleaner.state.floatbank4_b_air</th>\n",
       "      <th>secondary_cleaner.state.floatbank4_b_level</th>\n",
       "      <th>secondary_cleaner.state.floatbank5_a_air</th>\n",
       "      <th>secondary_cleaner.state.floatbank5_a_level</th>\n",
       "      <th>secondary_cleaner.state.floatbank5_b_air</th>\n",
       "      <th>secondary_cleaner.state.floatbank5_b_level</th>\n",
       "      <th>secondary_cleaner.state.floatbank6_a_air</th>\n",
       "      <th>secondary_cleaner.state.floatbank6_a_level</th>\n",
       "    </tr>\n",
       "  </thead>\n",
       "  <tbody>\n",
       "    <tr>\n",
       "      <th>0</th>\n",
       "      <td>2016-01-15 00:00:00</td>\n",
       "      <td>6.055403</td>\n",
       "      <td>9.889648</td>\n",
       "      <td>5.507324</td>\n",
       "      <td>42.192020</td>\n",
       "      <td>70.541216</td>\n",
       "      <td>10.411962</td>\n",
       "      <td>0.895447</td>\n",
       "      <td>16.904297</td>\n",
       "      <td>2.143149</td>\n",
       "      <td>...</td>\n",
       "      <td>14.016835</td>\n",
       "      <td>-502.488007</td>\n",
       "      <td>12.099931</td>\n",
       "      <td>-504.715942</td>\n",
       "      <td>9.925633</td>\n",
       "      <td>-498.310211</td>\n",
       "      <td>8.079666</td>\n",
       "      <td>-500.470978</td>\n",
       "      <td>14.151341</td>\n",
       "      <td>-605.841980</td>\n",
       "    </tr>\n",
       "    <tr>\n",
       "      <th>1</th>\n",
       "      <td>2016-01-15 01:00:00</td>\n",
       "      <td>6.029369</td>\n",
       "      <td>9.968944</td>\n",
       "      <td>5.257781</td>\n",
       "      <td>42.701629</td>\n",
       "      <td>69.266198</td>\n",
       "      <td>10.462676</td>\n",
       "      <td>0.927452</td>\n",
       "      <td>16.634514</td>\n",
       "      <td>2.224930</td>\n",
       "      <td>...</td>\n",
       "      <td>13.992281</td>\n",
       "      <td>-505.503262</td>\n",
       "      <td>11.950531</td>\n",
       "      <td>-501.331529</td>\n",
       "      <td>10.039245</td>\n",
       "      <td>-500.169983</td>\n",
       "      <td>7.984757</td>\n",
       "      <td>-500.582168</td>\n",
       "      <td>13.998353</td>\n",
       "      <td>-599.787184</td>\n",
       "    </tr>\n",
       "    <tr>\n",
       "      <th>2</th>\n",
       "      <td>2016-01-15 02:00:00</td>\n",
       "      <td>6.055926</td>\n",
       "      <td>10.213995</td>\n",
       "      <td>5.383759</td>\n",
       "      <td>42.657501</td>\n",
       "      <td>68.116445</td>\n",
       "      <td>10.507046</td>\n",
       "      <td>0.953716</td>\n",
       "      <td>16.208849</td>\n",
       "      <td>2.257889</td>\n",
       "      <td>...</td>\n",
       "      <td>14.015015</td>\n",
       "      <td>-502.520901</td>\n",
       "      <td>11.912783</td>\n",
       "      <td>-501.133383</td>\n",
       "      <td>10.070913</td>\n",
       "      <td>-500.129135</td>\n",
       "      <td>8.013877</td>\n",
       "      <td>-500.517572</td>\n",
       "      <td>14.028663</td>\n",
       "      <td>-601.427363</td>\n",
       "    </tr>\n",
       "    <tr>\n",
       "      <th>3</th>\n",
       "      <td>2016-01-15 03:00:00</td>\n",
       "      <td>6.047977</td>\n",
       "      <td>9.977019</td>\n",
       "      <td>4.858634</td>\n",
       "      <td>42.689819</td>\n",
       "      <td>68.347543</td>\n",
       "      <td>10.422762</td>\n",
       "      <td>0.883763</td>\n",
       "      <td>16.532835</td>\n",
       "      <td>2.146849</td>\n",
       "      <td>...</td>\n",
       "      <td>14.036510</td>\n",
       "      <td>-500.857308</td>\n",
       "      <td>11.999550</td>\n",
       "      <td>-501.193686</td>\n",
       "      <td>9.970366</td>\n",
       "      <td>-499.201640</td>\n",
       "      <td>7.977324</td>\n",
       "      <td>-500.255908</td>\n",
       "      <td>14.005551</td>\n",
       "      <td>-599.996129</td>\n",
       "    </tr>\n",
       "    <tr>\n",
       "      <th>4</th>\n",
       "      <td>2016-01-15 04:00:00</td>\n",
       "      <td>6.148599</td>\n",
       "      <td>10.142511</td>\n",
       "      <td>4.939416</td>\n",
       "      <td>42.774141</td>\n",
       "      <td>66.927016</td>\n",
       "      <td>10.360302</td>\n",
       "      <td>0.792826</td>\n",
       "      <td>16.525686</td>\n",
       "      <td>2.055292</td>\n",
       "      <td>...</td>\n",
       "      <td>14.027298</td>\n",
       "      <td>-499.838632</td>\n",
       "      <td>11.953070</td>\n",
       "      <td>-501.053894</td>\n",
       "      <td>9.925709</td>\n",
       "      <td>-501.686727</td>\n",
       "      <td>7.894242</td>\n",
       "      <td>-500.356035</td>\n",
       "      <td>13.996647</td>\n",
       "      <td>-601.496691</td>\n",
       "    </tr>\n",
       "  </tbody>\n",
       "</table>\n",
       "<p>5 rows × 87 columns</p>\n",
       "</div>"
      ],
      "text/plain": [
       "                  date  final.output.concentrate_ag  \\\n",
       "0  2016-01-15 00:00:00                     6.055403   \n",
       "1  2016-01-15 01:00:00                     6.029369   \n",
       "2  2016-01-15 02:00:00                     6.055926   \n",
       "3  2016-01-15 03:00:00                     6.047977   \n",
       "4  2016-01-15 04:00:00                     6.148599   \n",
       "\n",
       "   final.output.concentrate_pb  final.output.concentrate_sol  \\\n",
       "0                     9.889648                      5.507324   \n",
       "1                     9.968944                      5.257781   \n",
       "2                    10.213995                      5.383759   \n",
       "3                     9.977019                      4.858634   \n",
       "4                    10.142511                      4.939416   \n",
       "\n",
       "   final.output.concentrate_au  final.output.recovery  final.output.tail_ag  \\\n",
       "0                    42.192020              70.541216             10.411962   \n",
       "1                    42.701629              69.266198             10.462676   \n",
       "2                    42.657501              68.116445             10.507046   \n",
       "3                    42.689819              68.347543             10.422762   \n",
       "4                    42.774141              66.927016             10.360302   \n",
       "\n",
       "   final.output.tail_pb  final.output.tail_sol  final.output.tail_au  ...  \\\n",
       "0              0.895447              16.904297              2.143149  ...   \n",
       "1              0.927452              16.634514              2.224930  ...   \n",
       "2              0.953716              16.208849              2.257889  ...   \n",
       "3              0.883763              16.532835              2.146849  ...   \n",
       "4              0.792826              16.525686              2.055292  ...   \n",
       "\n",
       "   secondary_cleaner.state.floatbank4_a_air  \\\n",
       "0                                 14.016835   \n",
       "1                                 13.992281   \n",
       "2                                 14.015015   \n",
       "3                                 14.036510   \n",
       "4                                 14.027298   \n",
       "\n",
       "   secondary_cleaner.state.floatbank4_a_level  \\\n",
       "0                                 -502.488007   \n",
       "1                                 -505.503262   \n",
       "2                                 -502.520901   \n",
       "3                                 -500.857308   \n",
       "4                                 -499.838632   \n",
       "\n",
       "   secondary_cleaner.state.floatbank4_b_air  \\\n",
       "0                                 12.099931   \n",
       "1                                 11.950531   \n",
       "2                                 11.912783   \n",
       "3                                 11.999550   \n",
       "4                                 11.953070   \n",
       "\n",
       "   secondary_cleaner.state.floatbank4_b_level  \\\n",
       "0                                 -504.715942   \n",
       "1                                 -501.331529   \n",
       "2                                 -501.133383   \n",
       "3                                 -501.193686   \n",
       "4                                 -501.053894   \n",
       "\n",
       "   secondary_cleaner.state.floatbank5_a_air  \\\n",
       "0                                  9.925633   \n",
       "1                                 10.039245   \n",
       "2                                 10.070913   \n",
       "3                                  9.970366   \n",
       "4                                  9.925709   \n",
       "\n",
       "   secondary_cleaner.state.floatbank5_a_level  \\\n",
       "0                                 -498.310211   \n",
       "1                                 -500.169983   \n",
       "2                                 -500.129135   \n",
       "3                                 -499.201640   \n",
       "4                                 -501.686727   \n",
       "\n",
       "   secondary_cleaner.state.floatbank5_b_air  \\\n",
       "0                                  8.079666   \n",
       "1                                  7.984757   \n",
       "2                                  8.013877   \n",
       "3                                  7.977324   \n",
       "4                                  7.894242   \n",
       "\n",
       "   secondary_cleaner.state.floatbank5_b_level  \\\n",
       "0                                 -500.470978   \n",
       "1                                 -500.582168   \n",
       "2                                 -500.517572   \n",
       "3                                 -500.255908   \n",
       "4                                 -500.356035   \n",
       "\n",
       "   secondary_cleaner.state.floatbank6_a_air  \\\n",
       "0                                 14.151341   \n",
       "1                                 13.998353   \n",
       "2                                 14.028663   \n",
       "3                                 14.005551   \n",
       "4                                 13.996647   \n",
       "\n",
       "   secondary_cleaner.state.floatbank6_a_level  \n",
       "0                                 -605.841980  \n",
       "1                                 -599.787184  \n",
       "2                                 -601.427363  \n",
       "3                                 -599.996129  \n",
       "4                                 -601.496691  \n",
       "\n",
       "[5 rows x 87 columns]"
      ]
     },
     "execution_count": 3,
     "metadata": {},
     "output_type": "execute_result"
    }
   ],
   "source": [
    "train.head()"
   ]
  },
  {
   "cell_type": "code",
   "execution_count": 4,
   "id": "21d53d0f-97ea-437a-98fd-299fb4a3817c",
   "metadata": {},
   "outputs": [
    {
     "name": "stdout",
     "output_type": "stream",
     "text": [
      "<class 'pandas.core.frame.DataFrame'>\n",
      "RangeIndex: 16860 entries, 0 to 16859\n",
      "Data columns (total 87 columns):\n",
      " #   Column                                              Non-Null Count  Dtype  \n",
      "---  ------                                              --------------  -----  \n",
      " 0   date                                                16860 non-null  object \n",
      " 1   final.output.concentrate_ag                         16788 non-null  float64\n",
      " 2   final.output.concentrate_pb                         16788 non-null  float64\n",
      " 3   final.output.concentrate_sol                        16490 non-null  float64\n",
      " 4   final.output.concentrate_au                         16789 non-null  float64\n",
      " 5   final.output.recovery                               15339 non-null  float64\n",
      " 6   final.output.tail_ag                                16794 non-null  float64\n",
      " 7   final.output.tail_pb                                16677 non-null  float64\n",
      " 8   final.output.tail_sol                               16715 non-null  float64\n",
      " 9   final.output.tail_au                                16794 non-null  float64\n",
      " 10  primary_cleaner.input.sulfate                       15553 non-null  float64\n",
      " 11  primary_cleaner.input.depressant                    15598 non-null  float64\n",
      " 12  primary_cleaner.input.feed_size                     16860 non-null  float64\n",
      " 13  primary_cleaner.input.xanthate                      15875 non-null  float64\n",
      " 14  primary_cleaner.output.concentrate_ag               16778 non-null  float64\n",
      " 15  primary_cleaner.output.concentrate_pb               16502 non-null  float64\n",
      " 16  primary_cleaner.output.concentrate_sol              16224 non-null  float64\n",
      " 17  primary_cleaner.output.concentrate_au               16778 non-null  float64\n",
      " 18  primary_cleaner.output.tail_ag                      16777 non-null  float64\n",
      " 19  primary_cleaner.output.tail_pb                      16761 non-null  float64\n",
      " 20  primary_cleaner.output.tail_sol                     16579 non-null  float64\n",
      " 21  primary_cleaner.output.tail_au                      16777 non-null  float64\n",
      " 22  primary_cleaner.state.floatbank8_a_air              16820 non-null  float64\n",
      " 23  primary_cleaner.state.floatbank8_a_level            16827 non-null  float64\n",
      " 24  primary_cleaner.state.floatbank8_b_air              16820 non-null  float64\n",
      " 25  primary_cleaner.state.floatbank8_b_level            16833 non-null  float64\n",
      " 26  primary_cleaner.state.floatbank8_c_air              16822 non-null  float64\n",
      " 27  primary_cleaner.state.floatbank8_c_level            16833 non-null  float64\n",
      " 28  primary_cleaner.state.floatbank8_d_air              16821 non-null  float64\n",
      " 29  primary_cleaner.state.floatbank8_d_level            16833 non-null  float64\n",
      " 30  rougher.calculation.sulfate_to_au_concentrate       16833 non-null  float64\n",
      " 31  rougher.calculation.floatbank10_sulfate_to_au_feed  16833 non-null  float64\n",
      " 32  rougher.calculation.floatbank11_sulfate_to_au_feed  16833 non-null  float64\n",
      " 33  rougher.calculation.au_pb_ratio                     15618 non-null  float64\n",
      " 34  rougher.input.feed_ag                               16778 non-null  float64\n",
      " 35  rougher.input.feed_pb                               16632 non-null  float64\n",
      " 36  rougher.input.feed_rate                             16347 non-null  float64\n",
      " 37  rougher.input.feed_size                             16443 non-null  float64\n",
      " 38  rougher.input.feed_sol                              16568 non-null  float64\n",
      " 39  rougher.input.feed_au                               16777 non-null  float64\n",
      " 40  rougher.input.floatbank10_sulfate                   15816 non-null  float64\n",
      " 41  rougher.input.floatbank10_xanthate                  16514 non-null  float64\n",
      " 42  rougher.input.floatbank11_sulfate                   16237 non-null  float64\n",
      " 43  rougher.input.floatbank11_xanthate                  14956 non-null  float64\n",
      " 44  rougher.output.concentrate_ag                       16778 non-null  float64\n",
      " 45  rougher.output.concentrate_pb                       16778 non-null  float64\n",
      " 46  rougher.output.concentrate_sol                      16698 non-null  float64\n",
      " 47  rougher.output.concentrate_au                       16778 non-null  float64\n",
      " 48  rougher.output.recovery                             14287 non-null  float64\n",
      " 49  rougher.output.tail_ag                              14610 non-null  float64\n",
      " 50  rougher.output.tail_pb                              16778 non-null  float64\n",
      " 51  rougher.output.tail_sol                             14611 non-null  float64\n",
      " 52  rougher.output.tail_au                              14611 non-null  float64\n",
      " 53  rougher.state.floatbank10_a_air                     16807 non-null  float64\n",
      " 54  rougher.state.floatbank10_a_level                   16807 non-null  float64\n",
      " 55  rougher.state.floatbank10_b_air                     16807 non-null  float64\n",
      " 56  rougher.state.floatbank10_b_level                   16807 non-null  float64\n",
      " 57  rougher.state.floatbank10_c_air                     16807 non-null  float64\n",
      " 58  rougher.state.floatbank10_c_level                   16814 non-null  float64\n",
      " 59  rougher.state.floatbank10_d_air                     16802 non-null  float64\n",
      " 60  rougher.state.floatbank10_d_level                   16809 non-null  float64\n",
      " 61  rougher.state.floatbank10_e_air                     16257 non-null  float64\n",
      " 62  rougher.state.floatbank10_e_level                   16809 non-null  float64\n",
      " 63  rougher.state.floatbank10_f_air                     16802 non-null  float64\n",
      " 64  rougher.state.floatbank10_f_level                   16802 non-null  float64\n",
      " 65  secondary_cleaner.output.tail_ag                    16776 non-null  float64\n",
      " 66  secondary_cleaner.output.tail_pb                    16764 non-null  float64\n",
      " 67  secondary_cleaner.output.tail_sol                   14874 non-null  float64\n",
      " 68  secondary_cleaner.output.tail_au                    16778 non-null  float64\n",
      " 69  secondary_cleaner.state.floatbank2_a_air            16497 non-null  float64\n",
      " 70  secondary_cleaner.state.floatbank2_a_level          16751 non-null  float64\n",
      " 71  secondary_cleaner.state.floatbank2_b_air            16705 non-null  float64\n",
      " 72  secondary_cleaner.state.floatbank2_b_level          16748 non-null  float64\n",
      " 73  secondary_cleaner.state.floatbank3_a_air            16763 non-null  float64\n",
      " 74  secondary_cleaner.state.floatbank3_a_level          16747 non-null  float64\n",
      " 75  secondary_cleaner.state.floatbank3_b_air            16752 non-null  float64\n",
      " 76  secondary_cleaner.state.floatbank3_b_level          16750 non-null  float64\n",
      " 77  secondary_cleaner.state.floatbank4_a_air            16731 non-null  float64\n",
      " 78  secondary_cleaner.state.floatbank4_a_level          16747 non-null  float64\n",
      " 79  secondary_cleaner.state.floatbank4_b_air            16768 non-null  float64\n",
      " 80  secondary_cleaner.state.floatbank4_b_level          16767 non-null  float64\n",
      " 81  secondary_cleaner.state.floatbank5_a_air            16775 non-null  float64\n",
      " 82  secondary_cleaner.state.floatbank5_a_level          16775 non-null  float64\n",
      " 83  secondary_cleaner.state.floatbank5_b_air            16775 non-null  float64\n",
      " 84  secondary_cleaner.state.floatbank5_b_level          16776 non-null  float64\n",
      " 85  secondary_cleaner.state.floatbank6_a_air            16757 non-null  float64\n",
      " 86  secondary_cleaner.state.floatbank6_a_level          16775 non-null  float64\n",
      "dtypes: float64(86), object(1)\n",
      "memory usage: 11.2+ MB\n"
     ]
    }
   ],
   "source": [
    "train.info()"
   ]
  },
  {
   "cell_type": "code",
   "execution_count": 5,
   "id": "0e991b44-d593-451d-a2e8-6d39b677882a",
   "metadata": {},
   "outputs": [
    {
     "name": "stdout",
     "output_type": "stream",
     "text": [
      "<class 'pandas.core.frame.DataFrame'>\n",
      "RangeIndex: 5856 entries, 0 to 5855\n",
      "Data columns (total 53 columns):\n",
      " #   Column                                      Non-Null Count  Dtype  \n",
      "---  ------                                      --------------  -----  \n",
      " 0   date                                        5856 non-null   object \n",
      " 1   primary_cleaner.input.sulfate               5554 non-null   float64\n",
      " 2   primary_cleaner.input.depressant            5572 non-null   float64\n",
      " 3   primary_cleaner.input.feed_size             5856 non-null   float64\n",
      " 4   primary_cleaner.input.xanthate              5690 non-null   float64\n",
      " 5   primary_cleaner.state.floatbank8_a_air      5840 non-null   float64\n",
      " 6   primary_cleaner.state.floatbank8_a_level    5840 non-null   float64\n",
      " 7   primary_cleaner.state.floatbank8_b_air      5840 non-null   float64\n",
      " 8   primary_cleaner.state.floatbank8_b_level    5840 non-null   float64\n",
      " 9   primary_cleaner.state.floatbank8_c_air      5840 non-null   float64\n",
      " 10  primary_cleaner.state.floatbank8_c_level    5840 non-null   float64\n",
      " 11  primary_cleaner.state.floatbank8_d_air      5840 non-null   float64\n",
      " 12  primary_cleaner.state.floatbank8_d_level    5840 non-null   float64\n",
      " 13  rougher.input.feed_ag                       5840 non-null   float64\n",
      " 14  rougher.input.feed_pb                       5840 non-null   float64\n",
      " 15  rougher.input.feed_rate                     5816 non-null   float64\n",
      " 16  rougher.input.feed_size                     5834 non-null   float64\n",
      " 17  rougher.input.feed_sol                      5789 non-null   float64\n",
      " 18  rougher.input.feed_au                       5840 non-null   float64\n",
      " 19  rougher.input.floatbank10_sulfate           5599 non-null   float64\n",
      " 20  rougher.input.floatbank10_xanthate          5733 non-null   float64\n",
      " 21  rougher.input.floatbank11_sulfate           5801 non-null   float64\n",
      " 22  rougher.input.floatbank11_xanthate          5503 non-null   float64\n",
      " 23  rougher.state.floatbank10_a_air             5839 non-null   float64\n",
      " 24  rougher.state.floatbank10_a_level           5840 non-null   float64\n",
      " 25  rougher.state.floatbank10_b_air             5839 non-null   float64\n",
      " 26  rougher.state.floatbank10_b_level           5840 non-null   float64\n",
      " 27  rougher.state.floatbank10_c_air             5839 non-null   float64\n",
      " 28  rougher.state.floatbank10_c_level           5840 non-null   float64\n",
      " 29  rougher.state.floatbank10_d_air             5839 non-null   float64\n",
      " 30  rougher.state.floatbank10_d_level           5840 non-null   float64\n",
      " 31  rougher.state.floatbank10_e_air             5839 non-null   float64\n",
      " 32  rougher.state.floatbank10_e_level           5840 non-null   float64\n",
      " 33  rougher.state.floatbank10_f_air             5839 non-null   float64\n",
      " 34  rougher.state.floatbank10_f_level           5840 non-null   float64\n",
      " 35  secondary_cleaner.state.floatbank2_a_air    5836 non-null   float64\n",
      " 36  secondary_cleaner.state.floatbank2_a_level  5840 non-null   float64\n",
      " 37  secondary_cleaner.state.floatbank2_b_air    5833 non-null   float64\n",
      " 38  secondary_cleaner.state.floatbank2_b_level  5840 non-null   float64\n",
      " 39  secondary_cleaner.state.floatbank3_a_air    5822 non-null   float64\n",
      " 40  secondary_cleaner.state.floatbank3_a_level  5840 non-null   float64\n",
      " 41  secondary_cleaner.state.floatbank3_b_air    5840 non-null   float64\n",
      " 42  secondary_cleaner.state.floatbank3_b_level  5840 non-null   float64\n",
      " 43  secondary_cleaner.state.floatbank4_a_air    5840 non-null   float64\n",
      " 44  secondary_cleaner.state.floatbank4_a_level  5840 non-null   float64\n",
      " 45  secondary_cleaner.state.floatbank4_b_air    5840 non-null   float64\n",
      " 46  secondary_cleaner.state.floatbank4_b_level  5840 non-null   float64\n",
      " 47  secondary_cleaner.state.floatbank5_a_air    5840 non-null   float64\n",
      " 48  secondary_cleaner.state.floatbank5_a_level  5840 non-null   float64\n",
      " 49  secondary_cleaner.state.floatbank5_b_air    5840 non-null   float64\n",
      " 50  secondary_cleaner.state.floatbank5_b_level  5840 non-null   float64\n",
      " 51  secondary_cleaner.state.floatbank6_a_air    5840 non-null   float64\n",
      " 52  secondary_cleaner.state.floatbank6_a_level  5840 non-null   float64\n",
      "dtypes: float64(52), object(1)\n",
      "memory usage: 2.4+ MB\n"
     ]
    }
   ],
   "source": [
    "test.info()"
   ]
  },
  {
   "cell_type": "code",
   "execution_count": 6,
   "id": "8b7c71d9-610a-476d-9052-827d9ef734ea",
   "metadata": {},
   "outputs": [
    {
     "name": "stdout",
     "output_type": "stream",
     "text": [
      "<class 'pandas.core.frame.DataFrame'>\n",
      "RangeIndex: 22716 entries, 0 to 22715\n",
      "Data columns (total 87 columns):\n",
      " #   Column                                              Non-Null Count  Dtype  \n",
      "---  ------                                              --------------  -----  \n",
      " 0   date                                                22716 non-null  object \n",
      " 1   final.output.concentrate_ag                         22627 non-null  float64\n",
      " 2   final.output.concentrate_pb                         22629 non-null  float64\n",
      " 3   final.output.concentrate_sol                        22331 non-null  float64\n",
      " 4   final.output.concentrate_au                         22630 non-null  float64\n",
      " 5   final.output.recovery                               20753 non-null  float64\n",
      " 6   final.output.tail_ag                                22633 non-null  float64\n",
      " 7   final.output.tail_pb                                22516 non-null  float64\n",
      " 8   final.output.tail_sol                               22445 non-null  float64\n",
      " 9   final.output.tail_au                                22635 non-null  float64\n",
      " 10  primary_cleaner.input.sulfate                       21107 non-null  float64\n",
      " 11  primary_cleaner.input.depressant                    21170 non-null  float64\n",
      " 12  primary_cleaner.input.feed_size                     22716 non-null  float64\n",
      " 13  primary_cleaner.input.xanthate                      21565 non-null  float64\n",
      " 14  primary_cleaner.output.concentrate_ag               22618 non-null  float64\n",
      " 15  primary_cleaner.output.concentrate_pb               22268 non-null  float64\n",
      " 16  primary_cleaner.output.concentrate_sol              21918 non-null  float64\n",
      " 17  primary_cleaner.output.concentrate_au               22618 non-null  float64\n",
      " 18  primary_cleaner.output.tail_ag                      22614 non-null  float64\n",
      " 19  primary_cleaner.output.tail_pb                      22594 non-null  float64\n",
      " 20  primary_cleaner.output.tail_sol                     22365 non-null  float64\n",
      " 21  primary_cleaner.output.tail_au                      22617 non-null  float64\n",
      " 22  primary_cleaner.state.floatbank8_a_air              22660 non-null  float64\n",
      " 23  primary_cleaner.state.floatbank8_a_level            22667 non-null  float64\n",
      " 24  primary_cleaner.state.floatbank8_b_air              22660 non-null  float64\n",
      " 25  primary_cleaner.state.floatbank8_b_level            22673 non-null  float64\n",
      " 26  primary_cleaner.state.floatbank8_c_air              22662 non-null  float64\n",
      " 27  primary_cleaner.state.floatbank8_c_level            22673 non-null  float64\n",
      " 28  primary_cleaner.state.floatbank8_d_air              22661 non-null  float64\n",
      " 29  primary_cleaner.state.floatbank8_d_level            22673 non-null  float64\n",
      " 30  rougher.calculation.sulfate_to_au_concentrate       22672 non-null  float64\n",
      " 31  rougher.calculation.floatbank10_sulfate_to_au_feed  22672 non-null  float64\n",
      " 32  rougher.calculation.floatbank11_sulfate_to_au_feed  22672 non-null  float64\n",
      " 33  rougher.calculation.au_pb_ratio                     21089 non-null  float64\n",
      " 34  rougher.input.feed_ag                               22618 non-null  float64\n",
      " 35  rougher.input.feed_pb                               22472 non-null  float64\n",
      " 36  rougher.input.feed_rate                             22163 non-null  float64\n",
      " 37  rougher.input.feed_size                             22277 non-null  float64\n",
      " 38  rougher.input.feed_sol                              22357 non-null  float64\n",
      " 39  rougher.input.feed_au                               22617 non-null  float64\n",
      " 40  rougher.input.floatbank10_sulfate                   21415 non-null  float64\n",
      " 41  rougher.input.floatbank10_xanthate                  22247 non-null  float64\n",
      " 42  rougher.input.floatbank11_sulfate                   22038 non-null  float64\n",
      " 43  rougher.input.floatbank11_xanthate                  20459 non-null  float64\n",
      " 44  rougher.output.concentrate_ag                       22618 non-null  float64\n",
      " 45  rougher.output.concentrate_pb                       22618 non-null  float64\n",
      " 46  rougher.output.concentrate_sol                      22526 non-null  float64\n",
      " 47  rougher.output.concentrate_au                       22618 non-null  float64\n",
      " 48  rougher.output.recovery                             19597 non-null  float64\n",
      " 49  rougher.output.tail_ag                              19979 non-null  float64\n",
      " 50  rougher.output.tail_pb                              22618 non-null  float64\n",
      " 51  rougher.output.tail_sol                             19980 non-null  float64\n",
      " 52  rougher.output.tail_au                              19980 non-null  float64\n",
      " 53  rougher.state.floatbank10_a_air                     22646 non-null  float64\n",
      " 54  rougher.state.floatbank10_a_level                   22647 non-null  float64\n",
      " 55  rougher.state.floatbank10_b_air                     22646 non-null  float64\n",
      " 56  rougher.state.floatbank10_b_level                   22647 non-null  float64\n",
      " 57  rougher.state.floatbank10_c_air                     22646 non-null  float64\n",
      " 58  rougher.state.floatbank10_c_level                   22654 non-null  float64\n",
      " 59  rougher.state.floatbank10_d_air                     22641 non-null  float64\n",
      " 60  rougher.state.floatbank10_d_level                   22649 non-null  float64\n",
      " 61  rougher.state.floatbank10_e_air                     22096 non-null  float64\n",
      " 62  rougher.state.floatbank10_e_level                   22649 non-null  float64\n",
      " 63  rougher.state.floatbank10_f_air                     22641 non-null  float64\n",
      " 64  rougher.state.floatbank10_f_level                   22642 non-null  float64\n",
      " 65  secondary_cleaner.output.tail_ag                    22616 non-null  float64\n",
      " 66  secondary_cleaner.output.tail_pb                    22600 non-null  float64\n",
      " 67  secondary_cleaner.output.tail_sol                   20501 non-null  float64\n",
      " 68  secondary_cleaner.output.tail_au                    22618 non-null  float64\n",
      " 69  secondary_cleaner.state.floatbank2_a_air            22333 non-null  float64\n",
      " 70  secondary_cleaner.state.floatbank2_a_level          22591 non-null  float64\n",
      " 71  secondary_cleaner.state.floatbank2_b_air            22538 non-null  float64\n",
      " 72  secondary_cleaner.state.floatbank2_b_level          22588 non-null  float64\n",
      " 73  secondary_cleaner.state.floatbank3_a_air            22585 non-null  float64\n",
      " 74  secondary_cleaner.state.floatbank3_a_level          22587 non-null  float64\n",
      " 75  secondary_cleaner.state.floatbank3_b_air            22592 non-null  float64\n",
      " 76  secondary_cleaner.state.floatbank3_b_level          22590 non-null  float64\n",
      " 77  secondary_cleaner.state.floatbank4_a_air            22571 non-null  float64\n",
      " 78  secondary_cleaner.state.floatbank4_a_level          22587 non-null  float64\n",
      " 79  secondary_cleaner.state.floatbank4_b_air            22608 non-null  float64\n",
      " 80  secondary_cleaner.state.floatbank4_b_level          22607 non-null  float64\n",
      " 81  secondary_cleaner.state.floatbank5_a_air            22615 non-null  float64\n",
      " 82  secondary_cleaner.state.floatbank5_a_level          22615 non-null  float64\n",
      " 83  secondary_cleaner.state.floatbank5_b_air            22615 non-null  float64\n",
      " 84  secondary_cleaner.state.floatbank5_b_level          22616 non-null  float64\n",
      " 85  secondary_cleaner.state.floatbank6_a_air            22597 non-null  float64\n",
      " 86  secondary_cleaner.state.floatbank6_a_level          22615 non-null  float64\n",
      "dtypes: float64(86), object(1)\n",
      "memory usage: 15.1+ MB\n"
     ]
    }
   ],
   "source": [
    "full.info()"
   ]
  },
  {
   "cell_type": "markdown",
   "id": "9d9b650a-4f97-40ff-b112-462cb561ccee",
   "metadata": {},
   "source": [
    "I observe that the full and training datasets contain 87 columns while the test set contains only 53"
   ]
  },
  {
   "cell_type": "code",
   "execution_count": 7,
   "id": "d340e9ec-8554-44c5-80e1-a920f3349239",
   "metadata": {},
   "outputs": [
    {
     "data": {
      "text/html": [
       "<div>\n",
       "<style scoped>\n",
       "    .dataframe tbody tr th:only-of-type {\n",
       "        vertical-align: middle;\n",
       "    }\n",
       "\n",
       "    .dataframe tbody tr th {\n",
       "        vertical-align: top;\n",
       "    }\n",
       "\n",
       "    .dataframe thead th {\n",
       "        text-align: right;\n",
       "    }\n",
       "</style>\n",
       "<table border=\"1\" class=\"dataframe\">\n",
       "  <thead>\n",
       "    <tr style=\"text-align: right;\">\n",
       "      <th></th>\n",
       "      <th>date</th>\n",
       "      <th>final.output.concentrate_ag</th>\n",
       "      <th>final.output.concentrate_pb</th>\n",
       "      <th>final.output.concentrate_sol</th>\n",
       "      <th>final.output.concentrate_au</th>\n",
       "      <th>final.output.recovery</th>\n",
       "      <th>final.output.tail_ag</th>\n",
       "      <th>final.output.tail_pb</th>\n",
       "      <th>final.output.tail_sol</th>\n",
       "      <th>final.output.tail_au</th>\n",
       "      <th>...</th>\n",
       "      <th>secondary_cleaner.state.floatbank4_a_air</th>\n",
       "      <th>secondary_cleaner.state.floatbank4_a_level</th>\n",
       "      <th>secondary_cleaner.state.floatbank4_b_air</th>\n",
       "      <th>secondary_cleaner.state.floatbank4_b_level</th>\n",
       "      <th>secondary_cleaner.state.floatbank5_a_air</th>\n",
       "      <th>secondary_cleaner.state.floatbank5_a_level</th>\n",
       "      <th>secondary_cleaner.state.floatbank5_b_air</th>\n",
       "      <th>secondary_cleaner.state.floatbank5_b_level</th>\n",
       "      <th>secondary_cleaner.state.floatbank6_a_air</th>\n",
       "      <th>secondary_cleaner.state.floatbank6_a_level</th>\n",
       "    </tr>\n",
       "  </thead>\n",
       "  <tbody>\n",
       "    <tr>\n",
       "      <th>0</th>\n",
       "      <td>2016-01-15 00:00:00</td>\n",
       "      <td>6.055403</td>\n",
       "      <td>9.889648</td>\n",
       "      <td>5.507324</td>\n",
       "      <td>42.192020</td>\n",
       "      <td>70.541216</td>\n",
       "      <td>10.411962</td>\n",
       "      <td>0.895447</td>\n",
       "      <td>16.904297</td>\n",
       "      <td>2.143149</td>\n",
       "      <td>...</td>\n",
       "      <td>14.016835</td>\n",
       "      <td>-502.488007</td>\n",
       "      <td>12.099931</td>\n",
       "      <td>-504.715942</td>\n",
       "      <td>9.925633</td>\n",
       "      <td>-498.310211</td>\n",
       "      <td>8.079666</td>\n",
       "      <td>-500.470978</td>\n",
       "      <td>14.151341</td>\n",
       "      <td>-605.841980</td>\n",
       "    </tr>\n",
       "    <tr>\n",
       "      <th>1</th>\n",
       "      <td>2016-01-15 01:00:00</td>\n",
       "      <td>6.029369</td>\n",
       "      <td>9.968944</td>\n",
       "      <td>5.257781</td>\n",
       "      <td>42.701629</td>\n",
       "      <td>69.266198</td>\n",
       "      <td>10.462676</td>\n",
       "      <td>0.927452</td>\n",
       "      <td>16.634514</td>\n",
       "      <td>2.224930</td>\n",
       "      <td>...</td>\n",
       "      <td>13.992281</td>\n",
       "      <td>-505.503262</td>\n",
       "      <td>11.950531</td>\n",
       "      <td>-501.331529</td>\n",
       "      <td>10.039245</td>\n",
       "      <td>-500.169983</td>\n",
       "      <td>7.984757</td>\n",
       "      <td>-500.582168</td>\n",
       "      <td>13.998353</td>\n",
       "      <td>-599.787184</td>\n",
       "    </tr>\n",
       "  </tbody>\n",
       "</table>\n",
       "<p>2 rows × 87 columns</p>\n",
       "</div>"
      ],
      "text/plain": [
       "                  date  final.output.concentrate_ag  \\\n",
       "0  2016-01-15 00:00:00                     6.055403   \n",
       "1  2016-01-15 01:00:00                     6.029369   \n",
       "\n",
       "   final.output.concentrate_pb  final.output.concentrate_sol  \\\n",
       "0                     9.889648                      5.507324   \n",
       "1                     9.968944                      5.257781   \n",
       "\n",
       "   final.output.concentrate_au  final.output.recovery  final.output.tail_ag  \\\n",
       "0                    42.192020              70.541216             10.411962   \n",
       "1                    42.701629              69.266198             10.462676   \n",
       "\n",
       "   final.output.tail_pb  final.output.tail_sol  final.output.tail_au  ...  \\\n",
       "0              0.895447              16.904297              2.143149  ...   \n",
       "1              0.927452              16.634514              2.224930  ...   \n",
       "\n",
       "   secondary_cleaner.state.floatbank4_a_air  \\\n",
       "0                                 14.016835   \n",
       "1                                 13.992281   \n",
       "\n",
       "   secondary_cleaner.state.floatbank4_a_level  \\\n",
       "0                                 -502.488007   \n",
       "1                                 -505.503262   \n",
       "\n",
       "   secondary_cleaner.state.floatbank4_b_air  \\\n",
       "0                                 12.099931   \n",
       "1                                 11.950531   \n",
       "\n",
       "   secondary_cleaner.state.floatbank4_b_level  \\\n",
       "0                                 -504.715942   \n",
       "1                                 -501.331529   \n",
       "\n",
       "   secondary_cleaner.state.floatbank5_a_air  \\\n",
       "0                                  9.925633   \n",
       "1                                 10.039245   \n",
       "\n",
       "   secondary_cleaner.state.floatbank5_a_level  \\\n",
       "0                                 -498.310211   \n",
       "1                                 -500.169983   \n",
       "\n",
       "   secondary_cleaner.state.floatbank5_b_air  \\\n",
       "0                                  8.079666   \n",
       "1                                  7.984757   \n",
       "\n",
       "   secondary_cleaner.state.floatbank5_b_level  \\\n",
       "0                                 -500.470978   \n",
       "1                                 -500.582168   \n",
       "\n",
       "   secondary_cleaner.state.floatbank6_a_air  \\\n",
       "0                                 14.151341   \n",
       "1                                 13.998353   \n",
       "\n",
       "   secondary_cleaner.state.floatbank6_a_level  \n",
       "0                                 -605.841980  \n",
       "1                                 -599.787184  \n",
       "\n",
       "[2 rows x 87 columns]"
      ]
     },
     "execution_count": 7,
     "metadata": {},
     "output_type": "execute_result"
    }
   ],
   "source": [
    "full.head(2)"
   ]
  },
  {
   "cell_type": "markdown",
   "id": "d81a977a-5cf7-4473-8972-17d3181739b7",
   "metadata": {},
   "source": [
    "## Verify recovery"
   ]
  },
  {
   "cell_type": "markdown",
   "id": "eb36d8ec-1b3f-4e34-95bb-5de108b3b4ad",
   "metadata": {},
   "source": [
    "$ (1)\\ recovery = {C*(F-T) \\over F*(C-T)} * 100\\% $"
   ]
  },
  {
   "cell_type": "code",
   "execution_count": 8,
   "id": "39b32172-2612-4da1-aeb2-af3f69da497d",
   "metadata": {},
   "outputs": [],
   "source": [
    "def calc_recov(C, F, T):\n",
    "    \n",
    "    \"\"\"\n",
    "    This function calculates gold recovery.\n",
    "    \n",
    "    To calculate rougher recovery, this function takes three series as inputs:\n",
    "    - C = rougher.output.concentrate_au\n",
    "    - F = rougher.input.feed_au\n",
    "    - T = rougher.output.tail_au\n",
    "        and returns the percentage recovery of gold concentrate after the roughing stage.\n",
    "    \n",
    "    To calculate final recovery, this function takes three measurements as inputs:\n",
    "    - C = final.output.concentrate_au\n",
    "    - F = rougher.output.concentrate_au\n",
    "    - T = final.tail_au\n",
    "        and returns the percentage recovery of gold concentrate after the final purification stage.\n",
    "    \"\"\"\n",
    "    \n",
    "    recovery = (C*(F-T)) / (F*(C-T)) * 100\n",
    "    \n",
    "    return recovery"
   ]
  },
  {
   "cell_type": "markdown",
   "id": "4aea8036-c1a4-4197-9462-dcab32a1240f",
   "metadata": {},
   "source": [
    "I want to calculate recovery for a row in the full dataset using my function to ensure that it works correctly, and that the values make sense."
   ]
  },
  {
   "cell_type": "code",
   "execution_count": 9,
   "id": "d65b7121-7d70-41e4-b829-88d9b336e772",
   "metadata": {},
   "outputs": [],
   "source": [
    "# I need to drop nans before I can calculate mean absolute error, I'd rather make a df copy for now\n",
    "train_cut = train.dropna(subset=['rougher.output.recovery', 'rougher.output.concentrate_au', 'rougher.input.feed_au', \\\n",
    "                                 'rougher.output.tail_au']) "
   ]
  },
  {
   "cell_type": "code",
   "execution_count": 10,
   "id": "db0b3cc0-66ab-4909-82b7-3bca227e7ee9",
   "metadata": {},
   "outputs": [
    {
     "data": {
      "text/plain": [
       "9.303415616264301e-15"
      ]
     },
     "execution_count": 10,
     "metadata": {},
     "output_type": "execute_result"
    }
   ],
   "source": [
    "recov = train_cut['rougher.output.recovery']\n",
    "pred_recov = calc_recov(train_cut['rougher.output.concentrate_au'], train_cut['rougher.input.feed_au'], train_cut['rougher.output.tail_au'])\n",
    "mean_absolute_error(recov, pred_recov)"
   ]
  },
  {
   "cell_type": "markdown",
   "id": "84a792e6-78de-4d38-b413-46b1119e92fd",
   "metadata": {},
   "source": [
    "Our recovery equation matches the recovery measurements exactly."
   ]
  },
  {
   "cell_type": "markdown",
   "id": "374563e2-bc1b-44af-9833-e6412c26c7ed",
   "metadata": {},
   "source": [
    "## Compare test set and training set"
   ]
  },
  {
   "cell_type": "markdown",
   "id": "632abfeb-31a8-41b9-9c10-c362041189ba",
   "metadata": {},
   "source": [
    "Let's check out the differences in columns between the training set and test set. The training set has more columns, so we should look at the columns that the test set is lacking."
   ]
  },
  {
   "cell_type": "code",
   "execution_count": 11,
   "id": "43e287eb-7401-4cb3-907a-6ecb09337c88",
   "metadata": {},
   "outputs": [],
   "source": [
    "test_columns = test.columns"
   ]
  },
  {
   "cell_type": "code",
   "execution_count": 12,
   "id": "6a9d5fd3-e584-4177-8deb-c4c9f89fd710",
   "metadata": {},
   "outputs": [
    {
     "name": "stdout",
     "output_type": "stream",
     "text": [
      "<class 'pandas.core.frame.DataFrame'>\n",
      "RangeIndex: 16860 entries, 0 to 16859\n",
      "Data columns (total 34 columns):\n",
      " #   Column                                              Non-Null Count  Dtype  \n",
      "---  ------                                              --------------  -----  \n",
      " 0   final.output.concentrate_ag                         16788 non-null  float64\n",
      " 1   final.output.concentrate_pb                         16788 non-null  float64\n",
      " 2   final.output.concentrate_sol                        16490 non-null  float64\n",
      " 3   final.output.concentrate_au                         16789 non-null  float64\n",
      " 4   final.output.recovery                               15339 non-null  float64\n",
      " 5   final.output.tail_ag                                16794 non-null  float64\n",
      " 6   final.output.tail_pb                                16677 non-null  float64\n",
      " 7   final.output.tail_sol                               16715 non-null  float64\n",
      " 8   final.output.tail_au                                16794 non-null  float64\n",
      " 9   primary_cleaner.output.concentrate_ag               16778 non-null  float64\n",
      " 10  primary_cleaner.output.concentrate_pb               16502 non-null  float64\n",
      " 11  primary_cleaner.output.concentrate_sol              16224 non-null  float64\n",
      " 12  primary_cleaner.output.concentrate_au               16778 non-null  float64\n",
      " 13  primary_cleaner.output.tail_ag                      16777 non-null  float64\n",
      " 14  primary_cleaner.output.tail_pb                      16761 non-null  float64\n",
      " 15  primary_cleaner.output.tail_sol                     16579 non-null  float64\n",
      " 16  primary_cleaner.output.tail_au                      16777 non-null  float64\n",
      " 17  rougher.calculation.sulfate_to_au_concentrate       16833 non-null  float64\n",
      " 18  rougher.calculation.floatbank10_sulfate_to_au_feed  16833 non-null  float64\n",
      " 19  rougher.calculation.floatbank11_sulfate_to_au_feed  16833 non-null  float64\n",
      " 20  rougher.calculation.au_pb_ratio                     15618 non-null  float64\n",
      " 21  rougher.output.concentrate_ag                       16778 non-null  float64\n",
      " 22  rougher.output.concentrate_pb                       16778 non-null  float64\n",
      " 23  rougher.output.concentrate_sol                      16698 non-null  float64\n",
      " 24  rougher.output.concentrate_au                       16778 non-null  float64\n",
      " 25  rougher.output.recovery                             14287 non-null  float64\n",
      " 26  rougher.output.tail_ag                              14610 non-null  float64\n",
      " 27  rougher.output.tail_pb                              16778 non-null  float64\n",
      " 28  rougher.output.tail_sol                             14611 non-null  float64\n",
      " 29  rougher.output.tail_au                              14611 non-null  float64\n",
      " 30  secondary_cleaner.output.tail_ag                    16776 non-null  float64\n",
      " 31  secondary_cleaner.output.tail_pb                    16764 non-null  float64\n",
      " 32  secondary_cleaner.output.tail_sol                   14874 non-null  float64\n",
      " 33  secondary_cleaner.output.tail_au                    16778 non-null  float64\n",
      "dtypes: float64(34)\n",
      "memory usage: 4.4 MB\n"
     ]
    }
   ],
   "source": [
    "drop_columns = train.drop(test_columns, axis=1)\n",
    "drop_columns.info()"
   ]
  },
  {
   "cell_type": "markdown",
   "id": "b251336a-e49a-405e-9d8e-a673681f1000",
   "metadata": {},
   "source": [
    "Looks like the values missing from the test set are all outputs and calculations, which is data that would not be available at the start of extraction. This set mimics the data that Zyfra would have at the time of real-world prediction. From this list, we should choose which data we would like to predict."
   ]
  },
  {
   "cell_type": "markdown",
   "id": "76533089-dede-4c97-9d56-f4910e9c892c",
   "metadata": {
    "tags": [],
    "toc-hr-collapsed": true
   },
   "source": [
    "## Preprocess datasets"
   ]
  },
  {
   "cell_type": "markdown",
   "id": "996fb46c-5b54-4195-b2f6-d74909e4e398",
   "metadata": {},
   "source": [
    "### Training set"
   ]
  },
  {
   "cell_type": "markdown",
   "id": "2e99e328-60c9-4a5f-af02-8f48a5696562",
   "metadata": {},
   "source": [
    "I will trim the training dataset down to the features and targets that I need, then drop nans at this point. I will split this table into training features and training targets. Later I will deal with the test set, dropping nans and getting targets from the full dataset. I will also need to include a list of columns containing concentration data for later, and a list of concentration columns that need dropped from the training set.\n",
    "\n",
    "According to the company - observations in the datasets come in order of time, and adjacent observations tend to be similar. Even though I intend to train models later via cross-validation, I think it would be a good idea to shuffle the data once the rest of preprocessing is done. The linear regression shouldn't be affected, but the random forest model may be."
   ]
  },
  {
   "cell_type": "code",
   "execution_count": 13,
   "id": "bc95c6d1-ceba-4da3-95d8-976cac8e1e39",
   "metadata": {},
   "outputs": [],
   "source": [
    "targets = ['rougher.output.recovery', 'final.output.recovery']\n",
    "\n",
    "conc = ['final.output.concentrate_au', 'rougher.output.concentrate_au', 'rougher.input.feed_au', \\\n",
    "           'final.output.concentrate_ag', 'rougher.output.concentrate_ag', 'rougher.input.feed_ag', \\\n",
    "           'final.output.concentrate_pb', 'rougher.output.concentrate_pb', 'rougher.input.feed_pb', \\\n",
    "           'final.output.concentrate_sol', 'rougher.output.concentrate_sol', 'rougher.input.feed_sol']\n",
    "\n",
    "conc_drop = ['final.output.concentrate_sol', 'rougher.output.concentrate_sol', \\\n",
    "                 'final.output.concentrate_pb', 'rougher.output.concentrate_pb', \\\n",
    "                 'final.output.concentrate_ag', 'rougher.output.concentrate_ag', \\\n",
    "                 'final.output.concentrate_au', 'rougher.output.concentrate_au']"
   ]
  },
  {
   "cell_type": "code",
   "execution_count": 14,
   "id": "bde013f7-af60-4e1f-a7a2-22ac2356eee9",
   "metadata": {},
   "outputs": [],
   "source": [
    "drop_columns = drop_columns.drop(targets, axis=1)\n",
    "drop_columns = drop_columns.drop(conc_drop, axis=1)\n",
    "trim_train = train.drop(drop_columns.columns, axis=1)"
   ]
  },
  {
   "cell_type": "code",
   "execution_count": 15,
   "id": "c79f58ae-7615-4d04-adef-5950c165e546",
   "metadata": {},
   "outputs": [
    {
     "name": "stdout",
     "output_type": "stream",
     "text": [
      "<class 'pandas.core.frame.DataFrame'>\n",
      "RangeIndex: 16860 entries, 0 to 16859\n",
      "Data columns (total 63 columns):\n",
      " #   Column                                      Non-Null Count  Dtype  \n",
      "---  ------                                      --------------  -----  \n",
      " 0   date                                        16860 non-null  object \n",
      " 1   final.output.concentrate_ag                 16788 non-null  float64\n",
      " 2   final.output.concentrate_pb                 16788 non-null  float64\n",
      " 3   final.output.concentrate_sol                16490 non-null  float64\n",
      " 4   final.output.concentrate_au                 16789 non-null  float64\n",
      " 5   final.output.recovery                       15339 non-null  float64\n",
      " 6   primary_cleaner.input.sulfate               15553 non-null  float64\n",
      " 7   primary_cleaner.input.depressant            15598 non-null  float64\n",
      " 8   primary_cleaner.input.feed_size             16860 non-null  float64\n",
      " 9   primary_cleaner.input.xanthate              15875 non-null  float64\n",
      " 10  primary_cleaner.state.floatbank8_a_air      16820 non-null  float64\n",
      " 11  primary_cleaner.state.floatbank8_a_level    16827 non-null  float64\n",
      " 12  primary_cleaner.state.floatbank8_b_air      16820 non-null  float64\n",
      " 13  primary_cleaner.state.floatbank8_b_level    16833 non-null  float64\n",
      " 14  primary_cleaner.state.floatbank8_c_air      16822 non-null  float64\n",
      " 15  primary_cleaner.state.floatbank8_c_level    16833 non-null  float64\n",
      " 16  primary_cleaner.state.floatbank8_d_air      16821 non-null  float64\n",
      " 17  primary_cleaner.state.floatbank8_d_level    16833 non-null  float64\n",
      " 18  rougher.input.feed_ag                       16778 non-null  float64\n",
      " 19  rougher.input.feed_pb                       16632 non-null  float64\n",
      " 20  rougher.input.feed_rate                     16347 non-null  float64\n",
      " 21  rougher.input.feed_size                     16443 non-null  float64\n",
      " 22  rougher.input.feed_sol                      16568 non-null  float64\n",
      " 23  rougher.input.feed_au                       16777 non-null  float64\n",
      " 24  rougher.input.floatbank10_sulfate           15816 non-null  float64\n",
      " 25  rougher.input.floatbank10_xanthate          16514 non-null  float64\n",
      " 26  rougher.input.floatbank11_sulfate           16237 non-null  float64\n",
      " 27  rougher.input.floatbank11_xanthate          14956 non-null  float64\n",
      " 28  rougher.output.concentrate_ag               16778 non-null  float64\n",
      " 29  rougher.output.concentrate_pb               16778 non-null  float64\n",
      " 30  rougher.output.concentrate_sol              16698 non-null  float64\n",
      " 31  rougher.output.concentrate_au               16778 non-null  float64\n",
      " 32  rougher.output.recovery                     14287 non-null  float64\n",
      " 33  rougher.state.floatbank10_a_air             16807 non-null  float64\n",
      " 34  rougher.state.floatbank10_a_level           16807 non-null  float64\n",
      " 35  rougher.state.floatbank10_b_air             16807 non-null  float64\n",
      " 36  rougher.state.floatbank10_b_level           16807 non-null  float64\n",
      " 37  rougher.state.floatbank10_c_air             16807 non-null  float64\n",
      " 38  rougher.state.floatbank10_c_level           16814 non-null  float64\n",
      " 39  rougher.state.floatbank10_d_air             16802 non-null  float64\n",
      " 40  rougher.state.floatbank10_d_level           16809 non-null  float64\n",
      " 41  rougher.state.floatbank10_e_air             16257 non-null  float64\n",
      " 42  rougher.state.floatbank10_e_level           16809 non-null  float64\n",
      " 43  rougher.state.floatbank10_f_air             16802 non-null  float64\n",
      " 44  rougher.state.floatbank10_f_level           16802 non-null  float64\n",
      " 45  secondary_cleaner.state.floatbank2_a_air    16497 non-null  float64\n",
      " 46  secondary_cleaner.state.floatbank2_a_level  16751 non-null  float64\n",
      " 47  secondary_cleaner.state.floatbank2_b_air    16705 non-null  float64\n",
      " 48  secondary_cleaner.state.floatbank2_b_level  16748 non-null  float64\n",
      " 49  secondary_cleaner.state.floatbank3_a_air    16763 non-null  float64\n",
      " 50  secondary_cleaner.state.floatbank3_a_level  16747 non-null  float64\n",
      " 51  secondary_cleaner.state.floatbank3_b_air    16752 non-null  float64\n",
      " 52  secondary_cleaner.state.floatbank3_b_level  16750 non-null  float64\n",
      " 53  secondary_cleaner.state.floatbank4_a_air    16731 non-null  float64\n",
      " 54  secondary_cleaner.state.floatbank4_a_level  16747 non-null  float64\n",
      " 55  secondary_cleaner.state.floatbank4_b_air    16768 non-null  float64\n",
      " 56  secondary_cleaner.state.floatbank4_b_level  16767 non-null  float64\n",
      " 57  secondary_cleaner.state.floatbank5_a_air    16775 non-null  float64\n",
      " 58  secondary_cleaner.state.floatbank5_a_level  16775 non-null  float64\n",
      " 59  secondary_cleaner.state.floatbank5_b_air    16775 non-null  float64\n",
      " 60  secondary_cleaner.state.floatbank5_b_level  16776 non-null  float64\n",
      " 61  secondary_cleaner.state.floatbank6_a_air    16757 non-null  float64\n",
      " 62  secondary_cleaner.state.floatbank6_a_level  16775 non-null  float64\n",
      "dtypes: float64(62), object(1)\n",
      "memory usage: 8.1+ MB\n"
     ]
    }
   ],
   "source": [
    "trim_train.info()"
   ]
  },
  {
   "cell_type": "markdown",
   "id": "bfd2d790-0e3a-4d94-a120-d2204ad4b09c",
   "metadata": {},
   "source": [
    "I need to remove nans so that I can run a regression model and calculate metrics. Because adjacent observations are similar to each other, I can use the preceeding values to fill the missing values with the forward fill method."
   ]
  },
  {
   "cell_type": "code",
   "execution_count": 16,
   "id": "d52b0382-0884-4e3b-b90c-c02597981377",
   "metadata": {},
   "outputs": [],
   "source": [
    "trim_train = trim_train.fillna(method='ffill')"
   ]
  },
  {
   "cell_type": "markdown",
   "id": "a0c3c693-198d-469f-b15a-4ad75a881b87",
   "metadata": {},
   "source": [
    "Let's briefly check for duplicate observations."
   ]
  },
  {
   "cell_type": "code",
   "execution_count": 17,
   "id": "1cc50ed8-dcec-44b9-a020-e5ecd4b7cff9",
   "metadata": {
    "scrolled": true
   },
   "outputs": [
    {
     "name": "stdout",
     "output_type": "stream",
     "text": [
      "0\n"
     ]
    }
   ],
   "source": [
    "print(trim_train.duplicated().sum())"
   ]
  },
  {
   "cell_type": "markdown",
   "id": "b0e29269-930f-4c6e-86bc-02670a0665ad",
   "metadata": {},
   "source": [
    "No duplicates."
   ]
  },
  {
   "cell_type": "markdown",
   "id": "22f12aa2-3137-45a6-9a76-22f2055cc6cb",
   "metadata": {},
   "source": [
    "Let's split the training set into features and targets."
   ]
  },
  {
   "cell_type": "code",
   "execution_count": 18,
   "id": "3d556a56-d7fb-49df-8a4d-e3d39fc82a29",
   "metadata": {},
   "outputs": [],
   "source": [
    "target_train = trim_train[targets]\n",
    "features_train = trim_train.drop(targets, axis=1).drop('date', axis=1).drop(conc_drop, axis=1)\n",
    "\n",
    "final_conc = trim_train[conc]"
   ]
  },
  {
   "cell_type": "code",
   "execution_count": 19,
   "id": "55d48dd7",
   "metadata": {},
   "outputs": [
    {
     "data": {
      "text/html": [
       "<div>\n",
       "<style scoped>\n",
       "    .dataframe tbody tr th:only-of-type {\n",
       "        vertical-align: middle;\n",
       "    }\n",
       "\n",
       "    .dataframe tbody tr th {\n",
       "        vertical-align: top;\n",
       "    }\n",
       "\n",
       "    .dataframe thead th {\n",
       "        text-align: right;\n",
       "    }\n",
       "</style>\n",
       "<table border=\"1\" class=\"dataframe\">\n",
       "  <thead>\n",
       "    <tr style=\"text-align: right;\">\n",
       "      <th></th>\n",
       "      <th>primary_cleaner.input.sulfate</th>\n",
       "      <th>primary_cleaner.input.depressant</th>\n",
       "      <th>primary_cleaner.input.feed_size</th>\n",
       "      <th>primary_cleaner.input.xanthate</th>\n",
       "      <th>primary_cleaner.state.floatbank8_a_air</th>\n",
       "      <th>primary_cleaner.state.floatbank8_a_level</th>\n",
       "      <th>primary_cleaner.state.floatbank8_b_air</th>\n",
       "      <th>primary_cleaner.state.floatbank8_b_level</th>\n",
       "      <th>primary_cleaner.state.floatbank8_c_air</th>\n",
       "      <th>primary_cleaner.state.floatbank8_c_level</th>\n",
       "      <th>...</th>\n",
       "      <th>secondary_cleaner.state.floatbank4_a_air</th>\n",
       "      <th>secondary_cleaner.state.floatbank4_a_level</th>\n",
       "      <th>secondary_cleaner.state.floatbank4_b_air</th>\n",
       "      <th>secondary_cleaner.state.floatbank4_b_level</th>\n",
       "      <th>secondary_cleaner.state.floatbank5_a_air</th>\n",
       "      <th>secondary_cleaner.state.floatbank5_a_level</th>\n",
       "      <th>secondary_cleaner.state.floatbank5_b_air</th>\n",
       "      <th>secondary_cleaner.state.floatbank5_b_level</th>\n",
       "      <th>secondary_cleaner.state.floatbank6_a_air</th>\n",
       "      <th>secondary_cleaner.state.floatbank6_a_level</th>\n",
       "    </tr>\n",
       "  </thead>\n",
       "  <tbody>\n",
       "    <tr>\n",
       "      <th>0</th>\n",
       "      <td>127.092003</td>\n",
       "      <td>10.128295</td>\n",
       "      <td>7.25</td>\n",
       "      <td>0.988759</td>\n",
       "      <td>1549.775757</td>\n",
       "      <td>-498.912140</td>\n",
       "      <td>1551.434204</td>\n",
       "      <td>-516.403442</td>\n",
       "      <td>1549.873901</td>\n",
       "      <td>-498.666595</td>\n",
       "      <td>...</td>\n",
       "      <td>14.016835</td>\n",
       "      <td>-502.488007</td>\n",
       "      <td>12.099931</td>\n",
       "      <td>-504.715942</td>\n",
       "      <td>9.925633</td>\n",
       "      <td>-498.310211</td>\n",
       "      <td>8.079666</td>\n",
       "      <td>-500.470978</td>\n",
       "      <td>14.151341</td>\n",
       "      <td>-605.841980</td>\n",
       "    </tr>\n",
       "    <tr>\n",
       "      <th>1</th>\n",
       "      <td>125.629232</td>\n",
       "      <td>10.296251</td>\n",
       "      <td>7.25</td>\n",
       "      <td>1.002663</td>\n",
       "      <td>1576.166671</td>\n",
       "      <td>-500.904965</td>\n",
       "      <td>1575.950626</td>\n",
       "      <td>-499.865889</td>\n",
       "      <td>1575.994189</td>\n",
       "      <td>-499.315107</td>\n",
       "      <td>...</td>\n",
       "      <td>13.992281</td>\n",
       "      <td>-505.503262</td>\n",
       "      <td>11.950531</td>\n",
       "      <td>-501.331529</td>\n",
       "      <td>10.039245</td>\n",
       "      <td>-500.169983</td>\n",
       "      <td>7.984757</td>\n",
       "      <td>-500.582168</td>\n",
       "      <td>13.998353</td>\n",
       "      <td>-599.787184</td>\n",
       "    </tr>\n",
       "    <tr>\n",
       "      <th>2</th>\n",
       "      <td>123.819808</td>\n",
       "      <td>11.316280</td>\n",
       "      <td>7.25</td>\n",
       "      <td>0.991265</td>\n",
       "      <td>1601.556163</td>\n",
       "      <td>-499.997791</td>\n",
       "      <td>1600.386685</td>\n",
       "      <td>-500.607762</td>\n",
       "      <td>1602.003542</td>\n",
       "      <td>-500.870069</td>\n",
       "      <td>...</td>\n",
       "      <td>14.015015</td>\n",
       "      <td>-502.520901</td>\n",
       "      <td>11.912783</td>\n",
       "      <td>-501.133383</td>\n",
       "      <td>10.070913</td>\n",
       "      <td>-500.129135</td>\n",
       "      <td>8.013877</td>\n",
       "      <td>-500.517572</td>\n",
       "      <td>14.028663</td>\n",
       "      <td>-601.427363</td>\n",
       "    </tr>\n",
       "    <tr>\n",
       "      <th>3</th>\n",
       "      <td>122.270188</td>\n",
       "      <td>11.322140</td>\n",
       "      <td>7.25</td>\n",
       "      <td>0.996739</td>\n",
       "      <td>1599.968720</td>\n",
       "      <td>-500.951778</td>\n",
       "      <td>1600.659236</td>\n",
       "      <td>-499.677094</td>\n",
       "      <td>1600.304144</td>\n",
       "      <td>-500.727997</td>\n",
       "      <td>...</td>\n",
       "      <td>14.036510</td>\n",
       "      <td>-500.857308</td>\n",
       "      <td>11.999550</td>\n",
       "      <td>-501.193686</td>\n",
       "      <td>9.970366</td>\n",
       "      <td>-499.201640</td>\n",
       "      <td>7.977324</td>\n",
       "      <td>-500.255908</td>\n",
       "      <td>14.005551</td>\n",
       "      <td>-599.996129</td>\n",
       "    </tr>\n",
       "    <tr>\n",
       "      <th>4</th>\n",
       "      <td>117.988169</td>\n",
       "      <td>11.913613</td>\n",
       "      <td>7.25</td>\n",
       "      <td>1.009869</td>\n",
       "      <td>1601.339707</td>\n",
       "      <td>-498.975456</td>\n",
       "      <td>1601.437854</td>\n",
       "      <td>-500.323246</td>\n",
       "      <td>1599.581894</td>\n",
       "      <td>-500.888152</td>\n",
       "      <td>...</td>\n",
       "      <td>14.027298</td>\n",
       "      <td>-499.838632</td>\n",
       "      <td>11.953070</td>\n",
       "      <td>-501.053894</td>\n",
       "      <td>9.925709</td>\n",
       "      <td>-501.686727</td>\n",
       "      <td>7.894242</td>\n",
       "      <td>-500.356035</td>\n",
       "      <td>13.996647</td>\n",
       "      <td>-601.496691</td>\n",
       "    </tr>\n",
       "    <tr>\n",
       "      <th>...</th>\n",
       "      <td>...</td>\n",
       "      <td>...</td>\n",
       "      <td>...</td>\n",
       "      <td>...</td>\n",
       "      <td>...</td>\n",
       "      <td>...</td>\n",
       "      <td>...</td>\n",
       "      <td>...</td>\n",
       "      <td>...</td>\n",
       "      <td>...</td>\n",
       "      <td>...</td>\n",
       "      <td>...</td>\n",
       "      <td>...</td>\n",
       "      <td>...</td>\n",
       "      <td>...</td>\n",
       "      <td>...</td>\n",
       "      <td>...</td>\n",
       "      <td>...</td>\n",
       "      <td>...</td>\n",
       "      <td>...</td>\n",
       "      <td>...</td>\n",
       "    </tr>\n",
       "    <tr>\n",
       "      <th>16855</th>\n",
       "      <td>123.381787</td>\n",
       "      <td>8.028927</td>\n",
       "      <td>6.50</td>\n",
       "      <td>1.304232</td>\n",
       "      <td>1648.421193</td>\n",
       "      <td>-400.382169</td>\n",
       "      <td>1648.742005</td>\n",
       "      <td>-400.359661</td>\n",
       "      <td>1648.578230</td>\n",
       "      <td>-399.363624</td>\n",
       "      <td>...</td>\n",
       "      <td>23.031497</td>\n",
       "      <td>-501.167942</td>\n",
       "      <td>20.007571</td>\n",
       "      <td>-499.740028</td>\n",
       "      <td>18.006038</td>\n",
       "      <td>-499.834374</td>\n",
       "      <td>13.001114</td>\n",
       "      <td>-500.155694</td>\n",
       "      <td>20.007840</td>\n",
       "      <td>-501.296428</td>\n",
       "    </tr>\n",
       "    <tr>\n",
       "      <th>16856</th>\n",
       "      <td>120.878188</td>\n",
       "      <td>7.962636</td>\n",
       "      <td>6.50</td>\n",
       "      <td>1.302419</td>\n",
       "      <td>1649.820162</td>\n",
       "      <td>-399.930973</td>\n",
       "      <td>1649.357538</td>\n",
       "      <td>-399.721222</td>\n",
       "      <td>1648.656192</td>\n",
       "      <td>-401.195834</td>\n",
       "      <td>...</td>\n",
       "      <td>22.960095</td>\n",
       "      <td>-501.612783</td>\n",
       "      <td>20.035660</td>\n",
       "      <td>-500.251357</td>\n",
       "      <td>17.998535</td>\n",
       "      <td>-500.395178</td>\n",
       "      <td>12.954048</td>\n",
       "      <td>-499.895163</td>\n",
       "      <td>19.968498</td>\n",
       "      <td>-501.041608</td>\n",
       "    </tr>\n",
       "    <tr>\n",
       "      <th>16857</th>\n",
       "      <td>105.666118</td>\n",
       "      <td>7.955111</td>\n",
       "      <td>6.50</td>\n",
       "      <td>1.315926</td>\n",
       "      <td>1649.166761</td>\n",
       "      <td>-399.888631</td>\n",
       "      <td>1649.196904</td>\n",
       "      <td>-399.677571</td>\n",
       "      <td>1647.896999</td>\n",
       "      <td>-399.988275</td>\n",
       "      <td>...</td>\n",
       "      <td>23.015718</td>\n",
       "      <td>-501.711599</td>\n",
       "      <td>19.951231</td>\n",
       "      <td>-499.857027</td>\n",
       "      <td>18.019543</td>\n",
       "      <td>-500.451156</td>\n",
       "      <td>13.023431</td>\n",
       "      <td>-499.914391</td>\n",
       "      <td>19.990885</td>\n",
       "      <td>-501.518452</td>\n",
       "    </tr>\n",
       "    <tr>\n",
       "      <th>16858</th>\n",
       "      <td>98.880538</td>\n",
       "      <td>7.984164</td>\n",
       "      <td>6.50</td>\n",
       "      <td>1.241969</td>\n",
       "      <td>1646.547763</td>\n",
       "      <td>-398.977083</td>\n",
       "      <td>1648.212240</td>\n",
       "      <td>-400.383265</td>\n",
       "      <td>1648.917387</td>\n",
       "      <td>-399.521344</td>\n",
       "      <td>...</td>\n",
       "      <td>23.024963</td>\n",
       "      <td>-501.153409</td>\n",
       "      <td>20.054122</td>\n",
       "      <td>-500.314711</td>\n",
       "      <td>17.979515</td>\n",
       "      <td>-499.272871</td>\n",
       "      <td>12.992404</td>\n",
       "      <td>-499.976268</td>\n",
       "      <td>20.013986</td>\n",
       "      <td>-500.625471</td>\n",
       "    </tr>\n",
       "    <tr>\n",
       "      <th>16859</th>\n",
       "      <td>95.248427</td>\n",
       "      <td>8.078957</td>\n",
       "      <td>6.50</td>\n",
       "      <td>1.283045</td>\n",
       "      <td>1648.759906</td>\n",
       "      <td>-399.862053</td>\n",
       "      <td>1650.135395</td>\n",
       "      <td>-399.957321</td>\n",
       "      <td>1648.831890</td>\n",
       "      <td>-400.586116</td>\n",
       "      <td>...</td>\n",
       "      <td>23.018622</td>\n",
       "      <td>-500.492702</td>\n",
       "      <td>20.020205</td>\n",
       "      <td>-500.220296</td>\n",
       "      <td>17.963512</td>\n",
       "      <td>-499.939490</td>\n",
       "      <td>12.990306</td>\n",
       "      <td>-500.080993</td>\n",
       "      <td>19.990336</td>\n",
       "      <td>-499.191575</td>\n",
       "    </tr>\n",
       "  </tbody>\n",
       "</table>\n",
       "<p>16860 rows × 52 columns</p>\n",
       "</div>"
      ],
      "text/plain": [
       "       primary_cleaner.input.sulfate  primary_cleaner.input.depressant  \\\n",
       "0                         127.092003                         10.128295   \n",
       "1                         125.629232                         10.296251   \n",
       "2                         123.819808                         11.316280   \n",
       "3                         122.270188                         11.322140   \n",
       "4                         117.988169                         11.913613   \n",
       "...                              ...                               ...   \n",
       "16855                     123.381787                          8.028927   \n",
       "16856                     120.878188                          7.962636   \n",
       "16857                     105.666118                          7.955111   \n",
       "16858                      98.880538                          7.984164   \n",
       "16859                      95.248427                          8.078957   \n",
       "\n",
       "       primary_cleaner.input.feed_size  primary_cleaner.input.xanthate  \\\n",
       "0                                 7.25                        0.988759   \n",
       "1                                 7.25                        1.002663   \n",
       "2                                 7.25                        0.991265   \n",
       "3                                 7.25                        0.996739   \n",
       "4                                 7.25                        1.009869   \n",
       "...                                ...                             ...   \n",
       "16855                             6.50                        1.304232   \n",
       "16856                             6.50                        1.302419   \n",
       "16857                             6.50                        1.315926   \n",
       "16858                             6.50                        1.241969   \n",
       "16859                             6.50                        1.283045   \n",
       "\n",
       "       primary_cleaner.state.floatbank8_a_air  \\\n",
       "0                                 1549.775757   \n",
       "1                                 1576.166671   \n",
       "2                                 1601.556163   \n",
       "3                                 1599.968720   \n",
       "4                                 1601.339707   \n",
       "...                                       ...   \n",
       "16855                             1648.421193   \n",
       "16856                             1649.820162   \n",
       "16857                             1649.166761   \n",
       "16858                             1646.547763   \n",
       "16859                             1648.759906   \n",
       "\n",
       "       primary_cleaner.state.floatbank8_a_level  \\\n",
       "0                                   -498.912140   \n",
       "1                                   -500.904965   \n",
       "2                                   -499.997791   \n",
       "3                                   -500.951778   \n",
       "4                                   -498.975456   \n",
       "...                                         ...   \n",
       "16855                               -400.382169   \n",
       "16856                               -399.930973   \n",
       "16857                               -399.888631   \n",
       "16858                               -398.977083   \n",
       "16859                               -399.862053   \n",
       "\n",
       "       primary_cleaner.state.floatbank8_b_air  \\\n",
       "0                                 1551.434204   \n",
       "1                                 1575.950626   \n",
       "2                                 1600.386685   \n",
       "3                                 1600.659236   \n",
       "4                                 1601.437854   \n",
       "...                                       ...   \n",
       "16855                             1648.742005   \n",
       "16856                             1649.357538   \n",
       "16857                             1649.196904   \n",
       "16858                             1648.212240   \n",
       "16859                             1650.135395   \n",
       "\n",
       "       primary_cleaner.state.floatbank8_b_level  \\\n",
       "0                                   -516.403442   \n",
       "1                                   -499.865889   \n",
       "2                                   -500.607762   \n",
       "3                                   -499.677094   \n",
       "4                                   -500.323246   \n",
       "...                                         ...   \n",
       "16855                               -400.359661   \n",
       "16856                               -399.721222   \n",
       "16857                               -399.677571   \n",
       "16858                               -400.383265   \n",
       "16859                               -399.957321   \n",
       "\n",
       "       primary_cleaner.state.floatbank8_c_air  \\\n",
       "0                                 1549.873901   \n",
       "1                                 1575.994189   \n",
       "2                                 1602.003542   \n",
       "3                                 1600.304144   \n",
       "4                                 1599.581894   \n",
       "...                                       ...   \n",
       "16855                             1648.578230   \n",
       "16856                             1648.656192   \n",
       "16857                             1647.896999   \n",
       "16858                             1648.917387   \n",
       "16859                             1648.831890   \n",
       "\n",
       "       primary_cleaner.state.floatbank8_c_level  ...  \\\n",
       "0                                   -498.666595  ...   \n",
       "1                                   -499.315107  ...   \n",
       "2                                   -500.870069  ...   \n",
       "3                                   -500.727997  ...   \n",
       "4                                   -500.888152  ...   \n",
       "...                                         ...  ...   \n",
       "16855                               -399.363624  ...   \n",
       "16856                               -401.195834  ...   \n",
       "16857                               -399.988275  ...   \n",
       "16858                               -399.521344  ...   \n",
       "16859                               -400.586116  ...   \n",
       "\n",
       "       secondary_cleaner.state.floatbank4_a_air  \\\n",
       "0                                     14.016835   \n",
       "1                                     13.992281   \n",
       "2                                     14.015015   \n",
       "3                                     14.036510   \n",
       "4                                     14.027298   \n",
       "...                                         ...   \n",
       "16855                                 23.031497   \n",
       "16856                                 22.960095   \n",
       "16857                                 23.015718   \n",
       "16858                                 23.024963   \n",
       "16859                                 23.018622   \n",
       "\n",
       "       secondary_cleaner.state.floatbank4_a_level  \\\n",
       "0                                     -502.488007   \n",
       "1                                     -505.503262   \n",
       "2                                     -502.520901   \n",
       "3                                     -500.857308   \n",
       "4                                     -499.838632   \n",
       "...                                           ...   \n",
       "16855                                 -501.167942   \n",
       "16856                                 -501.612783   \n",
       "16857                                 -501.711599   \n",
       "16858                                 -501.153409   \n",
       "16859                                 -500.492702   \n",
       "\n",
       "       secondary_cleaner.state.floatbank4_b_air  \\\n",
       "0                                     12.099931   \n",
       "1                                     11.950531   \n",
       "2                                     11.912783   \n",
       "3                                     11.999550   \n",
       "4                                     11.953070   \n",
       "...                                         ...   \n",
       "16855                                 20.007571   \n",
       "16856                                 20.035660   \n",
       "16857                                 19.951231   \n",
       "16858                                 20.054122   \n",
       "16859                                 20.020205   \n",
       "\n",
       "       secondary_cleaner.state.floatbank4_b_level  \\\n",
       "0                                     -504.715942   \n",
       "1                                     -501.331529   \n",
       "2                                     -501.133383   \n",
       "3                                     -501.193686   \n",
       "4                                     -501.053894   \n",
       "...                                           ...   \n",
       "16855                                 -499.740028   \n",
       "16856                                 -500.251357   \n",
       "16857                                 -499.857027   \n",
       "16858                                 -500.314711   \n",
       "16859                                 -500.220296   \n",
       "\n",
       "       secondary_cleaner.state.floatbank5_a_air  \\\n",
       "0                                      9.925633   \n",
       "1                                     10.039245   \n",
       "2                                     10.070913   \n",
       "3                                      9.970366   \n",
       "4                                      9.925709   \n",
       "...                                         ...   \n",
       "16855                                 18.006038   \n",
       "16856                                 17.998535   \n",
       "16857                                 18.019543   \n",
       "16858                                 17.979515   \n",
       "16859                                 17.963512   \n",
       "\n",
       "       secondary_cleaner.state.floatbank5_a_level  \\\n",
       "0                                     -498.310211   \n",
       "1                                     -500.169983   \n",
       "2                                     -500.129135   \n",
       "3                                     -499.201640   \n",
       "4                                     -501.686727   \n",
       "...                                           ...   \n",
       "16855                                 -499.834374   \n",
       "16856                                 -500.395178   \n",
       "16857                                 -500.451156   \n",
       "16858                                 -499.272871   \n",
       "16859                                 -499.939490   \n",
       "\n",
       "       secondary_cleaner.state.floatbank5_b_air  \\\n",
       "0                                      8.079666   \n",
       "1                                      7.984757   \n",
       "2                                      8.013877   \n",
       "3                                      7.977324   \n",
       "4                                      7.894242   \n",
       "...                                         ...   \n",
       "16855                                 13.001114   \n",
       "16856                                 12.954048   \n",
       "16857                                 13.023431   \n",
       "16858                                 12.992404   \n",
       "16859                                 12.990306   \n",
       "\n",
       "       secondary_cleaner.state.floatbank5_b_level  \\\n",
       "0                                     -500.470978   \n",
       "1                                     -500.582168   \n",
       "2                                     -500.517572   \n",
       "3                                     -500.255908   \n",
       "4                                     -500.356035   \n",
       "...                                           ...   \n",
       "16855                                 -500.155694   \n",
       "16856                                 -499.895163   \n",
       "16857                                 -499.914391   \n",
       "16858                                 -499.976268   \n",
       "16859                                 -500.080993   \n",
       "\n",
       "       secondary_cleaner.state.floatbank6_a_air  \\\n",
       "0                                     14.151341   \n",
       "1                                     13.998353   \n",
       "2                                     14.028663   \n",
       "3                                     14.005551   \n",
       "4                                     13.996647   \n",
       "...                                         ...   \n",
       "16855                                 20.007840   \n",
       "16856                                 19.968498   \n",
       "16857                                 19.990885   \n",
       "16858                                 20.013986   \n",
       "16859                                 19.990336   \n",
       "\n",
       "       secondary_cleaner.state.floatbank6_a_level  \n",
       "0                                     -605.841980  \n",
       "1                                     -599.787184  \n",
       "2                                     -601.427363  \n",
       "3                                     -599.996129  \n",
       "4                                     -601.496691  \n",
       "...                                           ...  \n",
       "16855                                 -501.296428  \n",
       "16856                                 -501.041608  \n",
       "16857                                 -501.518452  \n",
       "16858                                 -500.625471  \n",
       "16859                                 -499.191575  \n",
       "\n",
       "[16860 rows x 52 columns]"
      ]
     },
     "execution_count": 19,
     "metadata": {},
     "output_type": "execute_result"
    }
   ],
   "source": [
    "features_train"
   ]
  },
  {
   "cell_type": "markdown",
   "id": "1efdca6d-731d-4d67-ab43-a3a9d82cec71",
   "metadata": {},
   "source": [
    "Let's shuffle this data, using the same random state for each."
   ]
  },
  {
   "cell_type": "code",
   "execution_count": 20,
   "id": "ed436edb-5192-403f-ba6c-1d3790691f3d",
   "metadata": {},
   "outputs": [],
   "source": [
    "target_train = target_train.sample(frac=1, random_state=0)\n",
    "features_train = features_train.sample(frac=1, random_state=0)\n",
    "\n",
    "conc_train = final_conc.sample(frac=1, random_state=0)"
   ]
  },
  {
   "cell_type": "code",
   "execution_count": 21,
   "id": "ecda6e2a-1313-48fe-89c9-645f3813b15b",
   "metadata": {},
   "outputs": [
    {
     "data": {
      "text/html": [
       "<div>\n",
       "<style scoped>\n",
       "    .dataframe tbody tr th:only-of-type {\n",
       "        vertical-align: middle;\n",
       "    }\n",
       "\n",
       "    .dataframe tbody tr th {\n",
       "        vertical-align: top;\n",
       "    }\n",
       "\n",
       "    .dataframe thead th {\n",
       "        text-align: right;\n",
       "    }\n",
       "</style>\n",
       "<table border=\"1\" class=\"dataframe\">\n",
       "  <thead>\n",
       "    <tr style=\"text-align: right;\">\n",
       "      <th></th>\n",
       "      <th>rougher.output.recovery</th>\n",
       "      <th>final.output.recovery</th>\n",
       "    </tr>\n",
       "  </thead>\n",
       "  <tbody>\n",
       "    <tr>\n",
       "      <th>15595</th>\n",
       "      <td>89.846488</td>\n",
       "      <td>75.526628</td>\n",
       "    </tr>\n",
       "    <tr>\n",
       "      <th>12938</th>\n",
       "      <td>94.292663</td>\n",
       "      <td>74.362554</td>\n",
       "    </tr>\n",
       "  </tbody>\n",
       "</table>\n",
       "</div>"
      ],
      "text/plain": [
       "       rougher.output.recovery  final.output.recovery\n",
       "15595                89.846488              75.526628\n",
       "12938                94.292663              74.362554"
      ]
     },
     "execution_count": 21,
     "metadata": {},
     "output_type": "execute_result"
    }
   ],
   "source": [
    "target_train.head(2)"
   ]
  },
  {
   "cell_type": "code",
   "execution_count": 22,
   "id": "ad7d66b2-7e63-4d9b-ad78-078e1fc7e37b",
   "metadata": {
    "scrolled": true
   },
   "outputs": [
    {
     "data": {
      "text/html": [
       "<div>\n",
       "<style scoped>\n",
       "    .dataframe tbody tr th:only-of-type {\n",
       "        vertical-align: middle;\n",
       "    }\n",
       "\n",
       "    .dataframe tbody tr th {\n",
       "        vertical-align: top;\n",
       "    }\n",
       "\n",
       "    .dataframe thead th {\n",
       "        text-align: right;\n",
       "    }\n",
       "</style>\n",
       "<table border=\"1\" class=\"dataframe\">\n",
       "  <thead>\n",
       "    <tr style=\"text-align: right;\">\n",
       "      <th></th>\n",
       "      <th>primary_cleaner.input.sulfate</th>\n",
       "      <th>primary_cleaner.input.depressant</th>\n",
       "      <th>primary_cleaner.input.feed_size</th>\n",
       "      <th>primary_cleaner.input.xanthate</th>\n",
       "      <th>primary_cleaner.state.floatbank8_a_air</th>\n",
       "      <th>primary_cleaner.state.floatbank8_a_level</th>\n",
       "      <th>primary_cleaner.state.floatbank8_b_air</th>\n",
       "      <th>primary_cleaner.state.floatbank8_b_level</th>\n",
       "      <th>primary_cleaner.state.floatbank8_c_air</th>\n",
       "      <th>primary_cleaner.state.floatbank8_c_level</th>\n",
       "      <th>...</th>\n",
       "      <th>secondary_cleaner.state.floatbank4_a_air</th>\n",
       "      <th>secondary_cleaner.state.floatbank4_a_level</th>\n",
       "      <th>secondary_cleaner.state.floatbank4_b_air</th>\n",
       "      <th>secondary_cleaner.state.floatbank4_b_level</th>\n",
       "      <th>secondary_cleaner.state.floatbank5_a_air</th>\n",
       "      <th>secondary_cleaner.state.floatbank5_a_level</th>\n",
       "      <th>secondary_cleaner.state.floatbank5_b_air</th>\n",
       "      <th>secondary_cleaner.state.floatbank5_b_level</th>\n",
       "      <th>secondary_cleaner.state.floatbank6_a_air</th>\n",
       "      <th>secondary_cleaner.state.floatbank6_a_level</th>\n",
       "    </tr>\n",
       "  </thead>\n",
       "  <tbody>\n",
       "    <tr>\n",
       "      <th>15595</th>\n",
       "      <td>122.832333</td>\n",
       "      <td>7.579891</td>\n",
       "      <td>6.443333</td>\n",
       "      <td>1.092322</td>\n",
       "      <td>1701.492510</td>\n",
       "      <td>-498.930432</td>\n",
       "      <td>1701.369266</td>\n",
       "      <td>-500.183981</td>\n",
       "      <td>1701.354687</td>\n",
       "      <td>-497.333750</td>\n",
       "      <td>...</td>\n",
       "      <td>30.012261</td>\n",
       "      <td>-499.671008</td>\n",
       "      <td>22.927886</td>\n",
       "      <td>-499.549444</td>\n",
       "      <td>20.000769</td>\n",
       "      <td>-500.205475</td>\n",
       "      <td>15.008221</td>\n",
       "      <td>-499.925765</td>\n",
       "      <td>17.983455</td>\n",
       "      <td>-500.086309</td>\n",
       "    </tr>\n",
       "    <tr>\n",
       "      <th>12938</th>\n",
       "      <td>179.731047</td>\n",
       "      <td>15.991746</td>\n",
       "      <td>6.820000</td>\n",
       "      <td>1.335643</td>\n",
       "      <td>1699.905644</td>\n",
       "      <td>-498.572482</td>\n",
       "      <td>1695.083511</td>\n",
       "      <td>-499.922241</td>\n",
       "      <td>1701.312252</td>\n",
       "      <td>-498.877403</td>\n",
       "      <td>...</td>\n",
       "      <td>23.005597</td>\n",
       "      <td>-500.295804</td>\n",
       "      <td>14.897285</td>\n",
       "      <td>-500.119256</td>\n",
       "      <td>17.954706</td>\n",
       "      <td>-499.866248</td>\n",
       "      <td>11.979044</td>\n",
       "      <td>-500.227535</td>\n",
       "      <td>11.973012</td>\n",
       "      <td>-499.382210</td>\n",
       "    </tr>\n",
       "  </tbody>\n",
       "</table>\n",
       "<p>2 rows × 52 columns</p>\n",
       "</div>"
      ],
      "text/plain": [
       "       primary_cleaner.input.sulfate  primary_cleaner.input.depressant  \\\n",
       "15595                     122.832333                          7.579891   \n",
       "12938                     179.731047                         15.991746   \n",
       "\n",
       "       primary_cleaner.input.feed_size  primary_cleaner.input.xanthate  \\\n",
       "15595                         6.443333                        1.092322   \n",
       "12938                         6.820000                        1.335643   \n",
       "\n",
       "       primary_cleaner.state.floatbank8_a_air  \\\n",
       "15595                             1701.492510   \n",
       "12938                             1699.905644   \n",
       "\n",
       "       primary_cleaner.state.floatbank8_a_level  \\\n",
       "15595                               -498.930432   \n",
       "12938                               -498.572482   \n",
       "\n",
       "       primary_cleaner.state.floatbank8_b_air  \\\n",
       "15595                             1701.369266   \n",
       "12938                             1695.083511   \n",
       "\n",
       "       primary_cleaner.state.floatbank8_b_level  \\\n",
       "15595                               -500.183981   \n",
       "12938                               -499.922241   \n",
       "\n",
       "       primary_cleaner.state.floatbank8_c_air  \\\n",
       "15595                             1701.354687   \n",
       "12938                             1701.312252   \n",
       "\n",
       "       primary_cleaner.state.floatbank8_c_level  ...  \\\n",
       "15595                               -497.333750  ...   \n",
       "12938                               -498.877403  ...   \n",
       "\n",
       "       secondary_cleaner.state.floatbank4_a_air  \\\n",
       "15595                                 30.012261   \n",
       "12938                                 23.005597   \n",
       "\n",
       "       secondary_cleaner.state.floatbank4_a_level  \\\n",
       "15595                                 -499.671008   \n",
       "12938                                 -500.295804   \n",
       "\n",
       "       secondary_cleaner.state.floatbank4_b_air  \\\n",
       "15595                                 22.927886   \n",
       "12938                                 14.897285   \n",
       "\n",
       "       secondary_cleaner.state.floatbank4_b_level  \\\n",
       "15595                                 -499.549444   \n",
       "12938                                 -500.119256   \n",
       "\n",
       "       secondary_cleaner.state.floatbank5_a_air  \\\n",
       "15595                                 20.000769   \n",
       "12938                                 17.954706   \n",
       "\n",
       "       secondary_cleaner.state.floatbank5_a_level  \\\n",
       "15595                                 -500.205475   \n",
       "12938                                 -499.866248   \n",
       "\n",
       "       secondary_cleaner.state.floatbank5_b_air  \\\n",
       "15595                                 15.008221   \n",
       "12938                                 11.979044   \n",
       "\n",
       "       secondary_cleaner.state.floatbank5_b_level  \\\n",
       "15595                                 -499.925765   \n",
       "12938                                 -500.227535   \n",
       "\n",
       "       secondary_cleaner.state.floatbank6_a_air  \\\n",
       "15595                                 17.983455   \n",
       "12938                                 11.973012   \n",
       "\n",
       "       secondary_cleaner.state.floatbank6_a_level  \n",
       "15595                                 -500.086309  \n",
       "12938                                 -499.382210  \n",
       "\n",
       "[2 rows x 52 columns]"
      ]
     },
     "execution_count": 22,
     "metadata": {},
     "output_type": "execute_result"
    }
   ],
   "source": [
    "features_train.head(2)"
   ]
  },
  {
   "cell_type": "code",
   "execution_count": 23,
   "id": "3c3aad2b",
   "metadata": {},
   "outputs": [
    {
     "data": {
      "text/html": [
       "<div>\n",
       "<style scoped>\n",
       "    .dataframe tbody tr th:only-of-type {\n",
       "        vertical-align: middle;\n",
       "    }\n",
       "\n",
       "    .dataframe tbody tr th {\n",
       "        vertical-align: top;\n",
       "    }\n",
       "\n",
       "    .dataframe thead th {\n",
       "        text-align: right;\n",
       "    }\n",
       "</style>\n",
       "<table border=\"1\" class=\"dataframe\">\n",
       "  <thead>\n",
       "    <tr style=\"text-align: right;\">\n",
       "      <th></th>\n",
       "      <th>final.output.concentrate_au</th>\n",
       "      <th>rougher.output.concentrate_au</th>\n",
       "      <th>rougher.input.feed_au</th>\n",
       "      <th>final.output.concentrate_ag</th>\n",
       "      <th>rougher.output.concentrate_ag</th>\n",
       "      <th>rougher.input.feed_ag</th>\n",
       "      <th>final.output.concentrate_pb</th>\n",
       "      <th>rougher.output.concentrate_pb</th>\n",
       "      <th>rougher.input.feed_pb</th>\n",
       "      <th>final.output.concentrate_sol</th>\n",
       "      <th>rougher.output.concentrate_sol</th>\n",
       "      <th>rougher.input.feed_sol</th>\n",
       "    </tr>\n",
       "  </thead>\n",
       "  <tbody>\n",
       "    <tr>\n",
       "      <th>15595</th>\n",
       "      <td>46.381322</td>\n",
       "      <td>17.407358</td>\n",
       "      <td>6.622279</td>\n",
       "      <td>4.151463</td>\n",
       "      <td>11.869672</td>\n",
       "      <td>6.916367</td>\n",
       "      <td>10.744395</td>\n",
       "      <td>10.094682</td>\n",
       "      <td>3.717486</td>\n",
       "      <td>6.780448</td>\n",
       "      <td>29.064798</td>\n",
       "      <td>40.038658</td>\n",
       "    </tr>\n",
       "    <tr>\n",
       "      <th>12938</th>\n",
       "      <td>42.143984</td>\n",
       "      <td>8.025801</td>\n",
       "      <td>11.806550</td>\n",
       "      <td>6.209688</td>\n",
       "      <td>5.479148</td>\n",
       "      <td>12.905219</td>\n",
       "      <td>10.953795</td>\n",
       "      <td>3.734205</td>\n",
       "      <td>6.095087</td>\n",
       "      <td>10.666312</td>\n",
       "      <td>11.960304</td>\n",
       "      <td>37.987529</td>\n",
       "    </tr>\n",
       "  </tbody>\n",
       "</table>\n",
       "</div>"
      ],
      "text/plain": [
       "       final.output.concentrate_au  rougher.output.concentrate_au  \\\n",
       "15595                    46.381322                      17.407358   \n",
       "12938                    42.143984                       8.025801   \n",
       "\n",
       "       rougher.input.feed_au  final.output.concentrate_ag  \\\n",
       "15595               6.622279                     4.151463   \n",
       "12938              11.806550                     6.209688   \n",
       "\n",
       "       rougher.output.concentrate_ag  rougher.input.feed_ag  \\\n",
       "15595                      11.869672               6.916367   \n",
       "12938                       5.479148              12.905219   \n",
       "\n",
       "       final.output.concentrate_pb  rougher.output.concentrate_pb  \\\n",
       "15595                    10.744395                      10.094682   \n",
       "12938                    10.953795                       3.734205   \n",
       "\n",
       "       rougher.input.feed_pb  final.output.concentrate_sol  \\\n",
       "15595               3.717486                      6.780448   \n",
       "12938               6.095087                     10.666312   \n",
       "\n",
       "       rougher.output.concentrate_sol  rougher.input.feed_sol  \n",
       "15595                       29.064798               40.038658  \n",
       "12938                       11.960304               37.987529  "
      ]
     },
     "execution_count": 23,
     "metadata": {},
     "output_type": "execute_result"
    }
   ],
   "source": [
    "conc_train.head(2)"
   ]
  },
  {
   "cell_type": "markdown",
   "id": "83e1c175-b7c6-4841-9871-27de1750b363",
   "metadata": {},
   "source": [
    "Done. Indexes match positions.\n",
    "\n",
    "Some groups of features share scales - others do not. Concentrations of materials are on vastly different scales than air volume and fluid levels. Some standardization may be needed. I am going to run my models without standardizing and, if needed, return later to try my models with standardizing. The linear regression model may benefit, but the random forest regression model would not."
   ]
  },
  {
   "cell_type": "markdown",
   "id": "796ad906-e8e6-4b64-9ee8-d4042f592430",
   "metadata": {
    "tags": []
   },
   "source": [
    "### Collect targets for test set"
   ]
  },
  {
   "cell_type": "markdown",
   "id": "bedab015-8b7a-46ea-b092-0875d4b6a721",
   "metadata": {},
   "source": [
    "I will perform similar preprocessing on the test set, making similar decisions, as I did for the training set.\n",
    "\n",
    "The test set does not come with target values, as the test set represents the data that will be available to the company before the extraction process. I want to be able to test the performance of the models by having a target available to me for comparison, if possible. I will create an extra dataset that contains the full data for the test observations, then I can collect the target values into a series for later comparison with the predictions."
   ]
  },
  {
   "cell_type": "code",
   "execution_count": 24,
   "id": "6a67fab9-952e-4667-900b-f59970550486",
   "metadata": {},
   "outputs": [
    {
     "name": "stdout",
     "output_type": "stream",
     "text": [
      "0\n",
      "0\n"
     ]
    }
   ],
   "source": [
    "print(test.date.duplicated().sum())\n",
    "print(full.date.duplicated().sum())"
   ]
  },
  {
   "cell_type": "markdown",
   "id": "2eba435c-5898-45a3-bcb5-087316fc52f1",
   "metadata": {},
   "source": [
    "The dates are unique for the test and the full datasets."
   ]
  },
  {
   "cell_type": "code",
   "execution_count": 25,
   "id": "118f5256-96f2-41c9-bbe2-8bcd7d96d6ab",
   "metadata": {},
   "outputs": [],
   "source": [
    "test_full = full[full.date.isin(test.date)]\n",
    "test_full_trimmed = test_full.fillna(method='ffill')"
   ]
  },
  {
   "cell_type": "markdown",
   "id": "f56a05dd",
   "metadata": {},
   "source": [
    "Let's split this dataframe into features and targets."
   ]
  },
  {
   "cell_type": "code",
   "execution_count": 26,
   "id": "3a1cf4ed-2b1a-420c-9785-a6826fae9a85",
   "metadata": {},
   "outputs": [],
   "source": [
    "features_test = test_full_trimmed.drop('date', axis=1).drop(drop_columns.columns, axis=1).drop(targets, axis=1).drop(conc_drop, axis=1).reset_index(drop=True)\n",
    "target_test = test_full_trimmed[targets].reset_index(drop=True)\n",
    "\n",
    "conc_test = test_full_trimmed[conc].reset_index(drop=True)"
   ]
  },
  {
   "cell_type": "code",
   "execution_count": 27,
   "id": "51b2517b",
   "metadata": {},
   "outputs": [
    {
     "data": {
      "text/html": [
       "<div>\n",
       "<style scoped>\n",
       "    .dataframe tbody tr th:only-of-type {\n",
       "        vertical-align: middle;\n",
       "    }\n",
       "\n",
       "    .dataframe tbody tr th {\n",
       "        vertical-align: top;\n",
       "    }\n",
       "\n",
       "    .dataframe thead th {\n",
       "        text-align: right;\n",
       "    }\n",
       "</style>\n",
       "<table border=\"1\" class=\"dataframe\">\n",
       "  <thead>\n",
       "    <tr style=\"text-align: right;\">\n",
       "      <th></th>\n",
       "      <th>primary_cleaner.input.sulfate</th>\n",
       "      <th>primary_cleaner.input.depressant</th>\n",
       "      <th>primary_cleaner.input.feed_size</th>\n",
       "      <th>primary_cleaner.input.xanthate</th>\n",
       "      <th>primary_cleaner.state.floatbank8_a_air</th>\n",
       "      <th>primary_cleaner.state.floatbank8_a_level</th>\n",
       "      <th>primary_cleaner.state.floatbank8_b_air</th>\n",
       "      <th>primary_cleaner.state.floatbank8_b_level</th>\n",
       "      <th>primary_cleaner.state.floatbank8_c_air</th>\n",
       "      <th>primary_cleaner.state.floatbank8_c_level</th>\n",
       "      <th>...</th>\n",
       "      <th>secondary_cleaner.state.floatbank4_a_air</th>\n",
       "      <th>secondary_cleaner.state.floatbank4_a_level</th>\n",
       "      <th>secondary_cleaner.state.floatbank4_b_air</th>\n",
       "      <th>secondary_cleaner.state.floatbank4_b_level</th>\n",
       "      <th>secondary_cleaner.state.floatbank5_a_air</th>\n",
       "      <th>secondary_cleaner.state.floatbank5_a_level</th>\n",
       "      <th>secondary_cleaner.state.floatbank5_b_air</th>\n",
       "      <th>secondary_cleaner.state.floatbank5_b_level</th>\n",
       "      <th>secondary_cleaner.state.floatbank6_a_air</th>\n",
       "      <th>secondary_cleaner.state.floatbank6_a_level</th>\n",
       "    </tr>\n",
       "  </thead>\n",
       "  <tbody>\n",
       "    <tr>\n",
       "      <th>0</th>\n",
       "      <td>210.800909</td>\n",
       "      <td>14.993118</td>\n",
       "      <td>8.080000</td>\n",
       "      <td>1.005021</td>\n",
       "      <td>1398.981301</td>\n",
       "      <td>-500.225577</td>\n",
       "      <td>1399.144926</td>\n",
       "      <td>-499.919735</td>\n",
       "      <td>1400.102998</td>\n",
       "      <td>-500.704369</td>\n",
       "      <td>...</td>\n",
       "      <td>12.023554</td>\n",
       "      <td>-497.795834</td>\n",
       "      <td>8.016656</td>\n",
       "      <td>-501.289139</td>\n",
       "      <td>7.946562</td>\n",
       "      <td>-432.317850</td>\n",
       "      <td>4.872511</td>\n",
       "      <td>-500.037437</td>\n",
       "      <td>26.705889</td>\n",
       "      <td>-499.709414</td>\n",
       "    </tr>\n",
       "    <tr>\n",
       "      <th>1</th>\n",
       "      <td>215.392455</td>\n",
       "      <td>14.987471</td>\n",
       "      <td>8.080000</td>\n",
       "      <td>0.990469</td>\n",
       "      <td>1398.777912</td>\n",
       "      <td>-500.057435</td>\n",
       "      <td>1398.055362</td>\n",
       "      <td>-499.778182</td>\n",
       "      <td>1396.151033</td>\n",
       "      <td>-499.240168</td>\n",
       "      <td>...</td>\n",
       "      <td>12.058140</td>\n",
       "      <td>-498.695773</td>\n",
       "      <td>8.130979</td>\n",
       "      <td>-499.634209</td>\n",
       "      <td>7.958270</td>\n",
       "      <td>-525.839648</td>\n",
       "      <td>4.878850</td>\n",
       "      <td>-500.162375</td>\n",
       "      <td>25.019940</td>\n",
       "      <td>-499.819438</td>\n",
       "    </tr>\n",
       "    <tr>\n",
       "      <th>2</th>\n",
       "      <td>215.259946</td>\n",
       "      <td>12.884934</td>\n",
       "      <td>7.786667</td>\n",
       "      <td>0.996043</td>\n",
       "      <td>1398.493666</td>\n",
       "      <td>-500.868360</td>\n",
       "      <td>1398.860436</td>\n",
       "      <td>-499.764529</td>\n",
       "      <td>1398.075709</td>\n",
       "      <td>-502.151509</td>\n",
       "      <td>...</td>\n",
       "      <td>11.962366</td>\n",
       "      <td>-498.767484</td>\n",
       "      <td>8.096893</td>\n",
       "      <td>-500.827423</td>\n",
       "      <td>8.071056</td>\n",
       "      <td>-500.801673</td>\n",
       "      <td>4.905125</td>\n",
       "      <td>-499.828510</td>\n",
       "      <td>24.994862</td>\n",
       "      <td>-500.622559</td>\n",
       "    </tr>\n",
       "    <tr>\n",
       "      <th>3</th>\n",
       "      <td>215.336236</td>\n",
       "      <td>12.006805</td>\n",
       "      <td>7.640000</td>\n",
       "      <td>0.863514</td>\n",
       "      <td>1399.618111</td>\n",
       "      <td>-498.863574</td>\n",
       "      <td>1397.440120</td>\n",
       "      <td>-499.211024</td>\n",
       "      <td>1400.129303</td>\n",
       "      <td>-498.355873</td>\n",
       "      <td>...</td>\n",
       "      <td>12.033091</td>\n",
       "      <td>-498.350935</td>\n",
       "      <td>8.074946</td>\n",
       "      <td>-499.474407</td>\n",
       "      <td>7.897085</td>\n",
       "      <td>-500.868509</td>\n",
       "      <td>4.931400</td>\n",
       "      <td>-499.963623</td>\n",
       "      <td>24.948919</td>\n",
       "      <td>-498.709987</td>\n",
       "    </tr>\n",
       "    <tr>\n",
       "      <th>4</th>\n",
       "      <td>199.099327</td>\n",
       "      <td>10.682530</td>\n",
       "      <td>7.530000</td>\n",
       "      <td>0.805575</td>\n",
       "      <td>1401.268123</td>\n",
       "      <td>-500.808305</td>\n",
       "      <td>1398.128818</td>\n",
       "      <td>-499.504543</td>\n",
       "      <td>1402.172226</td>\n",
       "      <td>-500.810606</td>\n",
       "      <td>...</td>\n",
       "      <td>12.025367</td>\n",
       "      <td>-500.786497</td>\n",
       "      <td>8.054678</td>\n",
       "      <td>-500.397500</td>\n",
       "      <td>8.107890</td>\n",
       "      <td>-509.526725</td>\n",
       "      <td>4.957674</td>\n",
       "      <td>-500.360026</td>\n",
       "      <td>25.003331</td>\n",
       "      <td>-500.856333</td>\n",
       "    </tr>\n",
       "    <tr>\n",
       "      <th>...</th>\n",
       "      <td>...</td>\n",
       "      <td>...</td>\n",
       "      <td>...</td>\n",
       "      <td>...</td>\n",
       "      <td>...</td>\n",
       "      <td>...</td>\n",
       "      <td>...</td>\n",
       "      <td>...</td>\n",
       "      <td>...</td>\n",
       "      <td>...</td>\n",
       "      <td>...</td>\n",
       "      <td>...</td>\n",
       "      <td>...</td>\n",
       "      <td>...</td>\n",
       "      <td>...</td>\n",
       "      <td>...</td>\n",
       "      <td>...</td>\n",
       "      <td>...</td>\n",
       "      <td>...</td>\n",
       "      <td>...</td>\n",
       "      <td>...</td>\n",
       "    </tr>\n",
       "    <tr>\n",
       "      <th>5851</th>\n",
       "      <td>173.957757</td>\n",
       "      <td>15.963399</td>\n",
       "      <td>8.070000</td>\n",
       "      <td>0.896701</td>\n",
       "      <td>1401.930554</td>\n",
       "      <td>-499.728848</td>\n",
       "      <td>1401.441445</td>\n",
       "      <td>-499.193423</td>\n",
       "      <td>1399.810313</td>\n",
       "      <td>-499.599127</td>\n",
       "      <td>...</td>\n",
       "      <td>13.995957</td>\n",
       "      <td>-500.157454</td>\n",
       "      <td>12.069155</td>\n",
       "      <td>-499.673279</td>\n",
       "      <td>7.977259</td>\n",
       "      <td>-499.516126</td>\n",
       "      <td>5.933319</td>\n",
       "      <td>-499.965973</td>\n",
       "      <td>8.987171</td>\n",
       "      <td>-499.755909</td>\n",
       "    </tr>\n",
       "    <tr>\n",
       "      <th>5852</th>\n",
       "      <td>172.910270</td>\n",
       "      <td>16.002605</td>\n",
       "      <td>8.070000</td>\n",
       "      <td>0.896519</td>\n",
       "      <td>1447.075722</td>\n",
       "      <td>-494.716823</td>\n",
       "      <td>1448.851892</td>\n",
       "      <td>-465.963026</td>\n",
       "      <td>1443.890424</td>\n",
       "      <td>-503.587739</td>\n",
       "      <td>...</td>\n",
       "      <td>16.749781</td>\n",
       "      <td>-496.031539</td>\n",
       "      <td>13.365371</td>\n",
       "      <td>-499.122723</td>\n",
       "      <td>9.288553</td>\n",
       "      <td>-496.892967</td>\n",
       "      <td>7.372897</td>\n",
       "      <td>-499.942956</td>\n",
       "      <td>8.986832</td>\n",
       "      <td>-499.903761</td>\n",
       "    </tr>\n",
       "    <tr>\n",
       "      <th>5853</th>\n",
       "      <td>171.135718</td>\n",
       "      <td>15.993669</td>\n",
       "      <td>8.070000</td>\n",
       "      <td>1.165996</td>\n",
       "      <td>1498.836182</td>\n",
       "      <td>-501.770403</td>\n",
       "      <td>1499.572353</td>\n",
       "      <td>-495.516347</td>\n",
       "      <td>1502.749213</td>\n",
       "      <td>-520.667442</td>\n",
       "      <td>...</td>\n",
       "      <td>19.994130</td>\n",
       "      <td>-499.791312</td>\n",
       "      <td>15.101425</td>\n",
       "      <td>-499.936252</td>\n",
       "      <td>10.989181</td>\n",
       "      <td>-498.347898</td>\n",
       "      <td>9.020944</td>\n",
       "      <td>-500.040448</td>\n",
       "      <td>8.982038</td>\n",
       "      <td>-497.789882</td>\n",
       "    </tr>\n",
       "    <tr>\n",
       "      <th>5854</th>\n",
       "      <td>179.697158</td>\n",
       "      <td>15.438979</td>\n",
       "      <td>8.070000</td>\n",
       "      <td>1.501068</td>\n",
       "      <td>1498.466243</td>\n",
       "      <td>-500.483984</td>\n",
       "      <td>1497.986986</td>\n",
       "      <td>-519.200340</td>\n",
       "      <td>1496.569047</td>\n",
       "      <td>-487.479567</td>\n",
       "      <td>...</td>\n",
       "      <td>19.958760</td>\n",
       "      <td>-499.958750</td>\n",
       "      <td>15.026853</td>\n",
       "      <td>-499.723143</td>\n",
       "      <td>11.011607</td>\n",
       "      <td>-499.985046</td>\n",
       "      <td>9.009783</td>\n",
       "      <td>-499.937902</td>\n",
       "      <td>9.012660</td>\n",
       "      <td>-500.154284</td>\n",
       "    </tr>\n",
       "    <tr>\n",
       "      <th>5855</th>\n",
       "      <td>181.556856</td>\n",
       "      <td>14.995850</td>\n",
       "      <td>8.070000</td>\n",
       "      <td>1.623454</td>\n",
       "      <td>1498.096303</td>\n",
       "      <td>-499.796922</td>\n",
       "      <td>1501.743791</td>\n",
       "      <td>-505.146931</td>\n",
       "      <td>1499.535978</td>\n",
       "      <td>-492.428226</td>\n",
       "      <td>...</td>\n",
       "      <td>20.034715</td>\n",
       "      <td>-500.728588</td>\n",
       "      <td>14.914199</td>\n",
       "      <td>-499.948518</td>\n",
       "      <td>10.986607</td>\n",
       "      <td>-500.658027</td>\n",
       "      <td>8.989497</td>\n",
       "      <td>-500.337588</td>\n",
       "      <td>8.988632</td>\n",
       "      <td>-500.764937</td>\n",
       "    </tr>\n",
       "  </tbody>\n",
       "</table>\n",
       "<p>5856 rows × 52 columns</p>\n",
       "</div>"
      ],
      "text/plain": [
       "      primary_cleaner.input.sulfate  primary_cleaner.input.depressant  \\\n",
       "0                        210.800909                         14.993118   \n",
       "1                        215.392455                         14.987471   \n",
       "2                        215.259946                         12.884934   \n",
       "3                        215.336236                         12.006805   \n",
       "4                        199.099327                         10.682530   \n",
       "...                             ...                               ...   \n",
       "5851                     173.957757                         15.963399   \n",
       "5852                     172.910270                         16.002605   \n",
       "5853                     171.135718                         15.993669   \n",
       "5854                     179.697158                         15.438979   \n",
       "5855                     181.556856                         14.995850   \n",
       "\n",
       "      primary_cleaner.input.feed_size  primary_cleaner.input.xanthate  \\\n",
       "0                            8.080000                        1.005021   \n",
       "1                            8.080000                        0.990469   \n",
       "2                            7.786667                        0.996043   \n",
       "3                            7.640000                        0.863514   \n",
       "4                            7.530000                        0.805575   \n",
       "...                               ...                             ...   \n",
       "5851                         8.070000                        0.896701   \n",
       "5852                         8.070000                        0.896519   \n",
       "5853                         8.070000                        1.165996   \n",
       "5854                         8.070000                        1.501068   \n",
       "5855                         8.070000                        1.623454   \n",
       "\n",
       "      primary_cleaner.state.floatbank8_a_air  \\\n",
       "0                                1398.981301   \n",
       "1                                1398.777912   \n",
       "2                                1398.493666   \n",
       "3                                1399.618111   \n",
       "4                                1401.268123   \n",
       "...                                      ...   \n",
       "5851                             1401.930554   \n",
       "5852                             1447.075722   \n",
       "5853                             1498.836182   \n",
       "5854                             1498.466243   \n",
       "5855                             1498.096303   \n",
       "\n",
       "      primary_cleaner.state.floatbank8_a_level  \\\n",
       "0                                  -500.225577   \n",
       "1                                  -500.057435   \n",
       "2                                  -500.868360   \n",
       "3                                  -498.863574   \n",
       "4                                  -500.808305   \n",
       "...                                        ...   \n",
       "5851                               -499.728848   \n",
       "5852                               -494.716823   \n",
       "5853                               -501.770403   \n",
       "5854                               -500.483984   \n",
       "5855                               -499.796922   \n",
       "\n",
       "      primary_cleaner.state.floatbank8_b_air  \\\n",
       "0                                1399.144926   \n",
       "1                                1398.055362   \n",
       "2                                1398.860436   \n",
       "3                                1397.440120   \n",
       "4                                1398.128818   \n",
       "...                                      ...   \n",
       "5851                             1401.441445   \n",
       "5852                             1448.851892   \n",
       "5853                             1499.572353   \n",
       "5854                             1497.986986   \n",
       "5855                             1501.743791   \n",
       "\n",
       "      primary_cleaner.state.floatbank8_b_level  \\\n",
       "0                                  -499.919735   \n",
       "1                                  -499.778182   \n",
       "2                                  -499.764529   \n",
       "3                                  -499.211024   \n",
       "4                                  -499.504543   \n",
       "...                                        ...   \n",
       "5851                               -499.193423   \n",
       "5852                               -465.963026   \n",
       "5853                               -495.516347   \n",
       "5854                               -519.200340   \n",
       "5855                               -505.146931   \n",
       "\n",
       "      primary_cleaner.state.floatbank8_c_air  \\\n",
       "0                                1400.102998   \n",
       "1                                1396.151033   \n",
       "2                                1398.075709   \n",
       "3                                1400.129303   \n",
       "4                                1402.172226   \n",
       "...                                      ...   \n",
       "5851                             1399.810313   \n",
       "5852                             1443.890424   \n",
       "5853                             1502.749213   \n",
       "5854                             1496.569047   \n",
       "5855                             1499.535978   \n",
       "\n",
       "      primary_cleaner.state.floatbank8_c_level  ...  \\\n",
       "0                                  -500.704369  ...   \n",
       "1                                  -499.240168  ...   \n",
       "2                                  -502.151509  ...   \n",
       "3                                  -498.355873  ...   \n",
       "4                                  -500.810606  ...   \n",
       "...                                        ...  ...   \n",
       "5851                               -499.599127  ...   \n",
       "5852                               -503.587739  ...   \n",
       "5853                               -520.667442  ...   \n",
       "5854                               -487.479567  ...   \n",
       "5855                               -492.428226  ...   \n",
       "\n",
       "      secondary_cleaner.state.floatbank4_a_air  \\\n",
       "0                                    12.023554   \n",
       "1                                    12.058140   \n",
       "2                                    11.962366   \n",
       "3                                    12.033091   \n",
       "4                                    12.025367   \n",
       "...                                        ...   \n",
       "5851                                 13.995957   \n",
       "5852                                 16.749781   \n",
       "5853                                 19.994130   \n",
       "5854                                 19.958760   \n",
       "5855                                 20.034715   \n",
       "\n",
       "      secondary_cleaner.state.floatbank4_a_level  \\\n",
       "0                                    -497.795834   \n",
       "1                                    -498.695773   \n",
       "2                                    -498.767484   \n",
       "3                                    -498.350935   \n",
       "4                                    -500.786497   \n",
       "...                                          ...   \n",
       "5851                                 -500.157454   \n",
       "5852                                 -496.031539   \n",
       "5853                                 -499.791312   \n",
       "5854                                 -499.958750   \n",
       "5855                                 -500.728588   \n",
       "\n",
       "      secondary_cleaner.state.floatbank4_b_air  \\\n",
       "0                                     8.016656   \n",
       "1                                     8.130979   \n",
       "2                                     8.096893   \n",
       "3                                     8.074946   \n",
       "4                                     8.054678   \n",
       "...                                        ...   \n",
       "5851                                 12.069155   \n",
       "5852                                 13.365371   \n",
       "5853                                 15.101425   \n",
       "5854                                 15.026853   \n",
       "5855                                 14.914199   \n",
       "\n",
       "      secondary_cleaner.state.floatbank4_b_level  \\\n",
       "0                                    -501.289139   \n",
       "1                                    -499.634209   \n",
       "2                                    -500.827423   \n",
       "3                                    -499.474407   \n",
       "4                                    -500.397500   \n",
       "...                                          ...   \n",
       "5851                                 -499.673279   \n",
       "5852                                 -499.122723   \n",
       "5853                                 -499.936252   \n",
       "5854                                 -499.723143   \n",
       "5855                                 -499.948518   \n",
       "\n",
       "      secondary_cleaner.state.floatbank5_a_air  \\\n",
       "0                                     7.946562   \n",
       "1                                     7.958270   \n",
       "2                                     8.071056   \n",
       "3                                     7.897085   \n",
       "4                                     8.107890   \n",
       "...                                        ...   \n",
       "5851                                  7.977259   \n",
       "5852                                  9.288553   \n",
       "5853                                 10.989181   \n",
       "5854                                 11.011607   \n",
       "5855                                 10.986607   \n",
       "\n",
       "      secondary_cleaner.state.floatbank5_a_level  \\\n",
       "0                                    -432.317850   \n",
       "1                                    -525.839648   \n",
       "2                                    -500.801673   \n",
       "3                                    -500.868509   \n",
       "4                                    -509.526725   \n",
       "...                                          ...   \n",
       "5851                                 -499.516126   \n",
       "5852                                 -496.892967   \n",
       "5853                                 -498.347898   \n",
       "5854                                 -499.985046   \n",
       "5855                                 -500.658027   \n",
       "\n",
       "      secondary_cleaner.state.floatbank5_b_air  \\\n",
       "0                                     4.872511   \n",
       "1                                     4.878850   \n",
       "2                                     4.905125   \n",
       "3                                     4.931400   \n",
       "4                                     4.957674   \n",
       "...                                        ...   \n",
       "5851                                  5.933319   \n",
       "5852                                  7.372897   \n",
       "5853                                  9.020944   \n",
       "5854                                  9.009783   \n",
       "5855                                  8.989497   \n",
       "\n",
       "      secondary_cleaner.state.floatbank5_b_level  \\\n",
       "0                                    -500.037437   \n",
       "1                                    -500.162375   \n",
       "2                                    -499.828510   \n",
       "3                                    -499.963623   \n",
       "4                                    -500.360026   \n",
       "...                                          ...   \n",
       "5851                                 -499.965973   \n",
       "5852                                 -499.942956   \n",
       "5853                                 -500.040448   \n",
       "5854                                 -499.937902   \n",
       "5855                                 -500.337588   \n",
       "\n",
       "      secondary_cleaner.state.floatbank6_a_air  \\\n",
       "0                                    26.705889   \n",
       "1                                    25.019940   \n",
       "2                                    24.994862   \n",
       "3                                    24.948919   \n",
       "4                                    25.003331   \n",
       "...                                        ...   \n",
       "5851                                  8.987171   \n",
       "5852                                  8.986832   \n",
       "5853                                  8.982038   \n",
       "5854                                  9.012660   \n",
       "5855                                  8.988632   \n",
       "\n",
       "      secondary_cleaner.state.floatbank6_a_level  \n",
       "0                                    -499.709414  \n",
       "1                                    -499.819438  \n",
       "2                                    -500.622559  \n",
       "3                                    -498.709987  \n",
       "4                                    -500.856333  \n",
       "...                                          ...  \n",
       "5851                                 -499.755909  \n",
       "5852                                 -499.903761  \n",
       "5853                                 -497.789882  \n",
       "5854                                 -500.154284  \n",
       "5855                                 -500.764937  \n",
       "\n",
       "[5856 rows x 52 columns]"
      ]
     },
     "execution_count": 27,
     "metadata": {},
     "output_type": "execute_result"
    }
   ],
   "source": [
    "features_test"
   ]
  },
  {
   "cell_type": "markdown",
   "id": "7bbac80a-b818-439c-bf8b-777249b4bfe3",
   "metadata": {},
   "source": [
    "Let's again shuffle the observations."
   ]
  },
  {
   "cell_type": "code",
   "execution_count": 28,
   "id": "222cf73c-3478-4e69-9f9a-6a11d361d827",
   "metadata": {},
   "outputs": [],
   "source": [
    "features_test = features_test.sample(frac=1, random_state=0)\n",
    "target_test = target_test.sample(frac=1, random_state=0)\n",
    "\n",
    "conc_test = conc_test.sample(frac=1, random_state=0)"
   ]
  },
  {
   "cell_type": "code",
   "execution_count": 29,
   "id": "5f625120-4802-45c5-a3cc-b79311fbb8fc",
   "metadata": {},
   "outputs": [
    {
     "data": {
      "text/html": [
       "<div>\n",
       "<style scoped>\n",
       "    .dataframe tbody tr th:only-of-type {\n",
       "        vertical-align: middle;\n",
       "    }\n",
       "\n",
       "    .dataframe tbody tr th {\n",
       "        vertical-align: top;\n",
       "    }\n",
       "\n",
       "    .dataframe thead th {\n",
       "        text-align: right;\n",
       "    }\n",
       "</style>\n",
       "<table border=\"1\" class=\"dataframe\">\n",
       "  <thead>\n",
       "    <tr style=\"text-align: right;\">\n",
       "      <th></th>\n",
       "      <th>primary_cleaner.input.sulfate</th>\n",
       "      <th>primary_cleaner.input.depressant</th>\n",
       "      <th>primary_cleaner.input.feed_size</th>\n",
       "      <th>primary_cleaner.input.xanthate</th>\n",
       "      <th>primary_cleaner.state.floatbank8_a_air</th>\n",
       "      <th>primary_cleaner.state.floatbank8_a_level</th>\n",
       "      <th>primary_cleaner.state.floatbank8_b_air</th>\n",
       "      <th>primary_cleaner.state.floatbank8_b_level</th>\n",
       "      <th>primary_cleaner.state.floatbank8_c_air</th>\n",
       "      <th>primary_cleaner.state.floatbank8_c_level</th>\n",
       "      <th>...</th>\n",
       "      <th>secondary_cleaner.state.floatbank4_a_air</th>\n",
       "      <th>secondary_cleaner.state.floatbank4_a_level</th>\n",
       "      <th>secondary_cleaner.state.floatbank4_b_air</th>\n",
       "      <th>secondary_cleaner.state.floatbank4_b_level</th>\n",
       "      <th>secondary_cleaner.state.floatbank5_a_air</th>\n",
       "      <th>secondary_cleaner.state.floatbank5_a_level</th>\n",
       "      <th>secondary_cleaner.state.floatbank5_b_air</th>\n",
       "      <th>secondary_cleaner.state.floatbank5_b_level</th>\n",
       "      <th>secondary_cleaner.state.floatbank6_a_air</th>\n",
       "      <th>secondary_cleaner.state.floatbank6_a_level</th>\n",
       "    </tr>\n",
       "  </thead>\n",
       "  <tbody>\n",
       "    <tr>\n",
       "      <th>4031</th>\n",
       "      <td>213.043191</td>\n",
       "      <td>6.490066</td>\n",
       "      <td>6.65</td>\n",
       "      <td>2.391526</td>\n",
       "      <td>1502.139909</td>\n",
       "      <td>-499.100848</td>\n",
       "      <td>1502.129624</td>\n",
       "      <td>-488.368088</td>\n",
       "      <td>1496.555007</td>\n",
       "      <td>-506.723378</td>\n",
       "      <td>...</td>\n",
       "      <td>17.994600</td>\n",
       "      <td>-499.358412</td>\n",
       "      <td>16.006259</td>\n",
       "      <td>-399.352233</td>\n",
       "      <td>12.955698</td>\n",
       "      <td>-499.834036</td>\n",
       "      <td>9.945527</td>\n",
       "      <td>-499.959387</td>\n",
       "      <td>13.986509</td>\n",
       "      <td>-499.566150</td>\n",
       "    </tr>\n",
       "    <tr>\n",
       "      <th>1790</th>\n",
       "      <td>221.732738</td>\n",
       "      <td>8.684621</td>\n",
       "      <td>7.16</td>\n",
       "      <td>0.945199</td>\n",
       "      <td>1596.039863</td>\n",
       "      <td>-500.679427</td>\n",
       "      <td>1601.048421</td>\n",
       "      <td>-500.211949</td>\n",
       "      <td>1598.080722</td>\n",
       "      <td>-509.774330</td>\n",
       "      <td>...</td>\n",
       "      <td>15.971493</td>\n",
       "      <td>-501.032805</td>\n",
       "      <td>13.984239</td>\n",
       "      <td>-502.369591</td>\n",
       "      <td>14.882311</td>\n",
       "      <td>-501.346112</td>\n",
       "      <td>14.022224</td>\n",
       "      <td>-500.334287</td>\n",
       "      <td>22.003192</td>\n",
       "      <td>-503.541797</td>\n",
       "    </tr>\n",
       "  </tbody>\n",
       "</table>\n",
       "<p>2 rows × 52 columns</p>\n",
       "</div>"
      ],
      "text/plain": [
       "      primary_cleaner.input.sulfate  primary_cleaner.input.depressant  \\\n",
       "4031                     213.043191                          6.490066   \n",
       "1790                     221.732738                          8.684621   \n",
       "\n",
       "      primary_cleaner.input.feed_size  primary_cleaner.input.xanthate  \\\n",
       "4031                             6.65                        2.391526   \n",
       "1790                             7.16                        0.945199   \n",
       "\n",
       "      primary_cleaner.state.floatbank8_a_air  \\\n",
       "4031                             1502.139909   \n",
       "1790                             1596.039863   \n",
       "\n",
       "      primary_cleaner.state.floatbank8_a_level  \\\n",
       "4031                               -499.100848   \n",
       "1790                               -500.679427   \n",
       "\n",
       "      primary_cleaner.state.floatbank8_b_air  \\\n",
       "4031                             1502.129624   \n",
       "1790                             1601.048421   \n",
       "\n",
       "      primary_cleaner.state.floatbank8_b_level  \\\n",
       "4031                               -488.368088   \n",
       "1790                               -500.211949   \n",
       "\n",
       "      primary_cleaner.state.floatbank8_c_air  \\\n",
       "4031                             1496.555007   \n",
       "1790                             1598.080722   \n",
       "\n",
       "      primary_cleaner.state.floatbank8_c_level  ...  \\\n",
       "4031                               -506.723378  ...   \n",
       "1790                               -509.774330  ...   \n",
       "\n",
       "      secondary_cleaner.state.floatbank4_a_air  \\\n",
       "4031                                 17.994600   \n",
       "1790                                 15.971493   \n",
       "\n",
       "      secondary_cleaner.state.floatbank4_a_level  \\\n",
       "4031                                 -499.358412   \n",
       "1790                                 -501.032805   \n",
       "\n",
       "      secondary_cleaner.state.floatbank4_b_air  \\\n",
       "4031                                 16.006259   \n",
       "1790                                 13.984239   \n",
       "\n",
       "      secondary_cleaner.state.floatbank4_b_level  \\\n",
       "4031                                 -399.352233   \n",
       "1790                                 -502.369591   \n",
       "\n",
       "      secondary_cleaner.state.floatbank5_a_air  \\\n",
       "4031                                 12.955698   \n",
       "1790                                 14.882311   \n",
       "\n",
       "      secondary_cleaner.state.floatbank5_a_level  \\\n",
       "4031                                 -499.834036   \n",
       "1790                                 -501.346112   \n",
       "\n",
       "      secondary_cleaner.state.floatbank5_b_air  \\\n",
       "4031                                  9.945527   \n",
       "1790                                 14.022224   \n",
       "\n",
       "      secondary_cleaner.state.floatbank5_b_level  \\\n",
       "4031                                 -499.959387   \n",
       "1790                                 -500.334287   \n",
       "\n",
       "      secondary_cleaner.state.floatbank6_a_air  \\\n",
       "4031                                 13.986509   \n",
       "1790                                 22.003192   \n",
       "\n",
       "      secondary_cleaner.state.floatbank6_a_level  \n",
       "4031                                 -499.566150  \n",
       "1790                                 -503.541797  \n",
       "\n",
       "[2 rows x 52 columns]"
      ]
     },
     "execution_count": 29,
     "metadata": {},
     "output_type": "execute_result"
    }
   ],
   "source": [
    "features_test.head(2)"
   ]
  },
  {
   "cell_type": "code",
   "execution_count": 30,
   "id": "1014642c-733a-4357-9c80-dce3b837b360",
   "metadata": {
    "scrolled": true
   },
   "outputs": [
    {
     "data": {
      "text/html": [
       "<div>\n",
       "<style scoped>\n",
       "    .dataframe tbody tr th:only-of-type {\n",
       "        vertical-align: middle;\n",
       "    }\n",
       "\n",
       "    .dataframe tbody tr th {\n",
       "        vertical-align: top;\n",
       "    }\n",
       "\n",
       "    .dataframe thead th {\n",
       "        text-align: right;\n",
       "    }\n",
       "</style>\n",
       "<table border=\"1\" class=\"dataframe\">\n",
       "  <thead>\n",
       "    <tr style=\"text-align: right;\">\n",
       "      <th></th>\n",
       "      <th>rougher.output.recovery</th>\n",
       "      <th>final.output.recovery</th>\n",
       "    </tr>\n",
       "  </thead>\n",
       "  <tbody>\n",
       "    <tr>\n",
       "      <th>4031</th>\n",
       "      <td>88.072093</td>\n",
       "      <td>64.915883</td>\n",
       "    </tr>\n",
       "    <tr>\n",
       "      <th>1790</th>\n",
       "      <td>88.831665</td>\n",
       "      <td>68.178405</td>\n",
       "    </tr>\n",
       "  </tbody>\n",
       "</table>\n",
       "</div>"
      ],
      "text/plain": [
       "      rougher.output.recovery  final.output.recovery\n",
       "4031                88.072093              64.915883\n",
       "1790                88.831665              68.178405"
      ]
     },
     "execution_count": 30,
     "metadata": {},
     "output_type": "execute_result"
    }
   ],
   "source": [
    "target_test.head(2)"
   ]
  },
  {
   "cell_type": "code",
   "execution_count": 31,
   "id": "fa2e67bb",
   "metadata": {},
   "outputs": [
    {
     "data": {
      "text/html": [
       "<div>\n",
       "<style scoped>\n",
       "    .dataframe tbody tr th:only-of-type {\n",
       "        vertical-align: middle;\n",
       "    }\n",
       "\n",
       "    .dataframe tbody tr th {\n",
       "        vertical-align: top;\n",
       "    }\n",
       "\n",
       "    .dataframe thead th {\n",
       "        text-align: right;\n",
       "    }\n",
       "</style>\n",
       "<table border=\"1\" class=\"dataframe\">\n",
       "  <thead>\n",
       "    <tr style=\"text-align: right;\">\n",
       "      <th></th>\n",
       "      <th>final.output.concentrate_au</th>\n",
       "      <th>rougher.output.concentrate_au</th>\n",
       "      <th>rougher.input.feed_au</th>\n",
       "      <th>final.output.concentrate_ag</th>\n",
       "      <th>rougher.output.concentrate_ag</th>\n",
       "      <th>rougher.input.feed_ag</th>\n",
       "      <th>final.output.concentrate_pb</th>\n",
       "      <th>rougher.output.concentrate_pb</th>\n",
       "      <th>rougher.input.feed_pb</th>\n",
       "      <th>final.output.concentrate_sol</th>\n",
       "      <th>rougher.output.concentrate_sol</th>\n",
       "      <th>rougher.input.feed_sol</th>\n",
       "    </tr>\n",
       "  </thead>\n",
       "  <tbody>\n",
       "    <tr>\n",
       "      <th>4031</th>\n",
       "      <td>45.718941</td>\n",
       "      <td>19.005760</td>\n",
       "      <td>7.504443</td>\n",
       "      <td>4.494467</td>\n",
       "      <td>11.432113</td>\n",
       "      <td>6.753147</td>\n",
       "      <td>10.835033</td>\n",
       "      <td>8.504521</td>\n",
       "      <td>3.435767</td>\n",
       "      <td>8.948104</td>\n",
       "      <td>31.654671</td>\n",
       "      <td>46.005772</td>\n",
       "    </tr>\n",
       "    <tr>\n",
       "      <th>1790</th>\n",
       "      <td>48.785532</td>\n",
       "      <td>20.990325</td>\n",
       "      <td>9.548833</td>\n",
       "      <td>3.641227</td>\n",
       "      <td>12.273978</td>\n",
       "      <td>9.285046</td>\n",
       "      <td>8.652598</td>\n",
       "      <td>7.361151</td>\n",
       "      <td>3.752739</td>\n",
       "      <td>10.491327</td>\n",
       "      <td>27.124606</td>\n",
       "      <td>39.443913</td>\n",
       "    </tr>\n",
       "  </tbody>\n",
       "</table>\n",
       "</div>"
      ],
      "text/plain": [
       "      final.output.concentrate_au  rougher.output.concentrate_au  \\\n",
       "4031                    45.718941                      19.005760   \n",
       "1790                    48.785532                      20.990325   \n",
       "\n",
       "      rougher.input.feed_au  final.output.concentrate_ag  \\\n",
       "4031               7.504443                     4.494467   \n",
       "1790               9.548833                     3.641227   \n",
       "\n",
       "      rougher.output.concentrate_ag  rougher.input.feed_ag  \\\n",
       "4031                      11.432113               6.753147   \n",
       "1790                      12.273978               9.285046   \n",
       "\n",
       "      final.output.concentrate_pb  rougher.output.concentrate_pb  \\\n",
       "4031                    10.835033                       8.504521   \n",
       "1790                     8.652598                       7.361151   \n",
       "\n",
       "      rougher.input.feed_pb  final.output.concentrate_sol  \\\n",
       "4031               3.435767                      8.948104   \n",
       "1790               3.752739                     10.491327   \n",
       "\n",
       "      rougher.output.concentrate_sol  rougher.input.feed_sol  \n",
       "4031                       31.654671               46.005772  \n",
       "1790                       27.124606               39.443913  "
      ]
     },
     "execution_count": 31,
     "metadata": {},
     "output_type": "execute_result"
    }
   ],
   "source": [
    "conc_test.head(2)"
   ]
  },
  {
   "cell_type": "markdown",
   "id": "bc56c3c7-6a8a-41b3-8c9b-826dc6cab2b9",
   "metadata": {},
   "source": [
    "I have visually verified that the features and the targets match indexes."
   ]
  },
  {
   "cell_type": "markdown",
   "id": "f5ede14a-4340-48cd-9b38-8e57b0a74954",
   "metadata": {
    "toc-hr-collapsed": true
   },
   "source": [
    "# Analyze Data"
   ]
  },
  {
   "cell_type": "markdown",
   "id": "a0edd6ab-8d9e-40b6-baec-5da7ee18151f",
   "metadata": {},
   "source": [
    "## Check concentrations of metals"
   ]
  },
  {
   "cell_type": "markdown",
   "id": "64fab4f2-99a8-4890-9f45-41698c2ccd29",
   "metadata": {},
   "source": [
    "Let's see how the concentrations of the metals vary with stage of extraction. I will use the full dataset for this. I predict that the concentration of gold will increase, while the concentrations of silver and lead will decrease."
   ]
  },
  {
   "cell_type": "code",
   "execution_count": 32,
   "id": "ce0a672c-d8ec-4fa0-9a76-5c460ad576ab",
   "metadata": {},
   "outputs": [],
   "source": [
    "def metals_eda(metal):\n",
    "    \n",
    "    \"\"\"\n",
    "    This function takes a string as input that represents the metal I wish to evaluate concentration distributions for. \n",
    "    \n",
    "    For each metal I want to look at both the distributions for concentrations for the concentrates and the tails, \n",
    "        in the form of boxplots ordered from raw feed to final stage. \n",
    "    \"\"\"\n",
    "    \n",
    "    conc_cols = ['rougher.input.feed_', 'rougher.output.concentrate_', 'primary_cleaner.output.concentrate_', \\\n",
    "                 'final.output.concentrate_']\n",
    "    conc_cols = [column + metal for column in conc_cols]\n",
    "    \n",
    "    tail_cols = ['rougher.input.feed_', 'rougher.output.tail_', 'primary_cleaner.output.tail_', \\\n",
    "                 'secondary_cleaner.output.tail_', 'final.output.tail_']\n",
    "    tail_cols = [column + metal for column in tail_cols]\n",
    "    \n",
    "    plt.figure(figsize=(14,4))\n",
    "    sns.boxplot(data=full[conc_cols])\n",
    "    plt.title(f\"Concentration of concentrate at each stage for {metal.capitalize()}\")\n",
    "    \n",
    "    plt.figure(figsize=(14,4))\n",
    "    sns.boxplot(data=full[tail_cols])\n",
    "    plt.title(f\"Concentration of tail at each stage for {metal.capitalize()}\")"
   ]
  },
  {
   "cell_type": "markdown",
   "id": "8156db67-cc19-4c5d-af7d-cf3521543c72",
   "metadata": {},
   "source": [
    "Let's check gold first (Au)."
   ]
  },
  {
   "cell_type": "code",
   "execution_count": 33,
   "id": "b9b50588-8670-45a4-bed9-f3a14f139d40",
   "metadata": {},
   "outputs": [
    {
     "data": {
      "image/png": "[encoded data removed]",
      "text/plain": [
       "<Figure size 1008x288 with 1 Axes>"
      ]
     },
     "metadata": {
      "needs_background": "light"
     },
     "output_type": "display_data"
    },
    {
     "data": {
      "image/png": "[encoded data removed]",
      "text/plain": [
       "<Figure size 1008x288 with 1 Axes>"
      ]
     },
     "metadata": {
      "needs_background": "light"
     },
     "output_type": "display_data"
    }
   ],
   "source": [
    "metals_eda('au')"
   ]
  },
  {
   "cell_type": "markdown",
   "id": "4c97c661-ca86-4df9-bee0-a5f9f85e6ba9",
   "metadata": {},
   "source": [
    "Excellent - as expected, the concentration of gold concentrate increases through the stages of the extraction process. The concentration of gold in the tails stays fairly low throughout the process, which is good, because ideally, there would be zero gold in the tails for the gold extraction process. The concentration of gold starts at around 10 and finishes at nearly 50 by the end of the process. There seem to be a number of outliers where final gold concentration is low in concentrate but high in the tails, which is far from ideal."
   ]
  },
  {
   "cell_type": "code",
   "execution_count": 34,
   "id": "4186a1ac-e8c6-49fb-8aad-156a7fc77fa4",
   "metadata": {},
   "outputs": [
    {
     "data": {
      "image/png": "[encoded data removed]",
      "text/plain": [
       "<Figure size 1008x288 with 1 Axes>"
      ]
     },
     "metadata": {
      "needs_background": "light"
     },
     "output_type": "display_data"
    },
    {
     "data": {
      "image/png": "[encoded data removed]",
      "text/plain": [
       "<Figure size 1008x288 with 1 Axes>"
      ]
     },
     "metadata": {
      "needs_background": "light"
     },
     "output_type": "display_data"
    }
   ],
   "source": [
    "metals_eda('pb')"
   ]
  },
  {
   "cell_type": "markdown",
   "id": "e957a468-6c36-46ad-805e-40c386166707",
   "metadata": {},
   "source": [
    "The concentration of lead starts low at around 3 but rises to around 10 by the end, which is still much less than the gold. The tail concentration fluctuates a bit but stays in the same general range throughout the process. "
   ]
  },
  {
   "cell_type": "code",
   "execution_count": 35,
   "id": "22162184-7509-438a-b328-4b33fd21ca44",
   "metadata": {},
   "outputs": [
    {
     "data": {
      "image/png": "[encoded data removed]",
      "text/plain": [
       "<Figure size 1008x288 with 1 Axes>"
      ]
     },
     "metadata": {
      "needs_background": "light"
     },
     "output_type": "display_data"
    },
    {
     "data": {
      "image/png": "[encoded data removed]",
      "text/plain": [
       "<Figure size 1008x288 with 1 Axes>"
      ]
     },
     "metadata": {
      "needs_background": "light"
     },
     "output_type": "display_data"
    }
   ],
   "source": [
    "metals_eda('ag')"
   ]
  },
  {
   "cell_type": "markdown",
   "id": "d3956ab9-a972-4a48-898f-f8f87af332c7",
   "metadata": {},
   "source": [
    "Silver concentration in the concentrate rises after the rougher stage but ultimately is lower than its starting concentration by the end of the process. There is a fairly high concentration of silver in the tails at each stage. The purification process seems to do a better job at reducing the concentration of silver than it does lead."
   ]
  },
  {
   "cell_type": "markdown",
   "id": "2a740c41-53b5-4c72-bdae-034f84f62d9d",
   "metadata": {
    "tags": []
   },
   "source": [
    "## Remove flawed observations"
   ]
  },
  {
   "cell_type": "markdown",
   "id": "26c3e9ab-d210-488b-bd9d-42cc593afe2f",
   "metadata": {},
   "source": [
    "Looking at the boxplots from earlier, I notice that a number of final gold concentrations are very low. These may be normal observations if the final concentrations are at least greater than the original input concentration - but, I want to see what happens to the length of the training and test datasets if I remove observations where the final concentration of gold is lower than or equal to the concentration of gold in the input feed, as this should not happen in a gold extraction process. This relationship should be extremely uncommon. Below I will write a function that will allow me to compare these values and edit the dataframes, along with allowing me to compare any other values I wish."
   ]
  },
  {
   "cell_type": "code",
   "execution_count": 36,
   "id": "a274fa1f-f0b8-4146-af96-e401be6d0ce3",
   "metadata": {
    "tags": []
   },
   "outputs": [],
   "source": [
    "def trim_rows(features_df, target_df, conc_df, features_col=0, target_col=0, condition='greater', indexes=0):\n",
    "    \n",
    "    \"\"\"\n",
    "    This function trims rows from a set of three dataframes (training or testing sets, plus concentrations set) based on \n",
    "        a certain measurement from one dataframe being greater or less than the other. \n",
    "    \n",
    "    Takes each of the two dataframes as input, then the concentrations dataframe, then the columns that I wish to compare. \n",
    "        The \"greater\" toggle is set to True but can be set to False to change the direction of the comparison.\n",
    "    \n",
    "    The function prints the original length and the new length, and returns the three dataframes as a tuple.\n",
    "    \"\"\"\n",
    "    \n",
    "    print(\"Length of original dataframes:\", features_df.shape[0])\n",
    "    \n",
    "    if condition == 'greater':\n",
    "        bad_rows = features_df[features_df[features_col] >= conc_df[target_col]].index\n",
    "    elif condition == 'less':\n",
    "        bad_rows = features_df[features_df[features_col] <= conc_df[target_col]].index\n",
    "    else:\n",
    "        bad_rows = indexes\n",
    "\n",
    "    features_df = features_df.drop(bad_rows, errors='ignore')\n",
    "    target_df = target_df.drop(bad_rows, errors='ignore')\n",
    "    conc_df = conc_df.drop(bad_rows, errors='ignore')\n",
    "     \n",
    "    print(\"Length of trimmed dataframes:\", features_df.shape[0])\n",
    "    \n",
    "    return features_df, target_df, conc_df"
   ]
  },
  {
   "cell_type": "markdown",
   "id": "042dc928-1530-4ddf-8c83-9e608b4fc4af",
   "metadata": {},
   "source": [
    "Let's first trim down the training set, removing observations where the concentration of gold at any of the advanced stages is the same as or less than the original concentration."
   ]
  },
  {
   "cell_type": "code",
   "execution_count": 37,
   "id": "2f739fb6-f019-4e1b-a967-6c80e9c1b631",
   "metadata": {},
   "outputs": [
    {
     "name": "stdout",
     "output_type": "stream",
     "text": [
      "Length of original dataframes: 16860\n",
      "Length of trimmed dataframes: 14703\n"
     ]
    }
   ],
   "source": [
    "features_train, target_train, conc_train = trim_rows(\n",
    "    features_train, target_train, conc_train, 'rougher.input.feed_au', 'rougher.output.concentrate_au')"
   ]
  },
  {
   "cell_type": "code",
   "execution_count": 38,
   "id": "33f6e5cf-badf-4f60-a399-ad89a128e565",
   "metadata": {},
   "outputs": [
    {
     "name": "stdout",
     "output_type": "stream",
     "text": [
      "Length of original dataframes: 14703\n",
      "Length of trimmed dataframes: 14494\n"
     ]
    }
   ],
   "source": [
    "features_train, target_train, conc_train = trim_rows(\n",
    "    features_train, target_train, conc_train, 'rougher.input.feed_au', 'final.output.concentrate_au')"
   ]
  },
  {
   "cell_type": "markdown",
   "id": "e2c80acc-b38b-423a-8261-2a1aa2477598",
   "metadata": {},
   "source": [
    "About 2400 flawed observations were removed. Now let's do the same for the test set."
   ]
  },
  {
   "cell_type": "code",
   "execution_count": 39,
   "id": "f0f6351d-1b92-4404-a99d-17ceeedcc76a",
   "metadata": {},
   "outputs": [
    {
     "name": "stdout",
     "output_type": "stream",
     "text": [
      "Length of original dataframes: 5856\n",
      "Length of trimmed dataframes: 5366\n"
     ]
    }
   ],
   "source": [
    "features_test, target_test, conc_test = trim_rows(\n",
    "    features_test, target_test, conc_test, 'rougher.input.feed_au', 'rougher.output.concentrate_au')"
   ]
  },
  {
   "cell_type": "code",
   "execution_count": 40,
   "id": "3f17acd1-5f6a-4b15-a32d-1b31e6b814e0",
   "metadata": {},
   "outputs": [
    {
     "name": "stdout",
     "output_type": "stream",
     "text": [
      "Length of original dataframes: 5366\n",
      "Length of trimmed dataframes: 5270\n"
     ]
    }
   ],
   "source": [
    "features_test, target_test, conc_test = trim_rows(\n",
    "    features_test, target_test, conc_test, 'rougher.input.feed_au', 'final.output.concentrate_au')"
   ]
  },
  {
   "cell_type": "markdown",
   "id": "00191674-b8f6-4aba-9ddb-dfb37e280457",
   "metadata": {},
   "source": [
    "About 600 flawed observations were removed."
   ]
  },
  {
   "cell_type": "markdown",
   "id": "1fd30176-3c33-4e27-8100-f383743c8760",
   "metadata": {},
   "source": [
    "I do not have any strong feelings towards the relationships between the concentrations of silver or lead at different stages of the extraction process. Based on the boxplots it seems that the concentration of silver rises after the rougher stage but falls after the purification stages, and that the concentration of lead increases throughout the extraction process. A good bit of rows were removed based on the gold concentration values, but we now know that our model will not be affected by these obvious anomalies."
   ]
  },
  {
   "cell_type": "markdown",
   "id": "f6d2125b-cce2-4edc-be24-87c531f58c0e",
   "metadata": {},
   "source": [
    "## Check feed size distributions"
   ]
  },
  {
   "cell_type": "markdown",
   "id": "054dd97e-476f-47cc-8eb1-f417309d64a7",
   "metadata": {},
   "source": [
    "Next we should compare the feed particle size between the training set and the test set to ensure that the distributions are similar."
   ]
  },
  {
   "cell_type": "code",
   "execution_count": 41,
   "id": "8a7aa208-d283-4927-8c7f-4f3b634e5cf4",
   "metadata": {
    "scrolled": true
   },
   "outputs": [
    {
     "data": {
      "text/plain": [
       "<AxesSubplot:title={'center':'Feed size in train vs test sets'}>"
      ]
     },
     "execution_count": 41,
     "metadata": {},
     "output_type": "execute_result"
    },
    {
     "data": {
      "image/png": "[encoded data removed]",
      "text/plain": [
       "<Figure size 288x216 with 1 Axes>"
      ]
     },
     "metadata": {
      "needs_background": "light"
     },
     "output_type": "display_data"
    }
   ],
   "source": [
    "plt.figure(figsize=(4,3))\n",
    "plt.title('Feed size in train vs test sets')\n",
    "\n",
    "mask = 'rougher.input.feed_size'\n",
    "features_train[mask][features_train[mask] <= features_train[mask].quantile(0.985)].hist(alpha=0.6, density=True)\n",
    "features_test[mask][features_test[mask] <= features_test[mask].quantile(0.985)].hist(alpha=0.6, density=True)"
   ]
  },
  {
   "cell_type": "markdown",
   "id": "1de0d34d-d5c5-4455-afeb-88987e7f902d",
   "metadata": {},
   "source": [
    "Distributions are very similar. Both distributions are mostly normal, peaking at around 50 for both distributions, and are a bit right-skewed. We should be able to evaluate the model well. There are some much higher outliers which I omitted from the histogram by using the lower 98.5% of values."
   ]
  },
  {
   "cell_type": "markdown",
   "id": "5e70e4c2",
   "metadata": {},
   "source": [
    "## Total concentrations"
   ]
  },
  {
   "cell_type": "markdown",
   "id": "81f8aecf",
   "metadata": {},
   "source": [
    "I need to investigate the total concentrations of concentrate at each stage of the process - raw feed, rougher concentrate, and final concentrate - and potentially remove abnormal values. Some number of the abnormal values that would have been revealed in this phase may have already been eliminated when I dropped a few thousand observations above, but this will help eliminate more abnormal observations from the datasets."
   ]
  },
  {
   "cell_type": "markdown",
   "id": "a57d4052",
   "metadata": {},
   "source": [
    "Let's sum the concentrations at each stage and plot histograms for each stage for the training set."
   ]
  },
  {
   "cell_type": "code",
   "execution_count": 42,
   "id": "c64ed2f7",
   "metadata": {},
   "outputs": [
    {
     "data": {
      "image/png": "[encoded data removed]",
      "text/plain": [
       "<Figure size 432x288 with 1 Axes>"
      ]
     },
     "metadata": {
      "needs_background": "light"
     },
     "output_type": "display_data"
    },
    {
     "data": {
      "image/png": "[encoded data removed]",
      "text/plain": [
       "<Figure size 432x288 with 1 Axes>"
      ]
     },
     "metadata": {
      "needs_background": "light"
     },
     "output_type": "display_data"
    },
    {
     "data": {
      "image/png": "[encoded data removed]",
      "text/plain": [
       "<Figure size 432x288 with 1 Axes>"
      ]
     },
     "metadata": {
      "needs_background": "light"
     },
     "output_type": "display_data"
    }
   ],
   "source": [
    "input_conc_sums = conc_train['rougher.input.feed_au'] + conc_train['rougher.input.feed_ag'] + conc_train['rougher.input.feed_pb'] + \\\n",
    "    conc_train['rougher.input.feed_sol']\n",
    "input_drop_indexes = input_conc_sums[input_conc_sums < input_conc_sums.quantile(0.015)].index\n",
    "input_conc_sums[input_conc_sums > input_conc_sums.quantile(0.015)].hist()\n",
    "plt.title('Input stage raw feed - training')\n",
    "plt.show()\n",
    "\n",
    "rougher_conc_sums = conc_train['rougher.output.concentrate_au'] + conc_train['rougher.output.concentrate_ag'] + \\\n",
    "    conc_train['rougher.output.concentrate_pb'] + conc_train['rougher.output.concentrate_sol']\n",
    "rougher_drop_indexes = [rougher_conc_sums < rougher_conc_sums.quantile(0.015)].index\n",
    "rougher_conc_sums[rougher_conc_sums > rougher_conc_sums.quantile(0.015)].hist()\n",
    "plt.title('Rougher stage output concentrate - training')\n",
    "plt.show()\n",
    "\n",
    "final_conc_sums = conc_train['final.output.concentrate_au'] + conc_train['final.output.concentrate_ag'] + \\\n",
    "    conc_train['final.output.concentrate_pb'] + conc_train['final.output.concentrate_sol']\n",
    "final_drop_indexes = [final_conc_sums < final_conc_sums.quantile(0.025)].index\n",
    "final_conc_sums[final_conc_sums > final_conc_sums.quantile(0.025)].hist()\n",
    "plt.title('Final stage output concentrate - training')\n",
    "plt.show()"
   ]
  },
  {
   "cell_type": "markdown",
   "id": "e7f0a33e",
   "metadata": {},
   "source": [
    "I have omitted outliers from each histogram with as conservative a cutoff as possible to achieve greater normality. I will drop the outlier values from the training and testing sets using these quantile values."
   ]
  },
  {
   "cell_type": "code",
   "execution_count": 43,
   "id": "6d70bb26",
   "metadata": {},
   "outputs": [
    {
     "name": "stdout",
     "output_type": "stream",
     "text": [
      "Length of original dataframes: 14494\n",
      "Length of trimmed dataframes: 14276\n"
     ]
    }
   ],
   "source": [
    "features_train, target_train, conc_train = trim_rows(\n",
    "    features_train, target_train, conc_train, condition='n', indexes=input_drop_indexes)"
   ]
  },
  {
   "cell_type": "code",
   "execution_count": 44,
   "id": "6b3e6219",
   "metadata": {},
   "outputs": [
    {
     "name": "stdout",
     "output_type": "stream",
     "text": [
      "Length of original dataframes: 14276\n",
      "Length of trimmed dataframes: 14276\n"
     ]
    }
   ],
   "source": [
    "features_train, target_train, conc_train = trim_rows(\n",
    "    features_train, target_train, conc_train, condition='n', indexes=rougher_drop_indexes)"
   ]
  },
  {
   "cell_type": "code",
   "execution_count": 45,
   "id": "1d795b27",
   "metadata": {},
   "outputs": [
    {
     "name": "stdout",
     "output_type": "stream",
     "text": [
      "Length of original dataframes: 14276\n",
      "Length of trimmed dataframes: 14276\n"
     ]
    }
   ],
   "source": [
    "features_train, target_train, conc_train = trim_rows(\n",
    "    features_train, target_train, conc_train, condition='n', indexes=final_drop_indexes)"
   ]
  },
  {
   "cell_type": "markdown",
   "id": "70f35189",
   "metadata": {},
   "source": [
    "Let's move onto the testing set."
   ]
  },
  {
   "cell_type": "code",
   "execution_count": 46,
   "id": "df4df632",
   "metadata": {},
   "outputs": [
    {
     "data": {
      "image/png": "[encoded data removed]",
      "text/plain": [
       "<Figure size 432x288 with 1 Axes>"
      ]
     },
     "metadata": {
      "needs_background": "light"
     },
     "output_type": "display_data"
    },
    {
     "data": {
      "image/png": "[encoded data removed]",
      "text/plain": [
       "<Figure size 432x288 with 1 Axes>"
      ]
     },
     "metadata": {
      "needs_background": "light"
     },
     "output_type": "display_data"
    },
    {
     "data": {
      "image/png": "[encoded data removed]",
      "text/plain": [
       "<Figure size 432x288 with 1 Axes>"
      ]
     },
     "metadata": {
      "needs_background": "light"
     },
     "output_type": "display_data"
    }
   ],
   "source": [
    "input_conc_sums = conc_test['rougher.input.feed_au'] + conc_test['rougher.input.feed_ag'] + conc_test['rougher.input.feed_pb'] + \\\n",
    "    conc_test['rougher.input.feed_sol']\n",
    "input_drop_indexes = input_conc_sums[input_conc_sums < input_conc_sums.quantile(0.015)].index\n",
    "input_conc_sums[input_conc_sums > input_conc_sums.quantile(0.02)].hist()\n",
    "plt.title('Input stage raw feed - test')\n",
    "plt.show()\n",
    "\n",
    "rougher_conc_sums = conc_test['rougher.output.concentrate_au'] + conc_test['rougher.output.concentrate_ag'] + \\\n",
    "    conc_test['rougher.output.concentrate_pb'] + conc_test['rougher.output.concentrate_sol']\n",
    "rougher_drop_indexes = [rougher_conc_sums < rougher_conc_sums.quantile(0.015)].index\n",
    "rougher_conc_sums[rougher_conc_sums > rougher_conc_sums.quantile(0.02)].hist()\n",
    "plt.title('Rougher stage output concentrate - test')\n",
    "plt.show()\n",
    "\n",
    "final_conc_sums = conc_test['final.output.concentrate_au'] + conc_test['final.output.concentrate_ag'] + \\\n",
    "    conc_test['final.output.concentrate_pb'] + conc_test['final.output.concentrate_sol']\n",
    "final_drop_indexes = [final_conc_sums < final_conc_sums.quantile(0.025)].index\n",
    "final_conc_sums[final_conc_sums > final_conc_sums.quantile(0.04)].hist()\n",
    "plt.title('Final stage output concentrate - test')\n",
    "plt.show()"
   ]
  },
  {
   "cell_type": "code",
   "execution_count": 47,
   "id": "4f9546aa",
   "metadata": {},
   "outputs": [
    {
     "name": "stdout",
     "output_type": "stream",
     "text": [
      "Length of original dataframes: 5270\n",
      "Length of trimmed dataframes: 5190\n"
     ]
    }
   ],
   "source": [
    "features_test, target_test, conc_test = trim_rows(\n",
    "    features_test, target_test, conc_test, condition='n', indexes=input_drop_indexes)"
   ]
  },
  {
   "cell_type": "code",
   "execution_count": 48,
   "id": "c9724e50",
   "metadata": {
    "scrolled": true
   },
   "outputs": [
    {
     "name": "stdout",
     "output_type": "stream",
     "text": [
      "Length of original dataframes: 5190\n",
      "Length of trimmed dataframes: 5190\n"
     ]
    }
   ],
   "source": [
    "features_test, target_test, conc_test = trim_rows(\n",
    "    features_test, target_test, conc_test, condition='n', indexes=rougher_drop_indexes)"
   ]
  },
  {
   "cell_type": "code",
   "execution_count": 49,
   "id": "f5ca0904",
   "metadata": {},
   "outputs": [
    {
     "name": "stdout",
     "output_type": "stream",
     "text": [
      "Length of original dataframes: 5190\n",
      "Length of trimmed dataframes: 5190\n"
     ]
    }
   ],
   "source": [
    "features_test, target_test, conc_test = trim_rows(\n",
    "    features_test, target_test, conc_test, condition='n', indexes=final_drop_indexes)"
   ]
  },
  {
   "cell_type": "markdown",
   "id": "ac38efa9",
   "metadata": {},
   "source": [
    "Outliers here have been removed."
   ]
  },
  {
   "cell_type": "markdown",
   "id": "d9d31e59-5d50-419d-abbb-f4cd774718ad",
   "metadata": {},
   "source": [
    "## Complete preprocessing"
   ]
  },
  {
   "cell_type": "markdown",
   "id": "cb2e7455-bfd8-437d-9d92-0d03714db2c6",
   "metadata": {},
   "source": [
    "Now that all other preprocessing steps have been completed and training/testing dataframes have been finalized, I will reset the indexes."
   ]
  },
  {
   "cell_type": "code",
   "execution_count": 50,
   "id": "4e2cbd1c-f6a2-412d-aeec-09692e7142f9",
   "metadata": {},
   "outputs": [],
   "source": [
    "features_train = features_train.reset_index(drop=True)\n",
    "target_train = target_train.reset_index(drop=True)\n",
    "\n",
    "features_test = features_test.reset_index(drop=True)\n",
    "target_test = target_test.reset_index(drop=True)"
   ]
  },
  {
   "cell_type": "markdown",
   "id": "d47591ce-0bc9-4117-baca-b5fdc5e6146e",
   "metadata": {
    "tags": [],
    "toc-hr-collapsed": true
   },
   "source": [
    "# Build Models"
   ]
  },
  {
   "cell_type": "markdown",
   "id": "59522a6d-1274-4f91-a88f-9affb6a448c8",
   "metadata": {},
   "source": [
    "Time to build the regression the models. I will try out a linear regression model and a random forest regressor model, and score them using cross-validation. I'll evaluate performance based on symmetric mean absolute percent error (sMAPE), select the model with the highest score, and test it on the test set to yield a final sMAPE score. "
   ]
  },
  {
   "cell_type": "markdown",
   "id": "3e0e6a72-f816-42f6-b26d-ab2bb6c5d495",
   "metadata": {
    "tags": []
   },
   "source": [
    "## Calculate sMAPE"
   ]
  },
  {
   "cell_type": "markdown",
   "id": "aae18962-9dc1-4464-b798-d3e4d5b0b714",
   "metadata": {},
   "source": [
    "Writing functions to calculate sMAPE and to combine the rougher and final sMAPE scores into a final score."
   ]
  },
  {
   "cell_type": "code",
   "execution_count": 51,
   "id": "9f03adc6-b6e3-4210-985c-637e6fb2a12b",
   "metadata": {},
   "outputs": [],
   "source": [
    "def calc_smape(actual, pred):\n",
    "    \n",
    "    \"\"\"\n",
    "    This function takes a series of answers and of predictions, and calculates symmetric mean absolute percentage error (sMAPE).\n",
    "        It returns the sMAPE value.\n",
    "    \"\"\"\n",
    "    \n",
    "    N = len(actual)\n",
    "    sum = 0\n",
    "    for i in range(N):\n",
    "        numerator = abs(actual[i] - pred[i]) * 100\n",
    "        denominator = (abs(actual[i]) + abs(pred[i])) / 2\n",
    "        sum += (numerator/denominator)\n",
    "    smape = sum / N\n",
    "    \n",
    "    return smape"
   ]
  },
  {
   "cell_type": "code",
   "execution_count": 52,
   "id": "70c3c7ee-c1fb-4998-81da-c55cea579f92",
   "metadata": {},
   "outputs": [],
   "source": [
    "def combine_smapes(rougher, final):\n",
    "    \n",
    "    \"\"\"\n",
    "    Calculates a combined sMAPE score using the rougher concentrate sMAPE and final concentrate sMAPE score as inputs.\n",
    "    \"\"\"\n",
    "    \n",
    "    return (0.25 * rougher) + (0.75 * final)"
   ]
  },
  {
   "cell_type": "markdown",
   "id": "1d2870b0-8588-4e63-a5eb-4bb50a5b5130",
   "metadata": {},
   "source": [
    "## Train/evaluate the models"
   ]
  },
  {
   "cell_type": "markdown",
   "id": "3a434b77-76a7-468d-9d1f-c4af2859dbd3",
   "metadata": {},
   "source": [
    "Normally I would use the cross-validation function offered by sklearn, but due to having several targets and a different type of score, I will need to use a more customizable version. Cross-validation will allow me to select the model with the lower sMAPE score. At that point I will train that model type on the entirety of the training data and then test it on the test set for a final tested sMAPE score. "
   ]
  },
  {
   "cell_type": "code",
   "execution_count": 53,
   "id": "3c4625f9-e898-4eb5-bc5d-de48d965506b",
   "metadata": {
    "tags": []
   },
   "outputs": [],
   "source": [
    "from lightgbm import LGBMRegressor\n",
    "\n",
    "\n",
    "def cross_val(features, targets, model_type, sets=5, n_estimators=10, max_depth=5):\n",
    "\n",
    "    \"\"\" \n",
    "    This function cross-validates regression models, calculates sMAPE using a separate function, and prints the average combined\n",
    "        sMAPE score.\n",
    "    \n",
    "    The features and targets dataframes are the first inputs, followed by 'LR' or 'RF' to train linear regression or random forest\n",
    "        regression models, respectively. The function, by default, uses five rotating sets for cross-validation, but this value \n",
    "        can be changed.\n",
    "    \"\"\"\n",
    "    \n",
    "    scores = []\n",
    "    sample_size = int(len(features)/sets)\n",
    "    \n",
    "    k = 0 # Create counter to count the number of for-loop iterations\n",
    "    \n",
    "    for i in range(0, len(features), sample_size):\n",
    "        valid_indexes = list(range(i, i + sample_size))\n",
    "        train_indexes = list(range(0, i)) + list(range(i + sample_size, len(features)))\n",
    "\n",
    "#         Split variables features and target into samples features_train, target_train, features_valid, target_valid\n",
    "        features_train = features.iloc[train_indexes].reset_index(drop=True)\n",
    "#         display(features_train)\n",
    "        features_valid = features.iloc[valid_indexes].reset_index(drop=True)\n",
    "#         display(features_valid)\n",
    "        target_train = targets.iloc[train_indexes].reset_index(drop=True)\n",
    "        target_valid = targets.iloc[valid_indexes].reset_index(drop=True)\n",
    "\n",
    "#         Build model and store predictions based on model type chosen\n",
    "        if model_type == 'LR':\n",
    "            model = LinearRegression()\n",
    "            model.fit(features_train, target_train)\n",
    "            pred = pd.DataFrame(model.predict(features_valid))\n",
    "        if model_type == 'RF':\n",
    "            model = RandomForestRegressor(max_features=1.0, n_estimators=n_estimators, max_depth=max_depth, random_state=0)\n",
    "            model.fit(features_train, target_train)\n",
    "            pred = pd.DataFrame(model.predict(features_valid))\n",
    "        if model_type == 'GB':\n",
    "            model = LGBMRegressor()\n",
    "            model.fit(features_train, target_train)\n",
    "            pred = pd.DataFrame(model.predict(features_valid))\n",
    "\n",
    "#         Store answers and specific predictions\n",
    "        rougher_recov_actual = target_valid['rougher.output.recovery']\n",
    "        final_recov_actual = target_valid['final.output.recovery']\n",
    "        rougher_recov_pred = pred.iloc[:,0]\n",
    "        final_recov_pred = pred.iloc[:,1]    \n",
    "\n",
    "#         Calculate sMAPE\n",
    "        rougher_smape = calc_smape(rougher_recov_actual, rougher_recov_pred)\n",
    "        final_smape = calc_smape(final_recov_actual, final_recov_pred)\n",
    "        combined_smape = combine_smapes(rougher_smape, final_smape)\n",
    "    \n",
    "        scores.append(combined_smape)\n",
    "        \n",
    "#         Break loop when number of desired sets is reached\n",
    "        k += 1\n",
    "        if k == sets:\n",
    "            break\n",
    "            \n",
    "    final_score = round(pd.Series(scores).mean(), 2)\n",
    "    print(f'Average model symmetric mean percent error: {final_score}%')"
   ]
  },
  {
   "cell_type": "markdown",
   "id": "353dae8c-9728-43c7-b0f2-fc29116cc2cf",
   "metadata": {},
   "source": [
    "Let's use this function to find the average combined sMAPE for a linear regression model."
   ]
  },
  {
   "cell_type": "code",
   "execution_count": 54,
   "id": "de161f81-ad03-4ae4-be07-f59b9aa54dab",
   "metadata": {},
   "outputs": [
    {
     "name": "stdout",
     "output_type": "stream",
     "text": [
      "Average model symmetric mean percent error: 7.4%\n",
      "CPU times: user 869 ms, sys: 664 ms, total: 1.53 s\n",
      "Wall time: 1.52 s\n"
     ]
    }
   ],
   "source": [
    "%%time\n",
    "cross_val(features_train, target_train, 'LR')"
   ]
  },
  {
   "cell_type": "markdown",
   "id": "deb6aaec-f4dc-4944-9056-9999bf007d26",
   "metadata": {},
   "source": [
    "And now for the random forest regression model. I will first loop through max_depth values with a low, constant n_estimators value and then choose the max_depth that yields the lowest sMAPE. If the sMAPE for multiple options are very close, I may choose hyperparameters that require less processing power/runtime. After that I will loop through some n_estimators values with the constant max_depth that performed best in the first loop. Breaking this process into two independent loops should cut down on overall runtime."
   ]
  },
  {
   "cell_type": "code",
   "execution_count": 55,
   "id": "79a8dcf4-ac33-4983-94fc-7e8dae413e90",
   "metadata": {},
   "outputs": [
    {
     "name": "stdout",
     "output_type": "stream",
     "text": [
      "max_depth: 15\n",
      "Average model symmetric mean percent error: 5.24%\n",
      "max_depth: 16\n",
      "Average model symmetric mean percent error: 5.21%\n",
      "max_depth: 17\n",
      "Average model symmetric mean percent error: 5.18%\n",
      "max_depth: 18\n",
      "Average model symmetric mean percent error: 5.14%\n",
      "max_depth: 19\n",
      "Average model symmetric mean percent error: 5.14%\n",
      "max_depth: 20\n",
      "Average model symmetric mean percent error: 5.12%\n"
     ]
    }
   ],
   "source": [
    "for depth in range(15,21,1):\n",
    "    print(f'max_depth: {depth}')\n",
    "    cross_val(features_train, target_train, 'RF', n_estimators=20, max_depth=depth, sets=4)"
   ]
  },
  {
   "cell_type": "markdown",
   "id": "9d9cd28a",
   "metadata": {},
   "source": [
    "I don't want to risk overfitting the model, so I don't want to continue trying max_depths past 20. The gains in performance as the max_depth approaches 20 are small. I will choose 20 as my preferred max_depth."
   ]
  },
  {
   "cell_type": "code",
   "execution_count": 56,
   "id": "5a131c89",
   "metadata": {
    "scrolled": true
   },
   "outputs": [
    {
     "name": "stdout",
     "output_type": "stream",
     "text": [
      "n_estimators: 40\n",
      "Average model symmetric mean percent error: 5.0%\n",
      "n_estimators: 50\n",
      "Average model symmetric mean percent error: 4.98%\n",
      "n_estimators: 60\n",
      "Average model symmetric mean percent error: 4.97%\n",
      "n_estimators: 70\n",
      "Average model symmetric mean percent error: 4.96%\n",
      "n_estimators: 80\n",
      "Average model symmetric mean percent error: 4.95%\n"
     ]
    }
   ],
   "source": [
    "for n_est in range(40,81,10):\n",
    "    print(f'n_estimators: {n_est}')\n",
    "    cross_val(features_train, target_train, 'RF', n_estimators=n_est, max_depth=20, sets=4)"
   ]
  },
  {
   "cell_type": "markdown",
   "id": "6c3df3a7",
   "metadata": {},
   "source": [
    "As with the search for the optimal max_depth above, the performance gained by additional trees seems to flatten off. I will use 80 trees as my n_estimators value, along with the max_depth of 20 from above."
   ]
  },
  {
   "cell_type": "markdown",
   "id": "1373f0bf-6a74-49c5-a05f-68b3bd74ec39",
   "metadata": {},
   "source": [
    "The random forest regression model has a distinctly lower sMAPE than that for linear regression, at 4.95%, so I will use that model type. I will train the random forest regression model on the complete training set, then find the sMAPE on the test set."
   ]
  },
  {
   "cell_type": "code",
   "execution_count": 57,
   "id": "ff005c99-cb4b-4299-9214-e16a457b4c2f",
   "metadata": {},
   "outputs": [
    {
     "name": "stdout",
     "output_type": "stream",
     "text": [
      "Combined sMAPE: 7.53%\n"
     ]
    }
   ],
   "source": [
    "model_forest = RandomForestRegressor(max_features=1.0, n_estimators=80, max_depth=20, random_state=0)\n",
    "model_forest.fit(features_train, target_train)\n",
    "pred = pd.DataFrame(model_forest.predict(features_test))\n",
    "\n",
    "rougher_recov_actual = target_test['rougher.output.recovery']\n",
    "final_recov_actual = target_test['final.output.recovery']\n",
    "rougher_recov_pred = pred.iloc[:,0]\n",
    "final_recov_pred = pred.iloc[:,1]      \n",
    "        \n",
    "#         Calculate sMAPE\n",
    "rougher_smape = calc_smape(rougher_recov_actual, rougher_recov_pred)\n",
    "final_smape = calc_smape(final_recov_actual, final_recov_pred)\n",
    "combined_smape = combine_smapes(rougher_smape, final_smape)\n",
    "\n",
    "print(f'Combined sMAPE: {round(combined_smape, 2)}%')"
   ]
  },
  {
   "cell_type": "markdown",
   "id": "694fec10-bd92-45b7-b25e-ae04bb447bc7",
   "metadata": {},
   "source": [
    "The tested combined sMAPE is somewhat higher than it was for the cross-validated set, but it is still below 10%, which seems acceptable, as Zyfra did not list any requirements for maximum tested sMAPE allowed in a working model. The random forest model does take longer to train than the linear regression model did, but the runtime itself is not egregious."
   ]
  },
  {
   "cell_type": "markdown",
   "id": "57cefe65",
   "metadata": {},
   "source": [
    "Let's determine the sMAPE for a dummy model and compare that error with our tested error and our cross-validated error."
   ]
  },
  {
   "cell_type": "code",
   "execution_count": 58,
   "id": "14d7453a",
   "metadata": {},
   "outputs": [
    {
     "name": "stdout",
     "output_type": "stream",
     "text": [
      "Combined sMAPE with mean: 7.67%\n",
      "Combined sMAPE with median: 7.23%\n"
     ]
    }
   ],
   "source": [
    "for strategy in ['mean', 'median']:    \n",
    "    dummy_regr = DummyRegressor(strategy=strategy)\n",
    "    dummy_regr.fit(features_train, target_train)\n",
    "    pred = pd.DataFrame(dummy_regr.predict(features_test))\n",
    "\n",
    "    rougher_recov_actual = target_test['rougher.output.recovery']\n",
    "    final_recov_actual = target_test['final.output.recovery']\n",
    "    rougher_recov_pred = pred.iloc[:,0]\n",
    "    final_recov_pred = pred.iloc[:,1]      \n",
    "\n",
    "    #         Calculate sMAPE\n",
    "    rougher_smape = calc_smape(rougher_recov_actual, rougher_recov_pred)\n",
    "    final_smape = calc_smape(final_recov_actual, final_recov_pred)\n",
    "    combined_smape = combine_smapes(rougher_smape, final_smape)\n",
    "\n",
    "    print(f'Combined sMAPE with {strategy}: {round(combined_smape, 2)}%')"
   ]
  },
  {
   "cell_type": "markdown",
   "id": "6663a721",
   "metadata": {},
   "source": [
    "The tested sMAPE of 7.53% is slightly lower than the dummy sMAPE of 7.67% when using the mean, but slightly higher than the dummy sMAPE of 7.23% when using the median. The cross-validated sMAPE of 4.95% is distinctly lower than either dummy error. Therefore, the model seems to perform around or better than simply predicting using the mean or median as predictions."
   ]
  },
  {
   "cell_type": "code",
   "execution_count": 59,
   "id": "e9c4ec7e-4345-4c00-9cf9-abadce82e1fa",
   "metadata": {},
   "outputs": [
    {
     "data": {
      "text/plain": [
       "['ZyfraGoldRecoveryPredictor.joblib']"
      ]
     },
     "execution_count": 59,
     "metadata": {},
     "output_type": "execute_result"
    }
   ],
   "source": [
    "# Save the model to a joblib file for further use\n",
    "dump(model_forest, 'ZyfraGoldRecoveryPredictor.joblib')"
   ]
  },
  {
   "cell_type": "markdown",
   "id": "0dd229be-4e50-45ec-99af-b8a4754fef8c",
   "metadata": {},
   "source": [
    "# Conclusion"
   ]
  },
  {
   "cell_type": "markdown",
   "id": "65fa9e38-2334-41e4-a862-152cabe4e322",
   "metadata": {},
   "source": [
    "I received three datasets from Zyfra - one full dataset, and training and test sets already split up for me. The test set contained only features that would be available to the company at the beginning of the extraction process, so I had to revise the training set to reflect only those features. The aim was to build a model to predict gold concentrate recovery at the rougher stage and at the final stage of extraction, using symmetric mean absolute percent error for both recoveries and finding a weighted average of them. The recovery included with the data needed to make sense, so I calculated the recovery using a given equation, which matched the recovery in the dataset. I looked at the concentrations of metals at each stage of the process, and filtered out observations that made no sense. I evaluated the distributions of feed size in the training and test sets to make sure they were similar. Beyond that, I dropped missing values after trimming my training and testing datasets to preserve as many observations as possible.\n",
    "\n",
    "I cross-validated linear regression and random forest regression models, finding that the random forest model had lower error, with a sMAPE of 4.95%. I trained this model with the same hyperparameters on the full training set and tested it, yielding a 7.53% sMAPE. Zyfra provided no requirements for sMAPE, but the model was compared with a dummy model with mean/median predictions, and the tested model performed slightly worse than the dummy model using the median. However, the cross-validated sMAPE on the model was distrinctly less than the sMAPE for either dummy model, demonstrating the model should perform at around the same level as or better than a dummy model. I saved the random forest model to a .joblib file for further use by the company."
   ]
  }
 ],
 "metadata": {
  "kernelspec": {
   "display_name": "Python 3 (ipykernel)",
   "language": "python",
   "name": "python3"
  },
  "language_info": {
   "codemirror_mode": {
    "name": "ipython",
    "version": 3
   },
   "file_extension": ".py",
   "mimetype": "text/x-python",
   "name": "python",
   "nbconvert_exporter": "python",
   "pygments_lexer": "ipython3",
   "version": "3.9.18"
  },
  "toc": {
   "base_numbering": 1,
   "nav_menu": {},
   "number_sections": true,
   "sideBar": true,
   "skip_h1_title": true,
   "title_cell": "Table of Contents",
   "title_sidebar": "Contents",
   "toc_cell": false,
   "toc_position": {
    "height": "calc(100% - 180px)",
    "left": "10px",
    "top": "150px",
    "width": "295.837px"
   },
   "toc_section_display": true,
   "toc_window_display": false
  }
 },
 "nbformat": 4,
 "nbformat_minor": 5
}
